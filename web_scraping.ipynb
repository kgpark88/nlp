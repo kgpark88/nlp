{
  "nbformat": 4,
  "nbformat_minor": 0,
  "metadata": {
    "colab": {
      "name": "web_scraping.ipynb",
      "provenance": [],
      "collapsed_sections": []
    },
    "kernelspec": {
      "name": "python3",
      "display_name": "Python 3"
    },
    "language_info": {
      "name": "python"
    }
  },
  "cells": [
    {
      "cell_type": "markdown",
      "metadata": {
        "id": "jy3ChsAOOZLD"
      },
      "source": [
        "https://www.dataquest.io/blog/web-scraping-python-using-beautiful-soup/"
      ]
    },
    {
      "cell_type": "markdown",
      "metadata": {
        "id": "i0HKZlaYQipq"
      },
      "source": [
        "# The requests library"
      ]
    },
    {
      "cell_type": "code",
      "metadata": {
        "colab": {
          "base_uri": "https://localhost:8080/"
        },
        "id": "n35ENg8HOYTi",
        "outputId": "aa07a387-d478-4894-c8ab-476b8d0fbc12"
      },
      "source": [
        "import requests\n",
        "\n",
        "url = \"http://dataquestio.github.io/web-scraping-pages/simple.html\"\n",
        "page = requests.get(url)\n",
        "print(page)\n",
        "print(page.status_code)\n",
        "print(page.content)"
      ],
      "execution_count": 10,
      "outputs": [
        {
          "output_type": "stream",
          "text": [
            "<Response [200]>\n",
            "200\n",
            "b'<!DOCTYPE html>\\n<html>\\n    <head>\\n        <title>A simple example page</title>\\n    </head>\\n    <body>\\n        <p>Here is some simple content for this page.</p>\\n    </body>\\n</html>'\n"
          ],
          "name": "stdout"
        }
      ]
    },
    {
      "cell_type": "code",
      "metadata": {
        "colab": {
          "base_uri": "https://localhost:8080/"
        },
        "id": "JPOWamShObth",
        "outputId": "2a8265f1-43cc-43e7-c444-a53fc4bf721b"
      },
      "source": [
        "page.content"
      ],
      "execution_count": 9,
      "outputs": [
        {
          "output_type": "execute_result",
          "data": {
            "text/plain": [
              "b'<!DOCTYPE html>\\n<html>\\n    <head>\\n        <title>A simple example page</title>\\n    </head>\\n    <body>\\n        <p>Here is some simple content for this page.</p>\\n    </body>\\n</html>'"
            ]
          },
          "metadata": {
            "tags": []
          },
          "execution_count": 9
        }
      ]
    },
    {
      "cell_type": "markdown",
      "metadata": {
        "id": "20jWrrAPQdR2"
      },
      "source": [
        "# Parsing a page with BeautifulSoup"
      ]
    },
    {
      "cell_type": "code",
      "metadata": {
        "colab": {
          "base_uri": "https://localhost:8080/"
        },
        "id": "Wip8Pa7iPyVs",
        "outputId": "6e48c33f-fb4c-4329-b0a2-190d8d9e1336"
      },
      "source": [
        "from bs4 import BeautifulSoup\n",
        "\n",
        "soup = BeautifulSoup(page.content, 'html.parser')\n",
        "print(soup.prettify())\n"
      ],
      "execution_count": 12,
      "outputs": [
        {
          "output_type": "stream",
          "text": [
            "<!DOCTYPE html>\n",
            "<html>\n",
            " <head>\n",
            "  <title>\n",
            "   A simple example page\n",
            "  </title>\n",
            " </head>\n",
            " <body>\n",
            "  <p>\n",
            "   Here is some simple content for this page.\n",
            "  </p>\n",
            " </body>\n",
            "</html>\n"
          ],
          "name": "stdout"
        }
      ]
    },
    {
      "cell_type": "code",
      "metadata": {
        "colab": {
          "base_uri": "https://localhost:8080/"
        },
        "id": "-ShkqVaZQpnl",
        "outputId": "5dd53e91-2efd-4168-91ac-d71c5a8f1986"
      },
      "source": [
        "list(soup.children)"
      ],
      "execution_count": 13,
      "outputs": [
        {
          "output_type": "execute_result",
          "data": {
            "text/plain": [
              "['html', '\\n', <html>\n",
              " <head>\n",
              " <title>A simple example page</title>\n",
              " </head>\n",
              " <body>\n",
              " <p>Here is some simple content for this page.</p>\n",
              " </body>\n",
              " </html>]"
            ]
          },
          "metadata": {
            "tags": []
          },
          "execution_count": 13
        }
      ]
    },
    {
      "cell_type": "code",
      "metadata": {
        "colab": {
          "base_uri": "https://localhost:8080/"
        },
        "id": "VscQdNDdRMGP",
        "outputId": "9321e60f-ef85-496c-adee-aedc66b574c8"
      },
      "source": [
        "[type(item) for item in list(soup.children)]"
      ],
      "execution_count": 14,
      "outputs": [
        {
          "output_type": "execute_result",
          "data": {
            "text/plain": [
              "[bs4.element.Doctype, bs4.element.NavigableString, bs4.element.Tag]"
            ]
          },
          "metadata": {
            "tags": []
          },
          "execution_count": 14
        }
      ]
    },
    {
      "cell_type": "code",
      "metadata": {
        "colab": {
          "base_uri": "https://localhost:8080/"
        },
        "id": "LeRyKMfzRQnl",
        "outputId": "9e36b2ff-f2db-467b-b096-1f7abbe78253"
      },
      "source": [
        "html = list(soup.children)\n",
        "list(html.children)"
      ],
      "execution_count": 17,
      "outputs": [
        {
          "output_type": "execute_result",
          "data": {
            "text/plain": [
              "['\\n', <head>\n",
              " <title>A simple example page</title>\n",
              " </head>, '\\n', <body>\n",
              " <p>Here is some simple content for this page.</p>\n",
              " </body>, '\\n']"
            ]
          },
          "metadata": {
            "tags": []
          },
          "execution_count": 17
        }
      ]
    },
    {
      "cell_type": "code",
      "metadata": {
        "colab": {
          "base_uri": "https://localhost:8080/"
        },
        "id": "EYAY0nVMR57A",
        "outputId": "1d6bc3b1-8dba-48cd-fe38-b648d0520e4a"
      },
      "source": [
        "list(soup.children)[2]"
      ],
      "execution_count": 21,
      "outputs": [
        {
          "output_type": "execute_result",
          "data": {
            "text/plain": [
              "<html>\n",
              "<head>\n",
              "<title>A simple example page</title>\n",
              "</head>\n",
              "<body>\n",
              "<p>Here is some simple content for this page.</p>\n",
              "</body>\n",
              "</html>"
            ]
          },
          "metadata": {
            "tags": []
          },
          "execution_count": 21
        }
      ]
    },
    {
      "cell_type": "code",
      "metadata": {
        "colab": {
          "base_uri": "https://localhost:8080/"
        },
        "id": "hbxrEDWCR97o",
        "outputId": "eebf09ad-5f7c-4938-dc4e-13e4bada9c84"
      },
      "source": [
        "body = list(html.children)[3]\n",
        "list(body.children)"
      ],
      "execution_count": 24,
      "outputs": [
        {
          "output_type": "execute_result",
          "data": {
            "text/plain": [
              "['\\n', <p>Here is some simple content for this page.</p>, '\\n']"
            ]
          },
          "metadata": {
            "tags": []
          },
          "execution_count": 24
        }
      ]
    },
    {
      "cell_type": "code",
      "metadata": {
        "id": "V6HIPC8dSXmP"
      },
      "source": [
        ""
      ],
      "execution_count": null,
      "outputs": []
    },
    {
      "cell_type": "code",
      "metadata": {
        "id": "Vjn9M7hfSK95"
      },
      "source": [
        "p = list(body.children)[1]"
      ],
      "execution_count": 25,
      "outputs": []
    },
    {
      "cell_type": "code",
      "metadata": {
        "colab": {
          "base_uri": "https://localhost:8080/",
          "height": 35
        },
        "id": "-S-oDMxwSUjY",
        "outputId": "63922daa-49c1-40f9-9c6f-f2661b9533ca"
      },
      "source": [
        "p.get_text()"
      ],
      "execution_count": 26,
      "outputs": [
        {
          "output_type": "execute_result",
          "data": {
            "application/vnd.google.colaboratory.intrinsic+json": {
              "type": "string"
            },
            "text/plain": [
              "'Here is some simple content for this page.'"
            ]
          },
          "metadata": {
            "tags": []
          },
          "execution_count": 26
        }
      ]
    },
    {
      "cell_type": "markdown",
      "metadata": {
        "id": "cy412Ek0SZ8_"
      },
      "source": [
        "# Finding all instances of a tag at once"
      ]
    },
    {
      "cell_type": "code",
      "metadata": {
        "colab": {
          "base_uri": "https://localhost:8080/"
        },
        "id": "Lz1mF8YWSWPT",
        "outputId": "2f3d6419-a794-441f-c4fb-f491013d2c3b"
      },
      "source": [
        "soup = BeautifulSoup(page.content, 'html.parser')\n",
        "soup.find_all('p')"
      ],
      "execution_count": 27,
      "outputs": [
        {
          "output_type": "execute_result",
          "data": {
            "text/plain": [
              "[<p>Here is some simple content for this page.</p>]"
            ]
          },
          "metadata": {
            "tags": []
          },
          "execution_count": 27
        }
      ]
    },
    {
      "cell_type": "code",
      "metadata": {
        "colab": {
          "base_uri": "https://localhost:8080/",
          "height": 35
        },
        "id": "A5A7rzngSeRp",
        "outputId": "9974706c-8913-4a63-dc1d-54fb4e927d44"
      },
      "source": [
        "soup.find_all('p')[0].get_text()"
      ],
      "execution_count": 28,
      "outputs": [
        {
          "output_type": "execute_result",
          "data": {
            "application/vnd.google.colaboratory.intrinsic+json": {
              "type": "string"
            },
            "text/plain": [
              "'Here is some simple content for this page.'"
            ]
          },
          "metadata": {
            "tags": []
          },
          "execution_count": 28
        }
      ]
    },
    {
      "cell_type": "code",
      "metadata": {
        "colab": {
          "base_uri": "https://localhost:8080/"
        },
        "id": "bB3JPx77SgWM",
        "outputId": "071855a2-f7b4-4126-d607-efc81e7414fb"
      },
      "source": [
        "soup.find('p')"
      ],
      "execution_count": 29,
      "outputs": [
        {
          "output_type": "execute_result",
          "data": {
            "text/plain": [
              "<p>Here is some simple content for this page.</p>"
            ]
          },
          "metadata": {
            "tags": []
          },
          "execution_count": 29
        }
      ]
    },
    {
      "cell_type": "markdown",
      "metadata": {
        "id": "IEptG7n1SpsE"
      },
      "source": [
        "# Searching for tags by class and id"
      ]
    },
    {
      "cell_type": "code",
      "metadata": {
        "colab": {
          "base_uri": "https://localhost:8080/"
        },
        "id": "Des3ZGpASm8x",
        "outputId": "af4b1bc2-c80d-4b2a-f12a-d60b69af11d9"
      },
      "source": [
        "url = \"http://dataquestio.github.io/web-scraping-pages/ids_and_classes.html\"\n",
        "page = requests.get(url)\n",
        "soup = BeautifulSoup(page.content, 'html.parser')\n",
        "print(soup)"
      ],
      "execution_count": 32,
      "outputs": [
        {
          "output_type": "stream",
          "text": [
            "<html>\n",
            "<head>\n",
            "<title>A simple example page</title>\n",
            "</head>\n",
            "<body>\n",
            "<div>\n",
            "<p class=\"inner-text first-item\" id=\"first\">\n",
            "                First paragraph.\n",
            "            </p>\n",
            "<p class=\"inner-text\">\n",
            "                Second paragraph.\n",
            "            </p>\n",
            "</div>\n",
            "<p class=\"outer-text first-item\" id=\"second\">\n",
            "<b>\n",
            "                First outer paragraph.\n",
            "            </b>\n",
            "</p>\n",
            "<p class=\"outer-text\">\n",
            "<b>\n",
            "                Second outer paragraph.\n",
            "            </b>\n",
            "</p>\n",
            "</body>\n",
            "</html>\n"
          ],
          "name": "stdout"
        }
      ]
    },
    {
      "cell_type": "code",
      "metadata": {
        "colab": {
          "base_uri": "https://localhost:8080/"
        },
        "id": "J70Tfq9-Svew",
        "outputId": "666025bc-3b6a-40d9-d9eb-99bd9765b762"
      },
      "source": [
        "soup.find_all('p', class_='outer-text')"
      ],
      "execution_count": 33,
      "outputs": [
        {
          "output_type": "execute_result",
          "data": {
            "text/plain": [
              "[<p class=\"outer-text first-item\" id=\"second\">\n",
              " <b>\n",
              "                 First outer paragraph.\n",
              "             </b>\n",
              " </p>, <p class=\"outer-text\">\n",
              " <b>\n",
              "                 Second outer paragraph.\n",
              "             </b>\n",
              " </p>]"
            ]
          },
          "metadata": {
            "tags": []
          },
          "execution_count": 33
        }
      ]
    },
    {
      "cell_type": "code",
      "metadata": {
        "colab": {
          "base_uri": "https://localhost:8080/"
        },
        "id": "UOuoODLsS7HW",
        "outputId": "b3550f0e-17a9-4694-891e-0bc79fefd0be"
      },
      "source": [
        "soup.find_all(class_=\"outer-text\")"
      ],
      "execution_count": 34,
      "outputs": [
        {
          "output_type": "execute_result",
          "data": {
            "text/plain": [
              "[<p class=\"outer-text first-item\" id=\"second\">\n",
              " <b>\n",
              "                 First outer paragraph.\n",
              "             </b>\n",
              " </p>, <p class=\"outer-text\">\n",
              " <b>\n",
              "                 Second outer paragraph.\n",
              "             </b>\n",
              " </p>]"
            ]
          },
          "metadata": {
            "tags": []
          },
          "execution_count": 34
        }
      ]
    },
    {
      "cell_type": "code",
      "metadata": {
        "colab": {
          "base_uri": "https://localhost:8080/"
        },
        "id": "TTOXMtyATD-y",
        "outputId": "0ba2da3d-0415-4595-cd28-fdf130377bfe"
      },
      "source": [
        "soup.find_all(id=\"first\")"
      ],
      "execution_count": 35,
      "outputs": [
        {
          "output_type": "execute_result",
          "data": {
            "text/plain": [
              "[<p class=\"inner-text first-item\" id=\"first\">\n",
              "                 First paragraph.\n",
              "             </p>]"
            ]
          },
          "metadata": {
            "tags": []
          },
          "execution_count": 35
        }
      ]
    },
    {
      "cell_type": "markdown",
      "metadata": {
        "id": "Yk_UFrrjTH6I"
      },
      "source": [
        "# Using CSS Selectors\n",
        "- p a — finds all a tags inside of a p tag.\n",
        "- body p a — finds all a tags inside of a p tag inside of a body tag.\n",
        "- html body — finds all body tags inside of an html tag.\n",
        "- p.outer-text — finds all p tags with a class of outer-text.\n",
        "- p#first — finds all p tags with an id of first.\n",
        "- body p.outer-text — finds any p tags with a class of outer-text inside of a body tag."
      ]
    },
    {
      "cell_type": "code",
      "metadata": {
        "colab": {
          "base_uri": "https://localhost:8080/"
        },
        "id": "e0lrVTR9TF7m",
        "outputId": "8b236e25-8d15-499b-b61b-18fd0c998e8c"
      },
      "source": [
        "soup.select(\"div p\")"
      ],
      "execution_count": 36,
      "outputs": [
        {
          "output_type": "execute_result",
          "data": {
            "text/plain": [
              "[<p class=\"inner-text first-item\" id=\"first\">\n",
              "                 First paragraph.\n",
              "             </p>, <p class=\"inner-text\">\n",
              "                 Second paragraph.\n",
              "             </p>]"
            ]
          },
          "metadata": {
            "tags": []
          },
          "execution_count": 36
        }
      ]
    },
    {
      "cell_type": "markdown",
      "metadata": {
        "id": "jiM8_B3QTXfZ"
      },
      "source": [
        "# Downloading weather data"
      ]
    },
    {
      "cell_type": "markdown",
      "metadata": {
        "id": "3i3vHsTzVFqs"
      },
      "source": [
        "- Download the web page containing the forecast.  \n",
        "- Create a BeautifulSoup class to parse the page.  \n",
        "- Find the div with id seven-day-forecast, and assign to seven_day  \n",
        "- Inside seven_day, find each individual forecast item.\n",
        "Extract and print the first forecast item."
      ]
    },
    {
      "cell_type": "code",
      "metadata": {
        "colab": {
          "base_uri": "https://localhost:8080/"
        },
        "id": "k2gsEI_gTVe3",
        "outputId": "39f9f654-6d4c-4d88-b153-8dd90ccb7c74"
      },
      "source": [
        "url = \"http://forecast.weather.gov/MapClick.php?lat=37.7772&lon=-122.4168\"\n",
        "page = requests.get(url)\n",
        "soup = BeautifulSoup(page.content, 'html.parser')\n",
        "seven_day = soup.find(id=\"seven-day-forecast\")\n",
        "forecast_items = seven_day.find_all(class_=\"tombstone-container\")\n",
        "tonight = forecast_items[0]\n",
        "print(tonight.prettify())"
      ],
      "execution_count": 38,
      "outputs": [
        {
          "output_type": "stream",
          "text": [
            "<div class=\"tombstone-container\">\n",
            " <p class=\"period-name\">\n",
            "  Today\n",
            "  <br/>\n",
            "  <br/>\n",
            " </p>\n",
            " <p>\n",
            "  <img alt=\"Today: Sunny, with a high near 80. Calm wind becoming west 5 to 9 mph in the afternoon. \" class=\"forecast-icon\" src=\"newimages/medium/skc.png\" title=\"Today: Sunny, with a high near 80. Calm wind becoming west 5 to 9 mph in the afternoon. \"/>\n",
            " </p>\n",
            " <p class=\"short-desc\">\n",
            "  Sunny\n",
            " </p>\n",
            " <p class=\"temp temp-high\">\n",
            "  High: 80 °F\n",
            " </p>\n",
            "</div>\n"
          ],
          "name": "stdout"
        }
      ]
    },
    {
      "cell_type": "markdown",
      "metadata": {
        "id": "SMzIkhc0Vf4t"
      },
      "source": [
        "# Extracting information from the page"
      ]
    },
    {
      "cell_type": "code",
      "metadata": {
        "colab": {
          "base_uri": "https://localhost:8080/"
        },
        "id": "CMa0mjvSVUAz",
        "outputId": "e207bb57-2b46-482d-893b-f6a32396db6f"
      },
      "source": [
        "period = tonight.find(class_=\"period-name\").get_text()\n",
        "short_desc = tonight.find(class_=\"short-desc\").get_text()\n",
        "temp = tonight.find(class_=\"temp\").get_text()\n",
        "print(period)\n",
        "print(short_desc)\n",
        "print(temp)"
      ],
      "execution_count": 39,
      "outputs": [
        {
          "output_type": "stream",
          "text": [
            "Today\n",
            "Sunny\n",
            "High: 80 °F\n"
          ],
          "name": "stdout"
        }
      ]
    },
    {
      "cell_type": "code",
      "metadata": {
        "colab": {
          "base_uri": "https://localhost:8080/"
        },
        "id": "ni77NJwNVjzM",
        "outputId": "43e8d248-19f3-4d1d-cf6c-ae2ace189fbd"
      },
      "source": [
        "img = tonight.find(\"img\")\n",
        "desc = img['title']\n",
        "print(desc)"
      ],
      "execution_count": 40,
      "outputs": [
        {
          "output_type": "stream",
          "text": [
            "Today: Sunny, with a high near 80. Calm wind becoming west 5 to 9 mph in the afternoon. \n"
          ],
          "name": "stdout"
        }
      ]
    },
    {
      "cell_type": "markdown",
      "metadata": {
        "id": "SNAfnCxsVxH4"
      },
      "source": [
        ""
      ]
    },
    {
      "cell_type": "markdown",
      "metadata": {
        "id": "mQwz34i2V3KQ"
      },
      "source": [
        "# Extracting all the information from the page"
      ]
    },
    {
      "cell_type": "code",
      "metadata": {
        "colab": {
          "base_uri": "https://localhost:8080/"
        },
        "id": "a4i4_l5gVq8O",
        "outputId": "40f6f676-657a-4311-ae15-378280128a53"
      },
      "source": [
        "period_tags = seven_day.select(\".tombstone-container .period-name\")\n",
        "periods = [pt.get_text() for pt in period_tags]\n",
        "print(periods)"
      ],
      "execution_count": 42,
      "outputs": [
        {
          "output_type": "stream",
          "text": [
            "['Today', 'Tonight', 'Friday', 'FridayNight', 'Saturday', 'SaturdayNight', 'Sunday', 'SundayNight', 'Monday']\n"
          ],
          "name": "stdout"
        }
      ]
    },
    {
      "cell_type": "code",
      "metadata": {
        "colab": {
          "base_uri": "https://localhost:8080/"
        },
        "id": "WI0_TpxSV5CW",
        "outputId": "26725eda-fc42-4a39-a476-898aa899e756"
      },
      "source": [
        "short_descs = [sd.get_text() for sd in seven_day.select(\".tombstone-container .short-desc\")]\n",
        "temps = [t.get_text() for t in seven_day.select(\".tombstone-container .temp\")]\n",
        "descs = [d[\"title\"] for d in seven_day.select(\".tombstone-container img\")]\n",
        "print(short_descs)\n",
        "print(temps)\n",
        "print(descs)"
      ],
      "execution_count": 49,
      "outputs": [
        {
          "output_type": "stream",
          "text": [
            "['Sunny', 'Mostly Clear', 'Mostly Sunny', 'Partly Cloudy', 'Partly Sunny', 'Mostly Cloudy', 'Mostly Sunny', 'Slight ChanceRain', 'Chance Rain']\n",
            "['High: 80 °F', 'Low: 48 °F', 'High: 67 °F', 'Low: 48 °F', 'High: 62 °F', 'Low: 50 °F', 'High: 63 °F', 'Low: 50 °F', 'High: 62 °F']\n",
            "['Today: Sunny, with a high near 80. Calm wind becoming west 5 to 9 mph in the afternoon. ', 'Tonight: Mostly clear, with a low around 48. West wind 5 to 10 mph becoming light west southwest  after midnight. ', 'Friday: Mostly sunny, with a high near 67. Calm wind becoming west 5 to 9 mph in the afternoon. ', 'Friday Night: Partly cloudy, with a low around 48. West wind 5 to 10 mph. ', 'Saturday: Partly sunny, with a high near 62. West southwest wind 6 to 13 mph. ', 'Saturday Night: Mostly cloudy, with a low around 50.', 'Sunday: Mostly sunny, with a high near 63.', 'Sunday Night: A slight chance of rain.  Partly cloudy, with a low around 50.', 'Monday: A chance of rain.  Partly sunny, with a high near 62.']\n"
          ],
          "name": "stdout"
        }
      ]
    },
    {
      "cell_type": "markdown",
      "metadata": {
        "id": "U4eB7daGWm5r"
      },
      "source": [
        "# Combining our data into a Pandas Dataframe"
      ]
    },
    {
      "cell_type": "code",
      "metadata": {
        "colab": {
          "base_uri": "https://localhost:8080/",
          "height": 318
        },
        "id": "HaWL1kahWZ5C",
        "outputId": "4765213c-0b39-4d5f-fa8b-99793cead494"
      },
      "source": [
        "import pandas as pd\n",
        "\n",
        "weather = pd.DataFrame({\n",
        "    \"period\": periods,\n",
        "    \"short_desc\": short_descs,\n",
        "    \"temp\": temps,\n",
        "    \"desc\":descs\n",
        "})\n",
        "weather"
      ],
      "execution_count": 50,
      "outputs": [
        {
          "output_type": "execute_result",
          "data": {
            "text/html": [
              "<div>\n",
              "<style scoped>\n",
              "    .dataframe tbody tr th:only-of-type {\n",
              "        vertical-align: middle;\n",
              "    }\n",
              "\n",
              "    .dataframe tbody tr th {\n",
              "        vertical-align: top;\n",
              "    }\n",
              "\n",
              "    .dataframe thead th {\n",
              "        text-align: right;\n",
              "    }\n",
              "</style>\n",
              "<table border=\"1\" class=\"dataframe\">\n",
              "  <thead>\n",
              "    <tr style=\"text-align: right;\">\n",
              "      <th></th>\n",
              "      <th>period</th>\n",
              "      <th>short_desc</th>\n",
              "      <th>temp</th>\n",
              "      <th>desc</th>\n",
              "    </tr>\n",
              "  </thead>\n",
              "  <tbody>\n",
              "    <tr>\n",
              "      <th>0</th>\n",
              "      <td>Today</td>\n",
              "      <td>Sunny</td>\n",
              "      <td>High: 80 °F</td>\n",
              "      <td>Today: Sunny, with a high near 80. Calm wind b...</td>\n",
              "    </tr>\n",
              "    <tr>\n",
              "      <th>1</th>\n",
              "      <td>Tonight</td>\n",
              "      <td>Mostly Clear</td>\n",
              "      <td>Low: 48 °F</td>\n",
              "      <td>Tonight: Mostly clear, with a low around 48. W...</td>\n",
              "    </tr>\n",
              "    <tr>\n",
              "      <th>2</th>\n",
              "      <td>Friday</td>\n",
              "      <td>Mostly Sunny</td>\n",
              "      <td>High: 67 °F</td>\n",
              "      <td>Friday: Mostly sunny, with a high near 67. Cal...</td>\n",
              "    </tr>\n",
              "    <tr>\n",
              "      <th>3</th>\n",
              "      <td>FridayNight</td>\n",
              "      <td>Partly Cloudy</td>\n",
              "      <td>Low: 48 °F</td>\n",
              "      <td>Friday Night: Partly cloudy, with a low around...</td>\n",
              "    </tr>\n",
              "    <tr>\n",
              "      <th>4</th>\n",
              "      <td>Saturday</td>\n",
              "      <td>Partly Sunny</td>\n",
              "      <td>High: 62 °F</td>\n",
              "      <td>Saturday: Partly sunny, with a high near 62. W...</td>\n",
              "    </tr>\n",
              "    <tr>\n",
              "      <th>5</th>\n",
              "      <td>SaturdayNight</td>\n",
              "      <td>Mostly Cloudy</td>\n",
              "      <td>Low: 50 °F</td>\n",
              "      <td>Saturday Night: Mostly cloudy, with a low arou...</td>\n",
              "    </tr>\n",
              "    <tr>\n",
              "      <th>6</th>\n",
              "      <td>Sunday</td>\n",
              "      <td>Mostly Sunny</td>\n",
              "      <td>High: 63 °F</td>\n",
              "      <td>Sunday: Mostly sunny, with a high near 63.</td>\n",
              "    </tr>\n",
              "    <tr>\n",
              "      <th>7</th>\n",
              "      <td>SundayNight</td>\n",
              "      <td>Slight ChanceRain</td>\n",
              "      <td>Low: 50 °F</td>\n",
              "      <td>Sunday Night: A slight chance of rain.  Partly...</td>\n",
              "    </tr>\n",
              "    <tr>\n",
              "      <th>8</th>\n",
              "      <td>Monday</td>\n",
              "      <td>Chance Rain</td>\n",
              "      <td>High: 62 °F</td>\n",
              "      <td>Monday: A chance of rain.  Partly sunny, with ...</td>\n",
              "    </tr>\n",
              "  </tbody>\n",
              "</table>\n",
              "</div>"
            ],
            "text/plain": [
              "          period  ...                                               desc\n",
              "0          Today  ...  Today: Sunny, with a high near 80. Calm wind b...\n",
              "1        Tonight  ...  Tonight: Mostly clear, with a low around 48. W...\n",
              "2         Friday  ...  Friday: Mostly sunny, with a high near 67. Cal...\n",
              "3    FridayNight  ...  Friday Night: Partly cloudy, with a low around...\n",
              "4       Saturday  ...  Saturday: Partly sunny, with a high near 62. W...\n",
              "5  SaturdayNight  ...  Saturday Night: Mostly cloudy, with a low arou...\n",
              "6         Sunday  ...         Sunday: Mostly sunny, with a high near 63.\n",
              "7    SundayNight  ...  Sunday Night: A slight chance of rain.  Partly...\n",
              "8         Monday  ...  Monday: A chance of rain.  Partly sunny, with ...\n",
              "\n",
              "[9 rows x 4 columns]"
            ]
          },
          "metadata": {
            "tags": []
          },
          "execution_count": 50
        }
      ]
    },
    {
      "cell_type": "markdown",
      "metadata": {
        "id": "qTcv2DS0XFgp"
      },
      "source": [
        "- str 참조 : https://yganalyst.github.io/data_handling/memo_9/\n",
        "- 정규식 참조 : https://wikidocs.net/4308"
      ]
    },
    {
      "cell_type": "code",
      "metadata": {
        "colab": {
          "base_uri": "https://localhost:8080/"
        },
        "id": "3q6HB4L3Wqrx",
        "outputId": "b77f6770-a1fa-4d98-c865-cbdcc1b15906"
      },
      "source": [
        "temp_nums = weather[\"temp\"].str.extract(\"(\\d+)\", expand=False)\n",
        "weather[\"temp_num\"] = temp_nums.astype('int')\n",
        "print(temp_nums)"
      ],
      "execution_count": 74,
      "outputs": [
        {
          "output_type": "stream",
          "text": [
            "0    80\n",
            "1    48\n",
            "2    67\n",
            "3    48\n",
            "4    62\n",
            "5    50\n",
            "6    63\n",
            "7    50\n",
            "8    62\n",
            "Name: temp, dtype: object\n"
          ],
          "name": "stdout"
        }
      ]
    },
    {
      "cell_type": "code",
      "metadata": {
        "colab": {
          "base_uri": "https://localhost:8080/"
        },
        "id": "q53br4OEW0LR",
        "outputId": "4871514a-c789-4ea8-9056-6cbf31e18188"
      },
      "source": [
        "weather[\"temp_num\"].mean()"
      ],
      "execution_count": 75,
      "outputs": [
        {
          "output_type": "execute_result",
          "data": {
            "text/plain": [
              "58.888888888888886"
            ]
          },
          "metadata": {
            "tags": []
          },
          "execution_count": 75
        }
      ]
    },
    {
      "cell_type": "code",
      "metadata": {
        "colab": {
          "base_uri": "https://localhost:8080/"
        },
        "id": "cZ3bmeWAap79",
        "outputId": "e1a8d9e9-32f9-4116-fe6e-5664f264dc1a"
      },
      "source": [
        "is_night = weather[\"temp\"].str.contains(\"Low\")\n",
        "weather[\"is_night\"] = is_night\n",
        "print(is_night)"
      ],
      "execution_count": 77,
      "outputs": [
        {
          "output_type": "stream",
          "text": [
            "0    False\n",
            "1     True\n",
            "2    False\n",
            "3     True\n",
            "4    False\n",
            "5     True\n",
            "6    False\n",
            "7     True\n",
            "8    False\n",
            "Name: temp, dtype: bool\n"
          ],
          "name": "stdout"
        }
      ]
    },
    {
      "cell_type": "code",
      "metadata": {
        "colab": {
          "base_uri": "https://localhost:8080/",
          "height": 168
        },
        "id": "MEXDEKzaatOg",
        "outputId": "d2abd64c-c171-4363-cf47-d3daa27c7714"
      },
      "source": [
        "weather[is_night]"
      ],
      "execution_count": 82,
      "outputs": [
        {
          "output_type": "execute_result",
          "data": {
            "text/html": [
              "<div>\n",
              "<style scoped>\n",
              "    .dataframe tbody tr th:only-of-type {\n",
              "        vertical-align: middle;\n",
              "    }\n",
              "\n",
              "    .dataframe tbody tr th {\n",
              "        vertical-align: top;\n",
              "    }\n",
              "\n",
              "    .dataframe thead th {\n",
              "        text-align: right;\n",
              "    }\n",
              "</style>\n",
              "<table border=\"1\" class=\"dataframe\">\n",
              "  <thead>\n",
              "    <tr style=\"text-align: right;\">\n",
              "      <th></th>\n",
              "      <th>period</th>\n",
              "      <th>short_desc</th>\n",
              "      <th>temp</th>\n",
              "      <th>desc</th>\n",
              "      <th>temp_num</th>\n",
              "      <th>is_night</th>\n",
              "    </tr>\n",
              "  </thead>\n",
              "  <tbody>\n",
              "    <tr>\n",
              "      <th>1</th>\n",
              "      <td>Tonight</td>\n",
              "      <td>Mostly Clear</td>\n",
              "      <td>Low: 48 °F</td>\n",
              "      <td>Tonight: Mostly clear, with a low around 48. W...</td>\n",
              "      <td>48</td>\n",
              "      <td>True</td>\n",
              "    </tr>\n",
              "    <tr>\n",
              "      <th>3</th>\n",
              "      <td>FridayNight</td>\n",
              "      <td>Partly Cloudy</td>\n",
              "      <td>Low: 48 °F</td>\n",
              "      <td>Friday Night: Partly cloudy, with a low around...</td>\n",
              "      <td>48</td>\n",
              "      <td>True</td>\n",
              "    </tr>\n",
              "    <tr>\n",
              "      <th>5</th>\n",
              "      <td>SaturdayNight</td>\n",
              "      <td>Mostly Cloudy</td>\n",
              "      <td>Low: 50 °F</td>\n",
              "      <td>Saturday Night: Mostly cloudy, with a low arou...</td>\n",
              "      <td>50</td>\n",
              "      <td>True</td>\n",
              "    </tr>\n",
              "    <tr>\n",
              "      <th>7</th>\n",
              "      <td>SundayNight</td>\n",
              "      <td>Slight ChanceRain</td>\n",
              "      <td>Low: 50 °F</td>\n",
              "      <td>Sunday Night: A slight chance of rain.  Partly...</td>\n",
              "      <td>50</td>\n",
              "      <td>True</td>\n",
              "    </tr>\n",
              "  </tbody>\n",
              "</table>\n",
              "</div>"
            ],
            "text/plain": [
              "          period         short_desc  ... temp_num is_night\n",
              "1        Tonight       Mostly Clear  ...       48     True\n",
              "3    FridayNight      Partly Cloudy  ...       48     True\n",
              "5  SaturdayNight      Mostly Cloudy  ...       50     True\n",
              "7    SundayNight  Slight ChanceRain  ...       50     True\n",
              "\n",
              "[4 rows x 6 columns]"
            ]
          },
          "metadata": {
            "tags": []
          },
          "execution_count": 82
        }
      ]
    },
    {
      "cell_type": "code",
      "metadata": {
        "id": "WOWEYuhga0Bw"
      },
      "source": [
        ""
      ],
      "execution_count": null,
      "outputs": []
    }
  ]
}