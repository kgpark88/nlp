{
  "nbformat": 4,
  "nbformat_minor": 0,
  "metadata": {
    "colab": {
      "name": "word2vec_model.ipynb",
      "provenance": [],
      "collapsed_sections": []
    },
    "kernelspec": {
      "name": "python3",
      "display_name": "Python 3"
    },
    "language_info": {
      "name": "python"
    },
    "widgets": {
      "application/vnd.jupyter.widget-state+json": {
        "6576aa3353ee4fce85bb8e3ce0fb2ab3": {
          "model_module": "@jupyter-widgets/controls",
          "model_name": "HBoxModel",
          "state": {
            "_view_name": "HBoxView",
            "_dom_classes": [],
            "_model_name": "HBoxModel",
            "_view_module": "@jupyter-widgets/controls",
            "_model_module_version": "1.5.0",
            "_view_count": null,
            "_view_module_version": "1.5.0",
            "box_style": "",
            "layout": "IPY_MODEL_3ae7caf8c7ba4892a21b90a7a6bcc9d8",
            "_model_module": "@jupyter-widgets/controls",
            "children": [
              "IPY_MODEL_d8485c23f55148719c39b7e68d0bd50a",
              "IPY_MODEL_00c5c16652bd49d4896598c90af311f3"
            ]
          }
        },
        "3ae7caf8c7ba4892a21b90a7a6bcc9d8": {
          "model_module": "@jupyter-widgets/base",
          "model_name": "LayoutModel",
          "state": {
            "_view_name": "LayoutView",
            "grid_template_rows": null,
            "right": null,
            "justify_content": null,
            "_view_module": "@jupyter-widgets/base",
            "overflow": null,
            "_model_module_version": "1.2.0",
            "_view_count": null,
            "flex_flow": null,
            "width": null,
            "min_width": null,
            "border": null,
            "align_items": null,
            "bottom": null,
            "_model_module": "@jupyter-widgets/base",
            "top": null,
            "grid_column": null,
            "overflow_y": null,
            "overflow_x": null,
            "grid_auto_flow": null,
            "grid_area": null,
            "grid_template_columns": null,
            "flex": null,
            "_model_name": "LayoutModel",
            "justify_items": null,
            "grid_row": null,
            "max_height": null,
            "align_content": null,
            "visibility": null,
            "align_self": null,
            "height": null,
            "min_height": null,
            "padding": null,
            "grid_auto_rows": null,
            "grid_gap": null,
            "max_width": null,
            "order": null,
            "_view_module_version": "1.2.0",
            "grid_template_areas": null,
            "object_position": null,
            "object_fit": null,
            "grid_auto_columns": null,
            "margin": null,
            "display": null,
            "left": null
          }
        },
        "d8485c23f55148719c39b7e68d0bd50a": {
          "model_module": "@jupyter-widgets/controls",
          "model_name": "FloatProgressModel",
          "state": {
            "_view_name": "ProgressView",
            "style": "IPY_MODEL_a38f6ab6bb464fa5a068963093ac78bc",
            "_dom_classes": [],
            "description": "100%",
            "_model_name": "FloatProgressModel",
            "bar_style": "success",
            "max": 10000,
            "_view_module": "@jupyter-widgets/controls",
            "_model_module_version": "1.5.0",
            "value": 10000,
            "_view_count": null,
            "_view_module_version": "1.5.0",
            "orientation": "horizontal",
            "min": 0,
            "description_tooltip": null,
            "_model_module": "@jupyter-widgets/controls",
            "layout": "IPY_MODEL_cd28fc2bb86a4bdbaf99d9cfeaaca8bc"
          }
        },
        "00c5c16652bd49d4896598c90af311f3": {
          "model_module": "@jupyter-widgets/controls",
          "model_name": "HTMLModel",
          "state": {
            "_view_name": "HTMLView",
            "style": "IPY_MODEL_8bb1da425e394adc859e26ecce594ff8",
            "_dom_classes": [],
            "description": "",
            "_model_name": "HTMLModel",
            "placeholder": "​",
            "_view_module": "@jupyter-widgets/controls",
            "_model_module_version": "1.5.0",
            "value": " 10000/10000 [00:41&lt;00:00, 240.74it/s]",
            "_view_count": null,
            "_view_module_version": "1.5.0",
            "description_tooltip": null,
            "_model_module": "@jupyter-widgets/controls",
            "layout": "IPY_MODEL_18bfe87ea0394f4aa98caff3d64c050a"
          }
        },
        "a38f6ab6bb464fa5a068963093ac78bc": {
          "model_module": "@jupyter-widgets/controls",
          "model_name": "ProgressStyleModel",
          "state": {
            "_view_name": "StyleView",
            "_model_name": "ProgressStyleModel",
            "description_width": "initial",
            "_view_module": "@jupyter-widgets/base",
            "_model_module_version": "1.5.0",
            "_view_count": null,
            "_view_module_version": "1.2.0",
            "bar_color": null,
            "_model_module": "@jupyter-widgets/controls"
          }
        },
        "cd28fc2bb86a4bdbaf99d9cfeaaca8bc": {
          "model_module": "@jupyter-widgets/base",
          "model_name": "LayoutModel",
          "state": {
            "_view_name": "LayoutView",
            "grid_template_rows": null,
            "right": null,
            "justify_content": null,
            "_view_module": "@jupyter-widgets/base",
            "overflow": null,
            "_model_module_version": "1.2.0",
            "_view_count": null,
            "flex_flow": null,
            "width": null,
            "min_width": null,
            "border": null,
            "align_items": null,
            "bottom": null,
            "_model_module": "@jupyter-widgets/base",
            "top": null,
            "grid_column": null,
            "overflow_y": null,
            "overflow_x": null,
            "grid_auto_flow": null,
            "grid_area": null,
            "grid_template_columns": null,
            "flex": null,
            "_model_name": "LayoutModel",
            "justify_items": null,
            "grid_row": null,
            "max_height": null,
            "align_content": null,
            "visibility": null,
            "align_self": null,
            "height": null,
            "min_height": null,
            "padding": null,
            "grid_auto_rows": null,
            "grid_gap": null,
            "max_width": null,
            "order": null,
            "_view_module_version": "1.2.0",
            "grid_template_areas": null,
            "object_position": null,
            "object_fit": null,
            "grid_auto_columns": null,
            "margin": null,
            "display": null,
            "left": null
          }
        },
        "8bb1da425e394adc859e26ecce594ff8": {
          "model_module": "@jupyter-widgets/controls",
          "model_name": "DescriptionStyleModel",
          "state": {
            "_view_name": "StyleView",
            "_model_name": "DescriptionStyleModel",
            "description_width": "",
            "_view_module": "@jupyter-widgets/base",
            "_model_module_version": "1.5.0",
            "_view_count": null,
            "_view_module_version": "1.2.0",
            "_model_module": "@jupyter-widgets/controls"
          }
        },
        "18bfe87ea0394f4aa98caff3d64c050a": {
          "model_module": "@jupyter-widgets/base",
          "model_name": "LayoutModel",
          "state": {
            "_view_name": "LayoutView",
            "grid_template_rows": null,
            "right": null,
            "justify_content": null,
            "_view_module": "@jupyter-widgets/base",
            "overflow": null,
            "_model_module_version": "1.2.0",
            "_view_count": null,
            "flex_flow": null,
            "width": null,
            "min_width": null,
            "border": null,
            "align_items": null,
            "bottom": null,
            "_model_module": "@jupyter-widgets/base",
            "top": null,
            "grid_column": null,
            "overflow_y": null,
            "overflow_x": null,
            "grid_auto_flow": null,
            "grid_area": null,
            "grid_template_columns": null,
            "flex": null,
            "_model_name": "LayoutModel",
            "justify_items": null,
            "grid_row": null,
            "max_height": null,
            "align_content": null,
            "visibility": null,
            "align_self": null,
            "height": null,
            "min_height": null,
            "padding": null,
            "grid_auto_rows": null,
            "grid_gap": null,
            "max_width": null,
            "order": null,
            "_view_module_version": "1.2.0",
            "grid_template_areas": null,
            "object_position": null,
            "object_fit": null,
            "grid_auto_columns": null,
            "margin": null,
            "display": null,
            "left": null
          }
        }
      }
    }
  },
  "cells": [
    {
      "cell_type": "markdown",
      "metadata": {
        "id": "rBfq4_owgcLW"
      },
      "source": [
        "# Word2Vec"
      ]
    },
    {
      "cell_type": "markdown",
      "metadata": {
        "id": "eKlrqpsOgr3Y"
      },
      "source": [
        "## Naver sentiment movie corpus v1.0 데이터 가져오기 "
      ]
    },
    {
      "cell_type": "code",
      "metadata": {
        "colab": {
          "base_uri": "https://localhost:8080/"
        },
        "id": "gwwx16kxgNIE",
        "outputId": "524efc2b-2bb4-4181-8ec8-e771302972b2"
      },
      "source": [
        "!wget https://raw.githubusercontent.com/e9t/nsmc/master/ratings.txt"
      ],
      "execution_count": 37,
      "outputs": [
        {
          "output_type": "stream",
          "text": [
            "--2021-04-17 02:05:04--  https://raw.githubusercontent.com/e9t/nsmc/master/ratings.txt\n",
            "Resolving raw.githubusercontent.com (raw.githubusercontent.com)... 185.199.108.133, 185.199.109.133, 185.199.110.133, ...\n",
            "Connecting to raw.githubusercontent.com (raw.githubusercontent.com)|185.199.108.133|:443... connected.\n",
            "HTTP request sent, awaiting response... 200 OK\n",
            "Length: 19515078 (19M) [text/plain]\n",
            "Saving to: ‘ratings.txt.2’\n",
            "\n",
            "ratings.txt.2       100%[===================>]  18.61M  43.2MB/s    in 0.4s    \n",
            "\n",
            "2021-04-17 02:05:04 (43.2 MB/s) - ‘ratings.txt.2’ saved [19515078/19515078]\n",
            "\n"
          ],
          "name": "stdout"
        }
      ]
    },
    {
      "cell_type": "markdown",
      "metadata": {
        "id": "WpfeyBPZgxQz"
      },
      "source": [
        "## konlpy 설치"
      ]
    },
    {
      "cell_type": "code",
      "metadata": {
        "colab": {
          "base_uri": "https://localhost:8080/"
        },
        "id": "W5VSYICMfLJx",
        "outputId": "0da6d5a2-b379-436b-8823-9e1b60c1febd"
      },
      "source": [
        "!pip install konlpy"
      ],
      "execution_count": 38,
      "outputs": [
        {
          "output_type": "stream",
          "text": [
            "Requirement already satisfied: konlpy in /usr/local/lib/python3.7/dist-packages (0.5.2)\n",
            "Requirement already satisfied: numpy>=1.6 in /usr/local/lib/python3.7/dist-packages (from konlpy) (1.19.5)\n",
            "Requirement already satisfied: tweepy>=3.7.0 in /usr/local/lib/python3.7/dist-packages (from konlpy) (3.10.0)\n",
            "Requirement already satisfied: JPype1>=0.7.0 in /usr/local/lib/python3.7/dist-packages (from konlpy) (1.2.1)\n",
            "Requirement already satisfied: colorama in /usr/local/lib/python3.7/dist-packages (from konlpy) (0.4.4)\n",
            "Requirement already satisfied: lxml>=4.1.0 in /usr/local/lib/python3.7/dist-packages (from konlpy) (4.2.6)\n",
            "Requirement already satisfied: beautifulsoup4==4.6.0 in /usr/local/lib/python3.7/dist-packages (from konlpy) (4.6.0)\n",
            "Requirement already satisfied: six>=1.10.0 in /usr/local/lib/python3.7/dist-packages (from tweepy>=3.7.0->konlpy) (1.15.0)\n",
            "Requirement already satisfied: requests[socks]>=2.11.1 in /usr/local/lib/python3.7/dist-packages (from tweepy>=3.7.0->konlpy) (2.23.0)\n",
            "Requirement already satisfied: requests-oauthlib>=0.7.0 in /usr/local/lib/python3.7/dist-packages (from tweepy>=3.7.0->konlpy) (1.3.0)\n",
            "Requirement already satisfied: typing-extensions; python_version < \"3.8\" in /usr/local/lib/python3.7/dist-packages (from JPype1>=0.7.0->konlpy) (3.7.4.3)\n",
            "Requirement already satisfied: urllib3!=1.25.0,!=1.25.1,<1.26,>=1.21.1 in /usr/local/lib/python3.7/dist-packages (from requests[socks]>=2.11.1->tweepy>=3.7.0->konlpy) (1.24.3)\n",
            "Requirement already satisfied: idna<3,>=2.5 in /usr/local/lib/python3.7/dist-packages (from requests[socks]>=2.11.1->tweepy>=3.7.0->konlpy) (2.10)\n",
            "Requirement already satisfied: certifi>=2017.4.17 in /usr/local/lib/python3.7/dist-packages (from requests[socks]>=2.11.1->tweepy>=3.7.0->konlpy) (2020.12.5)\n",
            "Requirement already satisfied: chardet<4,>=3.0.2 in /usr/local/lib/python3.7/dist-packages (from requests[socks]>=2.11.1->tweepy>=3.7.0->konlpy) (3.0.4)\n",
            "Requirement already satisfied: PySocks!=1.5.7,>=1.5.6; extra == \"socks\" in /usr/local/lib/python3.7/dist-packages (from requests[socks]>=2.11.1->tweepy>=3.7.0->konlpy) (1.7.1)\n",
            "Requirement already satisfied: oauthlib>=3.0.0 in /usr/local/lib/python3.7/dist-packages (from requests-oauthlib>=0.7.0->tweepy>=3.7.0->konlpy) (3.1.0)\n"
          ],
          "name": "stdout"
        }
      ]
    },
    {
      "cell_type": "code",
      "metadata": {
        "id": "lcgoh9XufAmG"
      },
      "source": [
        "from tqdm import tqdm_notebook\n",
        "from konlpy.tag import Okt\n",
        "from gensim.models import Word2Vec"
      ],
      "execution_count": 39,
      "outputs": []
    },
    {
      "cell_type": "code",
      "metadata": {
        "id": "cMSson4_fy1J"
      },
      "source": [
        "f = open('ratings.txt', 'r')\n",
        "data = [line.split('\\t') for line in f.read().splitlines()]\n",
        "data = data[1:] # header 제거"
      ],
      "execution_count": 40,
      "outputs": []
    },
    {
      "cell_type": "code",
      "metadata": {
        "colab": {
          "base_uri": "https://localhost:8080/"
        },
        "id": "fJp6S5eYf4kB",
        "outputId": "0278833f-d09d-4342-c5e7-5d0b0990d235"
      },
      "source": [
        "print(data[0:5])"
      ],
      "execution_count": 41,
      "outputs": [
        {
          "output_type": "stream",
          "text": [
            "[['8112052', '어릴때보고 지금다시봐도 재밌어요ㅋㅋ', '1'], ['8132799', '디자인을 배우는 학생으로, 외국디자이너와 그들이 일군 전통을 통해 발전해가는 문화산업이 부러웠는데. 사실 우리나라에서도 그 어려운시절에 끝까지 열정을 지킨 노라노 같은 전통이있어 저와 같은 사람들이 꿈을 꾸고 이뤄나갈 수 있다는 것에 감사합니다.', '1'], ['4655635', '폴리스스토리 시리즈는 1부터 뉴까지 버릴께 하나도 없음.. 최고.', '1'], ['9251303', '와.. 연기가 진짜 개쩔구나.. 지루할거라고 생각했는데 몰입해서 봤다.. 그래 이런게 진짜 영화지', '1'], ['10067386', '안개 자욱한 밤하늘에 떠 있는 초승달 같은 영화.', '1']]\n"
          ],
          "name": "stdout"
        }
      ]
    },
    {
      "cell_type": "code",
      "metadata": {
        "colab": {
          "base_uri": "https://localhost:8080/"
        },
        "id": "ZeMESMOeheOw",
        "outputId": "043a17d8-af31-44de-ad43-f9b58b4710c9"
      },
      "source": [
        "print(len(data))"
      ],
      "execution_count": 42,
      "outputs": [
        {
          "output_type": "stream",
          "text": [
            "200000\n"
          ],
          "name": "stdout"
        }
      ]
    },
    {
      "cell_type": "markdown",
      "metadata": {
        "id": "cEujAcEQhxJj"
      },
      "source": [
        "## 형태소에서 명사만 추출 시작"
      ]
    },
    {
      "cell_type": "code",
      "metadata": {
        "id": "ae89ivk5kdfF"
      },
      "source": [
        "# okt = Okt()\n",
        "# docs = [okt.nouns(sentence[1]) for sentence in data]"
      ],
      "execution_count": 43,
      "outputs": []
    },
    {
      "cell_type": "code",
      "metadata": {
        "colab": {
          "base_uri": "https://localhost:8080/",
          "height": 139,
          "referenced_widgets": [
            "6576aa3353ee4fce85bb8e3ce0fb2ab3",
            "3ae7caf8c7ba4892a21b90a7a6bcc9d8",
            "d8485c23f55148719c39b7e68d0bd50a",
            "00c5c16652bd49d4896598c90af311f3",
            "a38f6ab6bb464fa5a068963093ac78bc",
            "cd28fc2bb86a4bdbaf99d9cfeaaca8bc",
            "8bb1da425e394adc859e26ecce594ff8",
            "18bfe87ea0394f4aa98caff3d64c050a"
          ]
        },
        "id": "6-L6rmLsh4s8",
        "outputId": "46ae13ab-ea7f-48c4-fc93-2b60325b5ab9"
      },
      "source": [
        "okt = Okt()\n",
        "sentences = []\n",
        "count = 10000\n",
        "for i in tqdm_notebook(range(count)):\n",
        "    sentences.append(okt.nouns(data[i][1]))"
      ],
      "execution_count": 76,
      "outputs": [
        {
          "output_type": "stream",
          "text": [
            "/usr/local/lib/python3.7/dist-packages/ipykernel_launcher.py:4: TqdmDeprecationWarning: This function will be removed in tqdm==5.0.0\n",
            "Please use `tqdm.notebook.tqdm` instead of `tqdm.tqdm_notebook`\n",
            "  after removing the cwd from sys.path.\n"
          ],
          "name": "stderr"
        },
        {
          "output_type": "display_data",
          "data": {
            "application/vnd.jupyter.widget-view+json": {
              "model_id": "6576aa3353ee4fce85bb8e3ce0fb2ab3",
              "version_minor": 0,
              "version_major": 2
            },
            "text/plain": [
              "HBox(children=(FloatProgress(value=0.0, max=10000.0), HTML(value='')))"
            ]
          },
          "metadata": {
            "tags": []
          }
        },
        {
          "output_type": "stream",
          "text": [
            "\n"
          ],
          "name": "stdout"
        }
      ]
    },
    {
      "cell_type": "code",
      "metadata": {
        "colab": {
          "base_uri": "https://localhost:8080/"
        },
        "id": "CyVJwKkioUET",
        "outputId": "140d70ca-baab-4202-bd83-2714f653d754"
      },
      "source": [
        "print(data[:5])"
      ],
      "execution_count": 77,
      "outputs": [
        {
          "output_type": "stream",
          "text": [
            "[['8112052', '어릴때보고 지금다시봐도 재밌어요ㅋㅋ', '1'], ['8132799', '디자인을 배우는 학생으로, 외국디자이너와 그들이 일군 전통을 통해 발전해가는 문화산업이 부러웠는데. 사실 우리나라에서도 그 어려운시절에 끝까지 열정을 지킨 노라노 같은 전통이있어 저와 같은 사람들이 꿈을 꾸고 이뤄나갈 수 있다는 것에 감사합니다.', '1'], ['4655635', '폴리스스토리 시리즈는 1부터 뉴까지 버릴께 하나도 없음.. 최고.', '1'], ['9251303', '와.. 연기가 진짜 개쩔구나.. 지루할거라고 생각했는데 몰입해서 봤다.. 그래 이런게 진짜 영화지', '1'], ['10067386', '안개 자욱한 밤하늘에 떠 있는 초승달 같은 영화.', '1']]\n"
          ],
          "name": "stdout"
        }
      ]
    },
    {
      "cell_type": "code",
      "metadata": {
        "colab": {
          "base_uri": "https://localhost:8080/"
        },
        "id": "YNv0LZ4Xnto2",
        "outputId": "ffbd3b62-5264-494d-ebd3-7206ddad2dc9"
      },
      "source": [
        "print(sentences[:5])"
      ],
      "execution_count": 78,
      "outputs": [
        {
          "output_type": "stream",
          "text": [
            "[['때', '보고', '지금', '다시'], ['디자인', '학생', '외국', '디자이너', '그', '일군', '전통', '통해', '발전', '문화', '산업', '사실', '우리나라', '그', '시절', '끝', '열정', '노라노', '전통', '저', '사람', '꿈', '수', '것'], ['폴리스스토리', '시리즈', '부터', '뉴', '하나', '최고'], ['연기', '진짜', '개', '생각', '몰입', '진짜', '영화'], ['안개', '밤하늘', '초승달', '영화']]\n"
          ],
          "name": "stdout"
        }
      ]
    },
    {
      "cell_type": "markdown",
      "metadata": {
        "id": "-Q8vrFeOh9qx"
      },
      "source": [
        "## word2vec 모델 학습"
      ]
    },
    {
      "cell_type": "code",
      "metadata": {
        "id": "akXJqabhh-Ti"
      },
      "source": [
        "model = Word2Vec(sentences=sentences, size=100, window=4, min_count=2, sg=1)\n",
        "model.save('nsmc.model')"
      ],
      "execution_count": 79,
      "outputs": []
    },
    {
      "cell_type": "markdown",
      "metadata": {
        "id": "XjjI1JckiLG3"
      },
      "source": [
        "## 모델 확인"
      ]
    },
    {
      "cell_type": "code",
      "metadata": {
        "colab": {
          "base_uri": "https://localhost:8080/"
        },
        "id": "Q0YuwRz-iPZ6",
        "outputId": "9a11e3e0-422f-42f3-d2c2-73fbdb3b8c6a"
      },
      "source": [
        "print(f'corpus count :{model.corpus_count}')\n",
        "print(f'corpus total words : {model.corpus_total_words}')"
      ],
      "execution_count": 80,
      "outputs": [
        {
          "output_type": "stream",
          "text": [
            "corpus count :10000\n",
            "corpus total words : 57572\n"
          ],
          "name": "stdout"
        }
      ]
    },
    {
      "cell_type": "markdown",
      "metadata": {
        "id": "CPz5BZLkk766"
      },
      "source": [
        "## 모델 로딩"
      ]
    },
    {
      "cell_type": "code",
      "metadata": {
        "id": "YEQuElASlK8o"
      },
      "source": [
        "model = Word2Vec.load('nsmc.model')"
      ],
      "execution_count": 81,
      "outputs": []
    },
    {
      "cell_type": "code",
      "metadata": {
        "colab": {
          "base_uri": "https://localhost:8080/"
        },
        "id": "oodCOCpFk8ug",
        "outputId": "f595a142-cab4-4369-d1b9-c5d618b42a25"
      },
      "source": [
        "print(f\"재미 : {model.wv['재미']}\")"
      ],
      "execution_count": 82,
      "outputs": [
        {
          "output_type": "stream",
          "text": [
            "재미 : [ 0.20751849  0.4443271  -0.02993008 -0.13414036  0.07815597  0.16055542\n",
            "  0.2563266  -0.10224668 -0.04318519 -0.24238452  0.22315785 -0.07777563\n",
            "  0.03576836  0.04106593 -0.2157649   0.18654041  0.16804643  0.18547542\n",
            "  0.26896426 -0.02209664  0.25461495 -0.04112584  0.06784558  0.12506337\n",
            " -0.02143007  0.2427428  -0.05946371 -0.09853581  0.09427356  0.45927918\n",
            " -0.13848275  0.03076944  0.05434705  0.06532108  0.10007899  0.05108282\n",
            "  0.23459241  0.02280418 -0.09706295  0.06623966  0.23059557  0.12135097\n",
            " -0.177716   -0.06432042 -0.04323553 -0.09815437  0.08833497 -0.11462097\n",
            "  0.14928956  0.03137681 -0.00843033  0.09867115  0.1570829  -0.4219\n",
            " -0.12762223 -0.10603718  0.2267537  -0.13962261 -0.19442056 -0.14160585\n",
            " -0.2118925  -0.10914347  0.09693804  0.09658112  0.0932297   0.1884161\n",
            "  0.29576626 -0.04807243 -0.20409387 -0.21617399 -0.2066634   0.2930731\n",
            " -0.03758936  0.20112814 -0.00108044  0.10557539 -0.16795808  0.13376029\n",
            "  0.12284298  0.15755594  0.206768    0.27523103  0.07339569  0.22651546\n",
            " -0.05554432  0.24500719  0.03037067 -0.1245454  -0.1439199   0.01905429\n",
            " -0.16369383 -0.37708485  0.06606729 -0.05828574  0.15954871  0.03205057\n",
            "  0.07713369  0.10551333 -0.19196     0.0895187 ]\n"
          ],
          "name": "stdout"
        }
      ]
    },
    {
      "cell_type": "markdown",
      "metadata": {
        "id": "8RaZcD02mSVh"
      },
      "source": [
        "## 단어 유사도 계산"
      ]
    },
    {
      "cell_type": "code",
      "metadata": {
        "colab": {
          "base_uri": "https://localhost:8080/"
        },
        "id": "4oQuqyOGmU7K",
        "outputId": "1d784fc3-c059-4544-d192-393647888cc2"
      },
      "source": [
        "w1 = '재미'\n",
        "w2 = '감동'\n",
        "print(f'단어유사도 : {w1}, {w2} = {model.wv.similarity(w1, w2)}')"
      ],
      "execution_count": 83,
      "outputs": [
        {
          "output_type": "stream",
          "text": [
            "단어유사도 : 재미, 감동 = 0.9985002279281616\n"
          ],
          "name": "stdout"
        }
      ]
    },
    {
      "cell_type": "code",
      "metadata": {
        "colab": {
          "base_uri": "https://localhost:8080/"
        },
        "id": "Zg1o55qko04Z",
        "outputId": "4d478206-e751-4c02-d49c-964304fe26b9"
      },
      "source": [
        "print(f\"{w1} : {model.wv[w1]}\")"
      ],
      "execution_count": 85,
      "outputs": [
        {
          "output_type": "stream",
          "text": [
            "재미 : [ 0.20751849  0.4443271  -0.02993008 -0.13414036  0.07815597  0.16055542\n",
            "  0.2563266  -0.10224668 -0.04318519 -0.24238452  0.22315785 -0.07777563\n",
            "  0.03576836  0.04106593 -0.2157649   0.18654041  0.16804643  0.18547542\n",
            "  0.26896426 -0.02209664  0.25461495 -0.04112584  0.06784558  0.12506337\n",
            " -0.02143007  0.2427428  -0.05946371 -0.09853581  0.09427356  0.45927918\n",
            " -0.13848275  0.03076944  0.05434705  0.06532108  0.10007899  0.05108282\n",
            "  0.23459241  0.02280418 -0.09706295  0.06623966  0.23059557  0.12135097\n",
            " -0.177716   -0.06432042 -0.04323553 -0.09815437  0.08833497 -0.11462097\n",
            "  0.14928956  0.03137681 -0.00843033  0.09867115  0.1570829  -0.4219\n",
            " -0.12762223 -0.10603718  0.2267537  -0.13962261 -0.19442056 -0.14160585\n",
            " -0.2118925  -0.10914347  0.09693804  0.09658112  0.0932297   0.1884161\n",
            "  0.29576626 -0.04807243 -0.20409387 -0.21617399 -0.2066634   0.2930731\n",
            " -0.03758936  0.20112814 -0.00108044  0.10557539 -0.16795808  0.13376029\n",
            "  0.12284298  0.15755594  0.206768    0.27523103  0.07339569  0.22651546\n",
            " -0.05554432  0.24500719  0.03037067 -0.1245454  -0.1439199   0.01905429\n",
            " -0.16369383 -0.37708485  0.06606729 -0.05828574  0.15954871  0.03205057\n",
            "  0.07713369  0.10551333 -0.19196     0.0895187 ]\n"
          ],
          "name": "stdout"
        }
      ]
    },
    {
      "cell_type": "code",
      "metadata": {
        "colab": {
          "base_uri": "https://localhost:8080/"
        },
        "id": "cnXM79VLo7Nx",
        "outputId": "203e9716-f19c-4801-ffbb-a16ee248153c"
      },
      "source": [
        "print(f\"{w2} : {model.wv[w2]}\")"
      ],
      "execution_count": 86,
      "outputs": [
        {
          "output_type": "stream",
          "text": [
            "감동 : [ 0.21021833  0.45984396 -0.02118233 -0.13176505  0.08141194  0.1628615\n",
            "  0.2645617  -0.1115236  -0.05474347 -0.24141544  0.22941732 -0.0866067\n",
            "  0.029037    0.02750657 -0.21774173  0.19975051  0.17125002  0.1873057\n",
            "  0.29133755 -0.02508957  0.26035473 -0.04291269  0.0644014   0.13623607\n",
            " -0.01238228  0.25863793 -0.07478726 -0.09511611  0.106041    0.46603683\n",
            " -0.13872024  0.05480111  0.04934314  0.06714597  0.09461074  0.05224161\n",
            "  0.24470343  0.0274984  -0.09690203  0.06947082  0.2437007   0.12145175\n",
            " -0.18244402 -0.06845932 -0.02878756 -0.08357758  0.09474586 -0.10745291\n",
            "  0.15547904  0.03391856 -0.01649021  0.10136721  0.1439316  -0.40532357\n",
            " -0.13587338 -0.10319477  0.23886386 -0.14686894 -0.19723077 -0.12524085\n",
            " -0.22816463 -0.0942715   0.11555642  0.1126019   0.10872407  0.19144008\n",
            "  0.29820916 -0.04694647 -0.19563475 -0.21088824 -0.19872978  0.30894443\n",
            " -0.03400381  0.19450499  0.0103169   0.11975469 -0.17842619  0.14011507\n",
            "  0.12943898  0.1627659   0.19010901  0.2940237   0.0730652   0.23944849\n",
            " -0.04855369  0.24759464  0.04552983 -0.12358872 -0.1527698   0.04006031\n",
            " -0.1570143  -0.3728795   0.0650795  -0.07019151  0.16235597  0.02511642\n",
            "  0.07127529  0.10017728 -0.20772795  0.09052623]\n"
          ],
          "name": "stdout"
        }
      ]
    },
    {
      "cell_type": "markdown",
      "metadata": {
        "id": "ArGPBLWdmZss"
      },
      "source": [
        "## 유사 단어 추출"
      ]
    },
    {
      "cell_type": "code",
      "metadata": {
        "colab": {
          "base_uri": "https://localhost:8080/"
        },
        "id": "YD3eITwEl42X",
        "outputId": "7b4add6e-42d9-4011-c960-bb1c0cd16463"
      },
      "source": [
        "print(model.wv.most_similar(\"재미\", topn=5))"
      ],
      "execution_count": 87,
      "outputs": [
        {
          "output_type": "stream",
          "text": [
            "[('만', 0.9993624687194824), ('다른', 0.9993451237678528), ('진짜', 0.9993003606796265), ('그냥', 0.9992992877960205), ('도', 0.9992811679840088)]\n"
          ],
          "name": "stdout"
        }
      ]
    }
  ]
}