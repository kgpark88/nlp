{
  "nbformat": 4,
  "nbformat_minor": 0,
  "metadata": {
    "colab": {
      "name": "fasttext_model.ipynb",
      "provenance": [],
      "collapsed_sections": []
    },
    "kernelspec": {
      "name": "python3",
      "display_name": "Python 3"
    },
    "accelerator": "GPU"
  },
  "cells": [
    {
      "cell_type": "markdown",
      "metadata": {
        "id": "7ouEWrf19htm"
      },
      "source": [
        "# fastText\n",
        "\n",
        "- https://fasttext.cc/docs/en/cheatsheet.html#content"
      ]
    },
    {
      "cell_type": "markdown",
      "metadata": {
        "id": "lYZdnpv-DlWO"
      },
      "source": [
        "## 구글 드라이브 마운트"
      ]
    },
    {
      "cell_type": "code",
      "metadata": {
        "id": "6okWWnZK9Rzf"
      },
      "source": [
        "import os\n",
        "import pandas as pd\n",
        "\n",
        "# from google.colab import drive\n",
        "\n",
        "# drive.mount('/content/drive')\n",
        "# path = '/content/drive/MyDrive/nlp_data'"
      ],
      "execution_count": 1,
      "outputs": []
    },
    {
      "cell_type": "code",
      "metadata": {
        "id": "fcho2reL9Pcp"
      },
      "source": [
        ""
      ],
      "execution_count": 1,
      "outputs": []
    },
    {
      "cell_type": "markdown",
      "metadata": {
        "id": "Xj7y17pcGBx3"
      },
      "source": [
        "## NSMC 데이터 가져오기"
      ]
    },
    {
      "cell_type": "code",
      "metadata": {
        "colab": {
          "base_uri": "https://localhost:8080/"
        },
        "id": "MY_XH393--dH",
        "outputId": "0757d8fc-93d2-4f0e-9728-89d1adb1cbcd"
      },
      "source": [
        "!wget https://raw.githubusercontent.com/e9t/nsmc/master/ratings.txt"
      ],
      "execution_count": 2,
      "outputs": [
        {
          "output_type": "stream",
          "text": [
            "--2021-04-17 05:56:06--  https://raw.githubusercontent.com/e9t/nsmc/master/ratings.txt\n",
            "Resolving raw.githubusercontent.com (raw.githubusercontent.com)... 185.199.108.133, 185.199.109.133, 185.199.110.133, ...\n",
            "Connecting to raw.githubusercontent.com (raw.githubusercontent.com)|185.199.108.133|:443... connected.\n",
            "HTTP request sent, awaiting response... 200 OK\n",
            "Length: 19515078 (19M) [text/plain]\n",
            "Saving to: ‘ratings.txt.2’\n",
            "\n",
            "ratings.txt.2       100%[===================>]  18.61M  --.-KB/s    in 0.1s    \n",
            "\n",
            "2021-04-17 05:56:06 (174 MB/s) - ‘ratings.txt.2’ saved [19515078/19515078]\n",
            "\n"
          ],
          "name": "stdout"
        }
      ]
    },
    {
      "cell_type": "code",
      "metadata": {
        "id": "LPhkUfxv_K6b"
      },
      "source": [
        "f = open('ratings.txt', 'r')\n",
        "data = [line.split('\\t') for line in f.read().splitlines()]\n",
        "data = data[1:] # header 제거\n",
        "data = data[1]"
      ],
      "execution_count": 3,
      "outputs": []
    },
    {
      "cell_type": "code",
      "metadata": {
        "id": "P_jOFQLQ_v0u"
      },
      "source": [
        "df = pd.DataFrame(data)\n",
        "df.to_csv('./train.txt')"
      ],
      "execution_count": 4,
      "outputs": []
    },
    {
      "cell_type": "markdown",
      "metadata": {
        "id": "Ir8geoxU812x"
      },
      "source": [
        "## fastText 패키기 설치"
      ]
    },
    {
      "cell_type": "code",
      "metadata": {
        "id": "b2Lw8iR-83-l",
        "colab": {
          "base_uri": "https://localhost:8080/"
        },
        "outputId": "488ca1fe-7ecd-4add-cbbb-e4bb8fe01695"
      },
      "source": [
        "!git clone https://github.com/facebookresearch/fastText.git"
      ],
      "execution_count": 5,
      "outputs": [
        {
          "output_type": "stream",
          "text": [
            "fatal: destination path 'fastText' already exists and is not an empty directory.\n"
          ],
          "name": "stdout"
        }
      ]
    },
    {
      "cell_type": "code",
      "metadata": {
        "id": "_-qiVYy19xGi",
        "colab": {
          "base_uri": "https://localhost:8080/"
        },
        "outputId": "2c4d03b9-d02b-40b2-891c-40d7d8d27024"
      },
      "source": [
        "%cd /content/fastText\n",
        "!make"
      ],
      "execution_count": 6,
      "outputs": [
        {
          "output_type": "stream",
          "text": [
            "/content/fastText\n",
            "make: Nothing to be done for 'opt'.\n"
          ],
          "name": "stdout"
        }
      ]
    },
    {
      "cell_type": "markdown",
      "metadata": {
        "id": "lyPDf_LECMMr"
      },
      "source": [
        "## fastText 모델 Train\n"
      ]
    },
    {
      "cell_type": "code",
      "metadata": {
        "colab": {
          "base_uri": "https://localhost:8080/"
        },
        "id": "zC9oziCvGkg7",
        "outputId": "2100233f-682b-4b71-b184-f15fe515a34d"
      },
      "source": [
        "!/content/fastText/fasttext skipgram -input \"./train.txt\" -output \"./fastText_model\" -dim 300 -minCount 10 -ws 5"
      ],
      "execution_count": null,
      "outputs": [
        {
          "output_type": "stream",
          "text": [
            "Read 1M words\n",
            "Number of words:  13282\n",
            "Number of labels: 0\n",
            "tcmalloc: large alloc 2415943680 bytes == 0x555646dac000 @  0x7fb5d4dce887 0x55563dcfafed 0x55563dd0971e 0x55563dd114fc 0x55563dd18ffc 0x55563dcce887 0x7fb5d3e6bbf7 0x55563dcceb4a\n",
            "Progress:  55.3% words/sec/thread:   11548 lr:  0.022366 avg.loss:  2.386125 ETA:   0h 0m27s"
          ],
          "name": "stdout"
        }
      ]
    },
    {
      "cell_type": "code",
      "metadata": {
        "id": "g8oUTpJOHbO8"
      },
      "source": [
        "# !/content/fastText/fasttext skipgram -input \"/content/drive/MyDrive/data/large_sentence_data.txt\" -output \"/content/drive/MyDrive/data/fastText_model\" -dim 300 -minCount 10 -ws 5"
      ],
      "execution_count": null,
      "outputs": []
    },
    {
      "cell_type": "code",
      "metadata": {
        "id": "8ULQhVOjH35V"
      },
      "source": [
        "!ls -lt fastText_model*"
      ],
      "execution_count": null,
      "outputs": []
    },
    {
      "cell_type": "markdown",
      "metadata": {
        "id": "OX6w7wASCoSh"
      },
      "source": [
        "## fastText 모델 사용"
      ]
    },
    {
      "cell_type": "code",
      "metadata": {
        "id": "ntm0pMYw-rzF"
      },
      "source": [
        "from gensim.models import KeyedVectors\n",
        "\n",
        "model = KeyedVectors.load_word2vec_format('fastText_model.vec')\n",
        "# model = KeyedVectors.load_word2vec_format(os.path.join('/content/drive/MyDrive/nlp/data/', 'fastText_model.vec'))"
      ],
      "execution_count": null,
      "outputs": []
    },
    {
      "cell_type": "code",
      "metadata": {
        "id": "9DAKrQgDBCfo"
      },
      "source": [
        "model.wv.most_similar(positive=[\"영화\"])"
      ],
      "execution_count": null,
      "outputs": []
    },
    {
      "cell_type": "code",
      "metadata": {
        "id": "tk9nZop3BTPQ"
      },
      "source": [
        "model.wv.most_similar(positive=[\"재미\"])"
      ],
      "execution_count": null,
      "outputs": []
    },
    {
      "cell_type": "code",
      "metadata": {
        "id": "9fSh_atKBkIy"
      },
      "source": [
        "model.wv.similarity(\"배우\", '출연')"
      ],
      "execution_count": null,
      "outputs": []
    },
    {
      "cell_type": "markdown",
      "metadata": {
        "id": "Lzo7LKuWHMTY"
      },
      "source": [
        "## 한국어 pre-trained embedding 다운로드\n",
        "- https://fasttext.cc/docs/en/crawl-vectors.html"
      ]
    },
    {
      "cell_type": "code",
      "metadata": {
        "id": "5NUVtKKKHIBq"
      },
      "source": [
        "!pip install fasttext\n",
        "%cd /content"
      ],
      "execution_count": null,
      "outputs": []
    },
    {
      "cell_type": "code",
      "metadata": {
        "id": "v3drQMC_Qx0U"
      },
      "source": [
        "import fasttext\n",
        "import fasttext.util"
      ],
      "execution_count": null,
      "outputs": []
    },
    {
      "cell_type": "code",
      "metadata": {
        "id": "usm4dIXYHb66"
      },
      "source": [
        "fasttext.util.download_model('ko', if_exists='ignore')\n",
        "\n",
        "!ls -lt cc*"
      ],
      "execution_count": null,
      "outputs": []
    },
    {
      "cell_type": "code",
      "metadata": {
        "id": "G4GRTMJ5JEHP"
      },
      "source": [
        "!gzip -d cc.ko.300.bin.gz\n",
        "!ls -lt cc*"
      ],
      "execution_count": null,
      "outputs": []
    },
    {
      "cell_type": "code",
      "metadata": {
        "id": "-ZybNFcjRgFv"
      },
      "source": [
        "model = fasttext.load_model('cc.ko.300.bin')"
      ],
      "execution_count": null,
      "outputs": []
    },
    {
      "cell_type": "markdown",
      "metadata": {
        "id": "gB0A-UD6Jsol"
      },
      "source": [
        "## fastText 모델 사용"
      ]
    },
    {
      "cell_type": "code",
      "metadata": {
        "id": "cN_P6CY-8b3Y"
      },
      "source": [
        "model.get_dimension()"
      ],
      "execution_count": null,
      "outputs": []
    },
    {
      "cell_type": "code",
      "metadata": {
        "id": "asd1SB0i8eE7"
      },
      "source": [
        "model.get_word_vector('파이썬')"
      ],
      "execution_count": null,
      "outputs": []
    },
    {
      "cell_type": "code",
      "metadata": {
        "id": "O3kTtQeM8mzW"
      },
      "source": [
        "model.get_sentence_vector('코로나19가 바꾼 일상 중에서 가장 큰 변화가 무엇일까요?')"
      ],
      "execution_count": null,
      "outputs": []
    },
    {
      "cell_type": "code",
      "metadata": {
        "id": "0BYgLLxiBuch"
      },
      "source": [
        "model.get_nearest_neighbors('자연어', k=10)"
      ],
      "execution_count": null,
      "outputs": []
    },
    {
      "cell_type": "code",
      "metadata": {
        "id": "hiN6N21bTvC3"
      },
      "source": [
        ""
      ],
      "execution_count": null,
      "outputs": []
    }
  ]
}