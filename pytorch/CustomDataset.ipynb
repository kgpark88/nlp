{
  "nbformat": 4,
  "nbformat_minor": 0,
  "metadata": {
    "colab": {
      "name": "03_CustomDataset.ipynb",
      "provenance": [],
      "collapsed_sections": []
    },
    "kernelspec": {
      "name": "python3",
      "display_name": "Python 3"
    },
    "language_info": {
      "name": "python"
    }
  },
  "cells": [
    {
      "cell_type": "markdown",
      "metadata": {
        "id": "RaDJeIQl2AFY"
      },
      "source": [
        "출처 : https://wikidocs.net/57165"
      ]
    },
    {
      "cell_type": "markdown",
      "metadata": {
        "id": "qye11R741_k5"
      },
      "source": [
        "- 파이토치에서는 데이터셋을 좀 더 쉽게 다룰 수 있도록 유용한 도구로서 torch.utils.data.Dataset과 torch.utils.data.DataLoader를 제공합니다. \n",
        "- 이를 사용하면 미니 배치 학습, 데이터 셔플(shuffle), 병렬 처리까지 간단히 수행할 수 있습니다. 기본적인 사용 방법은 Dataset을 정의하고, 이를 DataLoader에 전달하는 것입니다. "
      ]
    },
    {
      "cell_type": "markdown",
      "metadata": {
        "id": "6SCI294q2W1Q"
      },
      "source": [
        "## 1. 커스텀 데이터셋(Custom Dataset)\n",
        "torch.utils.data.Dataset은 파이토치에서 데이터셋을 제공하는 추상 클래스입니다.   \n",
        "Dataset을 상속받아 다음 메소드들을 오버라이드 하여 커스텀 데이터셋을 만들어보겠습니다.  \n",
        "커스텀 데이터셋을 만들 때, 일단 가장 기본적인 뼈대는 아래와 같습니다. "
      ]
    },
    {
      "cell_type": "code",
      "metadata": {
        "id": "mWvpvRi9Rysy"
      },
      "source": [
        "import torch\n",
        "import torch.nn.functional as F\n",
        "from torch.utils.data import Dataset\n",
        "from torch.utils.data import DataLoader"
      ],
      "execution_count": 1,
      "outputs": []
    },
    {
      "cell_type": "code",
      "metadata": {
        "id": "js_KzOuW180P"
      },
      "source": [
        "class CustomDataset(torch.utils.data.Dataset): \n",
        "    def __init__(self):\n",
        "        #  데이터셋의 전처리를 해주는 부분\n",
        "        pass\n",
        "\n",
        "    def __len__(self):\n",
        "        #  데이터셋의 길이. 즉, 총 샘플의 수를 적어주는 부분\n",
        "        pass\n",
        "\n",
        "    def __getitem__(self, idx):\n",
        "        #  데이터셋에서 특정 1개의 샘플을 가져오는 함수\n",
        "        pass "
      ],
      "execution_count": 2,
      "outputs": []
    },
    {
      "cell_type": "markdown",
      "metadata": {
        "id": "WyQdjYbS2dH5"
      },
      "source": [
        "# 2. 커스텀 데이터셋(Custom Dataset)으로 선형 회귀 구현하기"
      ]
    },
    {
      "cell_type": "code",
      "metadata": {
        "id": "WQKHMYjn2Zm6"
      },
      "source": [
        "# Dataset 상속\n",
        "class CustomDataset(Dataset): \n",
        "    def __init__(self):\n",
        "        self.x_data = [[73, 80, 75],\n",
        "                       [93, 88, 93],\n",
        "                       [89, 91, 90],\n",
        "                       [96, 98, 100],\n",
        "                       [73, 66, 70]]\n",
        "        self.y_data = [[152], [185], [180], [196], [142]]\n",
        "\n",
        "    # 총 데이터의 개수를 리턴\n",
        "    def __len__(self): \n",
        "        return len(self.x_data)\n",
        "\n",
        "    # 인덱스를 입력받아 그에 맵핑되는 입출력 데이터를 파이토치의 Tensor 형태로 리턴\n",
        "    def __getitem__(self, idx): \n",
        "        x = torch.FloatTensor(self.x_data[idx])\n",
        "        y = torch.FloatTensor(self.y_data[idx])\n",
        "        return x, y"
      ],
      "execution_count": 3,
      "outputs": []
    },
    {
      "cell_type": "code",
      "metadata": {
        "id": "TPiu1VV12kxg"
      },
      "source": [
        "dataset = CustomDataset()\n",
        "dataloader = DataLoader(dataset, batch_size=2, shuffle=True)"
      ],
      "execution_count": 4,
      "outputs": []
    },
    {
      "cell_type": "code",
      "metadata": {
        "id": "q7wj7jFFhIfy"
      },
      "source": [
        "model = torch.nn.Linear(3,1)\n",
        "optimizer = torch.optim.SGD(model.parameters(), lr=1e-5) "
      ],
      "execution_count": 6,
      "outputs": []
    },
    {
      "cell_type": "code",
      "metadata": {
        "colab": {
          "base_uri": "https://localhost:8080/"
        },
        "id": "NFigSO1VSXsj",
        "outputId": "2ed3dc37-9c32-43ff-810c-655744192599"
      },
      "source": [
        "nb_epochs = 20\n",
        "for epoch in range(nb_epochs + 1):\n",
        "    for batch_idx, samples in enumerate(dataloader):\n",
        "        # print(batch_idx)\n",
        "        # print(samples)\n",
        "        x_train, y_train = samples\n",
        "        # H(x) 계산\n",
        "        prediction = model(x_train)\n",
        "\n",
        "        # cost 계산\n",
        "        cost = F.mse_loss(prediction, y_train)\n",
        "\n",
        "        # cost로 H(x) 계산\n",
        "        optimizer.zero_grad()\n",
        "        cost.backward()\n",
        "        optimizer.step()\n",
        "\n",
        "        print('Epoch {:4d}/{} Batch {}/{} Cost: {:.6f}'.format(\n",
        "        epoch, nb_epochs, batch_idx+1, len(dataloader),\n",
        "        cost.item()\n",
        "        ))"
      ],
      "execution_count": 7,
      "outputs": [
        {
          "output_type": "stream",
          "text": [
            "Epoch    0/20 Batch 1/3 Cost: 56513.132812\n",
            "Epoch    0/20 Batch 2/3 Cost: 43806.664062\n",
            "Epoch    0/20 Batch 3/3 Cost: 8262.306641\n",
            "Epoch    1/20 Batch 1/3 Cost: 2018.406250\n",
            "Epoch    1/20 Batch 2/3 Cost: 629.101868\n",
            "Epoch    1/20 Batch 3/3 Cost: 266.545868\n",
            "Epoch    2/20 Batch 1/3 Cost: 39.432507\n",
            "Epoch    2/20 Batch 2/3 Cost: 28.704666\n",
            "Epoch    2/20 Batch 3/3 Cost: 19.674618\n",
            "Epoch    3/20 Batch 1/3 Cost: 7.289553\n",
            "Epoch    3/20 Batch 2/3 Cost: 3.132778\n",
            "Epoch    3/20 Batch 3/3 Cost: 0.282859\n",
            "Epoch    4/20 Batch 1/3 Cost: 0.414028\n",
            "Epoch    4/20 Batch 2/3 Cost: 5.647916\n",
            "Epoch    4/20 Batch 3/3 Cost: 3.364282\n",
            "Epoch    5/20 Batch 1/3 Cost: 3.537769\n",
            "Epoch    5/20 Batch 2/3 Cost: 6.013526\n",
            "Epoch    5/20 Batch 3/3 Cost: 2.032200\n",
            "Epoch    6/20 Batch 1/3 Cost: 2.341038\n",
            "Epoch    6/20 Batch 2/3 Cost: 3.915900\n",
            "Epoch    6/20 Batch 3/3 Cost: 1.205352\n",
            "Epoch    7/20 Batch 1/3 Cost: 1.177403\n",
            "Epoch    7/20 Batch 2/3 Cost: 7.607594\n",
            "Epoch    7/20 Batch 3/3 Cost: 1.528243\n",
            "Epoch    8/20 Batch 1/3 Cost: 3.946331\n",
            "Epoch    8/20 Batch 2/3 Cost: 1.485405\n",
            "Epoch    8/20 Batch 3/3 Cost: 3.396095\n",
            "Epoch    9/20 Batch 1/3 Cost: 5.064583\n",
            "Epoch    9/20 Batch 2/3 Cost: 1.689103\n",
            "Epoch    9/20 Batch 3/3 Cost: 2.588467\n",
            "Epoch   10/20 Batch 1/3 Cost: 5.265929\n",
            "Epoch   10/20 Batch 2/3 Cost: 1.098894\n",
            "Epoch   10/20 Batch 3/3 Cost: 5.074455\n",
            "Epoch   11/20 Batch 1/3 Cost: 1.486935\n",
            "Epoch   11/20 Batch 2/3 Cost: 3.465329\n",
            "Epoch   11/20 Batch 3/3 Cost: 4.537636\n",
            "Epoch   12/20 Batch 1/3 Cost: 6.932425\n",
            "Epoch   12/20 Batch 2/3 Cost: 3.035296\n",
            "Epoch   12/20 Batch 3/3 Cost: 0.389710\n",
            "Epoch   13/20 Batch 1/3 Cost: 0.111602\n",
            "Epoch   13/20 Batch 2/3 Cost: 7.748461\n",
            "Epoch   13/20 Batch 3/3 Cost: 3.910419\n",
            "Epoch   14/20 Batch 1/3 Cost: 0.401888\n",
            "Epoch   14/20 Batch 2/3 Cost: 5.585592\n",
            "Epoch   14/20 Batch 3/3 Cost: 3.261139\n",
            "Epoch   15/20 Batch 1/3 Cost: 1.328164\n",
            "Epoch   15/20 Batch 2/3 Cost: 3.510793\n",
            "Epoch   15/20 Batch 3/3 Cost: 4.759156\n",
            "Epoch   16/20 Batch 1/3 Cost: 2.208369\n",
            "Epoch   16/20 Batch 2/3 Cost: 3.997117\n",
            "Epoch   16/20 Batch 3/3 Cost: 3.152825\n",
            "Epoch   17/20 Batch 1/3 Cost: 2.512479\n",
            "Epoch   17/20 Batch 2/3 Cost: 4.728275\n",
            "Epoch   17/20 Batch 3/3 Cost: 0.794436\n",
            "Epoch   18/20 Batch 1/3 Cost: 2.473194\n",
            "Epoch   18/20 Batch 2/3 Cost: 4.188073\n",
            "Epoch   18/20 Batch 3/3 Cost: 0.898324\n",
            "Epoch   19/20 Batch 1/3 Cost: 4.766376\n",
            "Epoch   19/20 Batch 2/3 Cost: 1.543340\n",
            "Epoch   19/20 Batch 3/3 Cost: 1.169801\n",
            "Epoch   20/20 Batch 1/3 Cost: 2.390727\n",
            "Epoch   20/20 Batch 2/3 Cost: 4.112753\n",
            "Epoch   20/20 Batch 3/3 Cost: 0.936497\n"
          ],
          "name": "stdout"
        }
      ]
    },
    {
      "cell_type": "code",
      "metadata": {
        "colab": {
          "base_uri": "https://localhost:8080/"
        },
        "id": "Ih8RBdu7Sfbi",
        "outputId": "e18ae482-f75c-4115-deea-c8fb333350c9"
      },
      "source": [
        "# 임의의 입력 [73, 80, 75]를 선언\n",
        "new_var =  torch.FloatTensor([[73, 80, 75]]) \n",
        "# 입력한 값 [73, 80, 75]에 대해서 예측값 y를 리턴받아서 pred_y에 저장\n",
        "pred_y = model(new_var) \n",
        "print(\"훈련 후 입력이 73, 80, 75일 때의 예측값 :\", pred_y) "
      ],
      "execution_count": 8,
      "outputs": [
        {
          "output_type": "stream",
          "text": [
            "훈련 후 입력이 73, 80, 75일 때의 예측값 : tensor([[152.6318]], grad_fn=<AddmmBackward>)\n"
          ],
          "name": "stdout"
        }
      ]
    },
    {
      "cell_type": "code",
      "metadata": {
        "id": "4UVYr3JrSrbt"
      },
      "source": [
        ""
      ],
      "execution_count": null,
      "outputs": []
    }
  ]
}