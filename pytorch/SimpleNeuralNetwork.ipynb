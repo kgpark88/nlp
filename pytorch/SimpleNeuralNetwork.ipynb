{
  "nbformat": 4,
  "nbformat_minor": 0,
  "metadata": {
    "colab": {
      "name": "04-Simple Classifier.ipynb",
      "provenance": [],
      "collapsed_sections": [],
      "include_colab_link": true
    },
    "kernelspec": {
      "name": "python3",
      "display_name": "Python 3"
    },
    "language_info": {
      "name": "python"
    }
  },
  "cells": [
    {
      "cell_type": "markdown",
      "metadata": {
        "id": "view-in-github",
        "colab_type": "text"
      },
      "source": [
        "<a href=\"https://colab.research.google.com/github/kgpark88/nlp/blob/main/pytorch/SimpleNeuralNetwork.ipynb\" target=\"_parent\"><img src=\"https://colab.research.google.com/assets/colab-badge.svg\" alt=\"Open In Colab\"/></a>"
      ]
    },
    {
      "cell_type": "code",
      "metadata": {
        "id": "mSLVwmArVNNh"
      },
      "source": [
        "from sklearn.datasets import load_iris\n",
        "from sklearn.model_selection import train_test_split\n",
        "from sklearn.preprocessing import StandardScaler\n",
        "\n",
        "import torch\n",
        "from torch import nn, optim\n",
        "from torch.utils.data import DataLoader, Dataset \n",
        "import torch.nn.functional as F"
      ],
      "execution_count": 1,
      "outputs": []
    },
    {
      "cell_type": "code",
      "metadata": {
        "id": "0AqOP3aPVP31"
      },
      "source": [
        "iris = load_iris()\n",
        "X = iris['data']\n",
        "y = iris['target']\n",
        "names = iris['target_names']\n",
        "feature_names = iris['feature_names']"
      ],
      "execution_count": 2,
      "outputs": []
    },
    {
      "cell_type": "code",
      "metadata": {
        "id": "Y6WMiReAXQXH",
        "colab": {
          "base_uri": "https://localhost:8080/",
          "height": 195
        },
        "outputId": "5002b077-aed0-483b-fd31-eae2b50b5dfa"
      },
      "source": [
        "import pandas as pd\n",
        "# data, feature name 등 다양한 정보를 포함하고 있다.\n",
        "df = pd.DataFrame(iris.data) \n",
        "df.columns = iris.feature_names \n",
        "df['label'] = iris.target \n",
        "\n",
        "df.head()"
      ],
      "execution_count": 3,
      "outputs": [
        {
          "output_type": "execute_result",
          "data": {
            "text/html": [
              "<div>\n",
              "<style scoped>\n",
              "    .dataframe tbody tr th:only-of-type {\n",
              "        vertical-align: middle;\n",
              "    }\n",
              "\n",
              "    .dataframe tbody tr th {\n",
              "        vertical-align: top;\n",
              "    }\n",
              "\n",
              "    .dataframe thead th {\n",
              "        text-align: right;\n",
              "    }\n",
              "</style>\n",
              "<table border=\"1\" class=\"dataframe\">\n",
              "  <thead>\n",
              "    <tr style=\"text-align: right;\">\n",
              "      <th></th>\n",
              "      <th>sepal length (cm)</th>\n",
              "      <th>sepal width (cm)</th>\n",
              "      <th>petal length (cm)</th>\n",
              "      <th>petal width (cm)</th>\n",
              "      <th>label</th>\n",
              "    </tr>\n",
              "  </thead>\n",
              "  <tbody>\n",
              "    <tr>\n",
              "      <th>0</th>\n",
              "      <td>5.1</td>\n",
              "      <td>3.5</td>\n",
              "      <td>1.4</td>\n",
              "      <td>0.2</td>\n",
              "      <td>0</td>\n",
              "    </tr>\n",
              "    <tr>\n",
              "      <th>1</th>\n",
              "      <td>4.9</td>\n",
              "      <td>3.0</td>\n",
              "      <td>1.4</td>\n",
              "      <td>0.2</td>\n",
              "      <td>0</td>\n",
              "    </tr>\n",
              "    <tr>\n",
              "      <th>2</th>\n",
              "      <td>4.7</td>\n",
              "      <td>3.2</td>\n",
              "      <td>1.3</td>\n",
              "      <td>0.2</td>\n",
              "      <td>0</td>\n",
              "    </tr>\n",
              "    <tr>\n",
              "      <th>3</th>\n",
              "      <td>4.6</td>\n",
              "      <td>3.1</td>\n",
              "      <td>1.5</td>\n",
              "      <td>0.2</td>\n",
              "      <td>0</td>\n",
              "    </tr>\n",
              "    <tr>\n",
              "      <th>4</th>\n",
              "      <td>5.0</td>\n",
              "      <td>3.6</td>\n",
              "      <td>1.4</td>\n",
              "      <td>0.2</td>\n",
              "      <td>0</td>\n",
              "    </tr>\n",
              "  </tbody>\n",
              "</table>\n",
              "</div>"
            ],
            "text/plain": [
              "   sepal length (cm)  sepal width (cm)  ...  petal width (cm)  label\n",
              "0                5.1               3.5  ...               0.2      0\n",
              "1                4.9               3.0  ...               0.2      0\n",
              "2                4.7               3.2  ...               0.2      0\n",
              "3                4.6               3.1  ...               0.2      0\n",
              "4                5.0               3.6  ...               0.2      0\n",
              "\n",
              "[5 rows x 5 columns]"
            ]
          },
          "metadata": {
            "tags": []
          },
          "execution_count": 3
        }
      ]
    },
    {
      "cell_type": "code",
      "metadata": {
        "id": "wqgceRnRVlJh"
      },
      "source": [
        "# 데이터를 numpy 배열로 만들기\n",
        "X = df.drop('label', axis=1).to_numpy() \n",
        "Y = df['label'].to_numpy().reshape((-1,1))\n",
        "\n",
        "# 데이터 스케일링\n",
        "scaler = StandardScaler() \n",
        "scaler.fit(X) \n",
        "X = scaler.transform(X)\n",
        "\n",
        "scaler.fit(Y)\n",
        "Y = scaler.transform(Y)"
      ],
      "execution_count": 4,
      "outputs": []
    },
    {
      "cell_type": "code",
      "metadata": {
        "id": "49bta2v9V1Gf"
      },
      "source": [
        "# 텐서 데이터로 변환하는 클래스\n",
        "class TensorData(Dataset):\n",
        "    def __init__(self, x_data, y_data):\n",
        "        self.x_data = torch.FloatTensor(x_data)\n",
        "        self.y_data = torch.LongTensor(y_data)\n",
        "        self.len = self.y_data.shape[0]\n",
        "\n",
        "    def __getitem__(self, index):\n",
        "        return self.x_data[index], self.y_data[index] \n",
        "\n",
        "    def __len__(self):\n",
        "        return self.len"
      ],
      "execution_count": 5,
      "outputs": []
    },
    {
      "cell_type": "code",
      "metadata": {
        "id": "B4-Coj19V7Gb"
      },
      "source": [
        "scaler = StandardScaler()\n",
        "X_scaled = scaler.fit_transform(X)\n",
        "\n",
        "# Split the data set into training and testing\n",
        "X_train, X_test, Y_train, Y_test = train_test_split(X_scaled, y, test_size=0.2, random_state=2)\n",
        "\n",
        "# 학습 데이터, 시험 데이터 배치 형태로 구축하기\n",
        "trainsets = TensorData(X_train, Y_train)\n",
        "trainloader = torch.utils.data.DataLoader(trainsets, batch_size=16, shuffle=True)\n",
        "\n",
        "testsets = TensorData(X_test, Y_test)\n",
        "testloader = torch.utils.data.DataLoader(testsets, batch_size=16, shuffle=False)"
      ],
      "execution_count": 6,
      "outputs": []
    },
    {
      "cell_type": "code",
      "metadata": {
        "id": "NF8dBOLBX3qV",
        "colab": {
          "base_uri": "https://localhost:8080/"
        },
        "outputId": "433334f8-2683-4624-fe85-792abb7fce5e"
      },
      "source": [
        "testsets[0]"
      ],
      "execution_count": 7,
      "outputs": [
        {
          "output_type": "execute_result",
          "data": {
            "text/plain": [
              "(tensor([-1.5065,  0.7888, -1.3402, -1.1838]), tensor(0))"
            ]
          },
          "metadata": {
            "tags": []
          },
          "execution_count": 7
        }
      ]
    },
    {
      "cell_type": "code",
      "metadata": {
        "id": "ho9a-5tfViu6"
      },
      "source": [
        "class SimpleClassifier(nn.Module):\n",
        "    def __init__(self):\n",
        "        super(SimpleClassifier, self).__init__()\n",
        "        self.fc1 = nn.Linear(4, 100)\n",
        "        self.fc2 = nn.Linear(100, 100)\n",
        "        self.fc3 = nn.Linear(100, 3)\n",
        "        self.softmax = nn.Softmax(dim=1)\n",
        "\n",
        "    def forward(self, X):\n",
        "        X = F.relu(self.fc1(X))\n",
        "        X = self.fc2(X)\n",
        "        X = self.fc3(X)\n",
        "        X = self.softmax(X)\n",
        "\n",
        "        return X"
      ],
      "execution_count": 8,
      "outputs": []
    },
    {
      "cell_type": "code",
      "metadata": {
        "id": "ymEpWZ2SVsn5"
      },
      "source": [
        "model = SimpleClassifier()\n",
        "criterion = nn.CrossEntropyLoss() # cross entropy loss\n",
        "optimizer = optim.Adam(model.parameters(), lr=0.001, weight_decay=1e-7)"
      ],
      "execution_count": 9,
      "outputs": []
    },
    {
      "cell_type": "code",
      "metadata": {
        "id": "HWrxC60iWOGP",
        "colab": {
          "base_uri": "https://localhost:8080/"
        },
        "outputId": "c1403e75-d8b4-444e-9ccb-21294fffd5c5"
      },
      "source": [
        "num_epoch = 10\n",
        "n = len(trainloader)\n",
        "\n",
        "for epoch in range(num_epoch):\n",
        "    running_loss = 0.0\n",
        "    for i, data in enumerate(trainloader, 0): # 무작위로 섞인 16개 데이터가 있는 배치가 하나 씩 들어온다.\n",
        "\n",
        "        inputs, values = data # data에는 X, Y가 들어있다.\n",
        "    \n",
        "        optimizer.zero_grad() # 최적화 초기화\n",
        "        outputs = model(inputs) # 모델에 입력값 대입 후 예측값 산출\n",
        "        loss = criterion(outputs, values) # 손실 함수 계산\n",
        "        loss.backward() # 손실 함수 기준으로 역전파 설정 \n",
        "        optimizer.step() # 역전파를 진행하고 가중치 업데이트\n",
        "        \n",
        "print('Finished Training')"
      ],
      "execution_count": 10,
      "outputs": [
        {
          "output_type": "stream",
          "text": [
            "Finished Training\n"
          ],
          "name": "stdout"
        }
      ]
    },
    {
      "cell_type": "code",
      "metadata": {
        "id": "TGl8XgyEYDDD",
        "colab": {
          "base_uri": "https://localhost:8080/"
        },
        "outputId": "3a6ff5c8-a850-4ff2-8933-a53fc4d167f1"
      },
      "source": [
        "correct = 0\n",
        "with torch.no_grad():\n",
        "  for i, data in enumerate(testsets):\n",
        "    label = data[1].numpy()\n",
        "    predicted = model.forward(data[0].reshape(1,-1))\n",
        "    predicted_label = predicted.argmax().item()\n",
        "    \n",
        "    if label == predicted_label:\n",
        "      correct += 1\n",
        "\n",
        "print(correct)\n",
        "print(correct / len(testsets))"
      ],
      "execution_count": 11,
      "outputs": [
        {
          "output_type": "stream",
          "text": [
            "28\n",
            "0.9333333333333333\n"
          ],
          "name": "stdout"
        }
      ]
    },
    {
      "cell_type": "code",
      "metadata": {
        "id": "YTchqI26Ya7k"
      },
      "source": [
        ""
      ],
      "execution_count": 11,
      "outputs": []
    }
  ]
}