{
  "nbformat": 4,
  "nbformat_minor": 0,
  "metadata": {
    "kernelspec": {
      "display_name": "Python 3",
      "language": "python",
      "name": "python3"
    },
    "language_info": {
      "codemirror_mode": {
        "name": "ipython",
        "version": 3
      },
      "file_extension": ".py",
      "mimetype": "text/x-python",
      "name": "python",
      "nbconvert_exporter": "python",
      "pygments_lexer": "ipython3",
      "version": "3.6.12"
    },
    "pycharm": {
      "stem_cell": {
        "cell_type": "raw",
        "metadata": {
          "collapsed": false
        },
        "source": []
      }
    },
    "colab": {
      "name": "imdb_classification_cnn.ipynb",
      "provenance": [],
      "collapsed_sections": []
    },
    "accelerator": "GPU"
  },
  "cells": [
    {
      "cell_type": "markdown",
      "metadata": {
        "id": "cotFkRrLsSwV"
      },
      "source": [
        "# IMDB 리뷰 감성 분류 - CNN"
      ]
    },
    {
      "cell_type": "markdown",
      "metadata": {
        "id": "hR5MMQNHUbt3"
      },
      "source": [
        "## 라이브러리 임포트"
      ]
    },
    {
      "cell_type": "code",
      "metadata": {
        "id": "Zs5yTV_PsSwa"
      },
      "source": [
        "import os\n",
        "import json\n",
        "import numpy as np\n",
        "import pandas as pd\n",
        "from tqdm import tqdm\n",
        "import matplotlib.pyplot as plt\n",
        "\n",
        "import tensorflow as tf\n",
        "from tensorflow.keras import layers\n",
        "from tensorflow.keras.preprocessing.sequence import pad_sequences\n",
        "from tensorflow.keras.callbacks import EarlyStopping, ModelCheckpoint"
      ],
      "execution_count": null,
      "outputs": []
    },
    {
      "cell_type": "markdown",
      "metadata": {
        "id": "Hvc5T55ZtJb1"
      },
      "source": [
        "## 구글 드라이브 마운트"
      ]
    },
    {
      "cell_type": "code",
      "metadata": {
        "colab": {
          "base_uri": "https://localhost:8080/"
        },
        "id": "YW59byYBtJD0",
        "outputId": "d77ea767-1ac7-439e-c36d-f83e91a30658"
      },
      "source": [
        "from google.colab import drive\n",
        "drive.mount('/content/drive')"
      ],
      "execution_count": null,
      "outputs": [
        {
          "output_type": "stream",
          "text": [
            "Mounted at /content/drive\n"
          ],
          "name": "stdout"
        }
      ]
    },
    {
      "cell_type": "markdown",
      "metadata": {
        "id": "Z4MABCrwsSwb"
      },
      "source": [
        "## 학습 데이터 경로 정의"
      ]
    },
    {
      "cell_type": "code",
      "metadata": {
        "id": "ya69ySk-sSwc"
      },
      "source": [
        "DATA_PATH = '/content/drive/MyDrive/nlpdata/imdb/'\n",
        "TRAIN_INPUT_DATA = 'train_input.npy'\n",
        "TRAIN_LABEL_DATA = 'train_label.npy'\n",
        "DATA_CONFIGS = 'data_configs.json'"
      ],
      "execution_count": null,
      "outputs": []
    },
    {
      "cell_type": "markdown",
      "metadata": {
        "id": "cotC3nsysSwc"
      },
      "source": [
        "## 데이터 로드"
      ]
    },
    {
      "cell_type": "code",
      "metadata": {
        "id": "kIvjFmB7sSwd"
      },
      "source": [
        "train_input = np.load(open(DATA_PATH + TRAIN_INPUT_DATA, 'rb'))\n",
        "train_label = np.load(open(DATA_PATH + TRAIN_LABEL_DATA, 'rb'))\n",
        "prepro_configs = prepro_configs = json.load(open(DATA_PATH + DATA_CONFIGS, 'r'))"
      ],
      "execution_count": null,
      "outputs": []
    },
    {
      "cell_type": "markdown",
      "metadata": {
        "id": "UL1leQqasSwd"
      },
      "source": [
        "## 모델 하이퍼파라메터 정의"
      ]
    },
    {
      "cell_type": "code",
      "metadata": {
        "id": "Ml-5Dz79sSwd"
      },
      "source": [
        "model_name = 'cnn_classifier'\n",
        "BATCH_SIZE = 512\n",
        "NUM_EPOCHS = 2\n",
        "VALID_SPLIT = 0.2\n",
        "MAX_LEN = train_input.shape[1]\n",
        "\n",
        "kargs = {'model_name': model_name,\n",
        "        'vocab_size': prepro_configs['vocab_size'],\n",
        "        'embedding_size': 128,\n",
        "        'num_filters': 100,\n",
        "        'dropout_rate': 0.5,\n",
        "        'hidden_dimension': 250,\n",
        "        'output_dimension':1}"
      ],
      "execution_count": null,
      "outputs": []
    },
    {
      "cell_type": "markdown",
      "metadata": {
        "id": "V8hL51F_sSwd"
      },
      "source": [
        "## 모델 정의"
      ]
    },
    {
      "cell_type": "code",
      "metadata": {
        "id": "ck7bl0iLsSwe"
      },
      "source": [
        "class CNNClassifier(tf.keras.Model):\n",
        "    def __init__(self, **kargs):\n",
        "        super(CNNClassifier, self).__init__(name=kargs['model_name'])\n",
        "        self.embedding = layers.Embedding(input_dim=kargs['vocab_size'],\n",
        "                                     output_dim=kargs['embedding_size'])\n",
        "        self.conv_list = [layers.Conv1D(filters=kargs['num_filters'],\n",
        "                                   kernel_size=kernel_size,\n",
        "                                   padding='valid',\n",
        "                                   activation=tf.keras.activations.relu,\n",
        "                                   kernel_constraint=tf.keras.constraints.MaxNorm(max_value=3.))\n",
        "                                   for kernel_size in [3,4,5]]\n",
        "        self.pooling = layers.GlobalMaxPooling1D()\n",
        "        self.dropout = layers.Dropout(kargs['dropout_rate'])\n",
        "        self.fc1 = layers.Dense(units=kargs['hidden_dimension'],\n",
        "                           activation=tf.keras.activations.relu,\n",
        "                           kernel_constraint=tf.keras.constraints.MaxNorm(max_value=3.))\n",
        "        self.fc2 = layers.Dense(units=kargs['output_dimension'],\n",
        "                           activation=tf.keras.activations.sigmoid,\n",
        "                           kernel_constraint=tf.keras.constraints.MaxNorm(max_value=3.))\n",
        "    def call(self, x):\n",
        "        x = self.embedding(x)\n",
        "        x = self.dropout(x)\n",
        "        x = tf.concat([self.pooling(conv(x)) for conv in self.conv_list], axis=-1)\n",
        "        x = self.fc1(x)\n",
        "        x = self.fc2(x)\n",
        "        return x"
      ],
      "execution_count": null,
      "outputs": []
    },
    {
      "cell_type": "markdown",
      "metadata": {
        "id": "L_Jgwa5CWNUf"
      },
      "source": [
        "## 모델 컴파일"
      ]
    },
    {
      "cell_type": "code",
      "metadata": {
        "id": "_wtbXm2psSwe"
      },
      "source": [
        "model = CNNClassifier(**kargs)\n",
        "model.compile(optimizer=tf.keras.optimizers.Adam(),\n",
        "              loss=tf.keras.losses.BinaryCrossentropy(),\n",
        "              metrics=[tf.keras.metrics.BinaryAccuracy(name='accuracy')])"
      ],
      "execution_count": null,
      "outputs": []
    },
    {
      "cell_type": "markdown",
      "metadata": {
        "id": "fSh9eKI4sSwe"
      },
      "source": [
        "## Callback 선언"
      ]
    },
    {
      "cell_type": "code",
      "metadata": {
        "scrolled": true,
        "id": "U7DtBJJMsSwe"
      },
      "source": [
        "earlystop_callback = EarlyStopping(monitor='val_accuracy', min_delta=0.0001,patience=2)\n",
        "checkpoint_path = DATA_PATH + '/weights_cnn.h5'\n",
        "cp_callback = ModelCheckpoint(checkpoint_path, monitor='val_accuracy', verbose=1, save_best_only=True, save_weights_only=True)"
      ],
      "execution_count": null,
      "outputs": []
    },
    {
      "cell_type": "markdown",
      "metadata": {
        "id": "-muiJ30rsSwh"
      },
      "source": [
        "## 모델 학습"
      ]
    },
    {
      "cell_type": "code",
      "metadata": {
        "colab": {
          "base_uri": "https://localhost:8080/"
        },
        "id": "7unWKZRqsSwh",
        "outputId": "29fc5c07-20f8-41ab-e0eb-1d006bb96fa7"
      },
      "source": [
        "history = model.fit(train_input, train_label, batch_size=BATCH_SIZE, epochs=NUM_EPOCHS,\n",
        "                    validation_split=VALID_SPLIT, callbacks=[earlystop_callback, cp_callback])"
      ],
      "execution_count": null,
      "outputs": [
        {
          "output_type": "stream",
          "text": [
            "Epoch 1/2\n",
            "40/40 [==============================] - 40s 171ms/step - loss: 0.6921 - accuracy: 0.5323 - val_loss: 0.6262 - val_accuracy: 0.7520\n",
            "\n",
            "Epoch 00001: val_accuracy improved from -inf to 0.75200, saving model to /content/drive/MyDrive/nlpdata/imdb/weights_cnn.h5\n",
            "Epoch 2/2\n",
            "40/40 [==============================] - 6s 161ms/step - loss: 0.5233 - accuracy: 0.7792 - val_loss: 0.3265 - val_accuracy: 0.8616\n",
            "\n",
            "Epoch 00002: val_accuracy improved from 0.75200 to 0.86160, saving model to /content/drive/MyDrive/nlpdata/imdb/weights_cnn.h5\n"
          ],
          "name": "stdout"
        }
      ]
    },
    {
      "cell_type": "markdown",
      "metadata": {
        "id": "Ucarcf6FsSwh"
      },
      "source": [
        "## 결과 플롯"
      ]
    },
    {
      "cell_type": "code",
      "metadata": {
        "colab": {
          "base_uri": "https://localhost:8080/",
          "height": 279
        },
        "id": "aZvOjnowsSwi",
        "outputId": "9d878898-68ca-4043-a0c8-3dcb5d77ecb3"
      },
      "source": [
        "plt.plot(history.history['accuracy'])\n",
        "plt.plot(history.history['val_accuracy'])\n",
        "plt.xlabel(\"Epochs\")\n",
        "plt.ylabel('accuracy')\n",
        "plt.legend(['accuracy', 'val_accuracy'])\n",
        "plt.show()"
      ],
      "execution_count": null,
      "outputs": [
        {
          "output_type": "display_data",
          "data": {
            "image/png": "[encoded data removed]",
            "text/plain": [
              "<Figure size 432x288 with 1 Axes>"
            ]
          },
          "metadata": {
            "tags": [],
            "needs_background": "light"
          }
        }
      ]
    },
    {
      "cell_type": "markdown",
      "metadata": {
        "id": "sJHDw_TSsSwi"
      },
      "source": [
        "## 테스트 데이터 불러오기"
      ]
    },
    {
      "cell_type": "code",
      "metadata": {
        "id": "5EJo5Jr0sSwi"
      },
      "source": [
        "TEST_INPUT_DATA = 'test_input.npy'\n",
        "TEST_ID_DATA = 'test_id.npy'\n",
        "\n",
        "test_input = np.load(open(DATA_PATH + TEST_INPUT_DATA, 'rb'))\n",
        "test_input = pad_sequences(test_input, maxlen=test_input.shape[1])"
      ],
      "execution_count": null,
      "outputs": []
    },
    {
      "cell_type": "markdown",
      "metadata": {
        "id": "azo3UoSJsSwj"
      },
      "source": [
        "## 베스트 모델 불러오기"
      ]
    },
    {
      "cell_type": "code",
      "metadata": {
        "id": "o-u-1pVesSwj"
      },
      "source": [
        "model.load_weights(os.path.join(DATA_PATH, 'weights_cnn.h5'))"
      ],
      "execution_count": null,
      "outputs": []
    },
    {
      "cell_type": "markdown",
      "metadata": {
        "id": "rKoCZk18sSwj"
      },
      "source": [
        "## 테스트 데이터 예측하기"
      ]
    },
    {
      "cell_type": "code",
      "metadata": {
        "id": "F-MW_ZSCsSwj"
      },
      "source": [
        "predictions = model.predict(test_input, batch_size=BATCH_SIZE)\n",
        "predictions = predictions.squeeze(-1)"
      ],
      "execution_count": null,
      "outputs": []
    },
    {
      "cell_type": "code",
      "metadata": {
        "id": "s2EfAAMxsSwj"
      },
      "source": [
        "test_id = np.load(open(DATA_PATH + TEST_ID_DATA, 'rb'), allow_pickle=True)\n",
        "output = pd.DataFrame(data={\"id\": list(test_id), \"sentiment\": list(predictions)} )\n",
        "output.to_csv(DATA_PATH + 'answer_cnn.csv', index=False, quoting=3)"
      ],
      "execution_count": null,
      "outputs": []
    },
    {
      "cell_type": "markdown",
      "metadata": {
        "id": "Lj8NQ9-gXK9o"
      },
      "source": [
        "## kgggle에 결과 제출 및 스코어 확인\n",
        "- https://www.kaggle.com/c/word2vec-nlp-tutorial"
      ]
    },
    {
      "cell_type": "code",
      "metadata": {
        "id": "v8IxD5x6XMKd"
      },
      "source": [
        ""
      ],
      "execution_count": null,
      "outputs": []
    }
  ]
}