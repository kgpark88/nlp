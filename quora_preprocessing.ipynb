{
  "nbformat": 4,
  "nbformat_minor": 0,
  "metadata": {
    "colab": {
      "name": "quora_preprocessing.ipynb",
      "provenance": [],
      "collapsed_sections": []
    },
    "kernelspec": {
      "name": "python3",
      "display_name": "Python 3"
    },
    "language_info": {
      "name": "python"
    }
  },
  "cells": [
    {
      "cell_type": "markdown",
      "metadata": {
        "id": "BqGEsERIWhfP"
      },
      "source": [
        "# Quora Questions Pairs\n",
        "- 데이터 : Quora Questions Pairs \n",
        " https://www.kaggle.com/c/quora-question-pairs\n",
        "- kaggle 가입 : https://www.kaggle.com/\n",
        "- kgggle.json 다운로드 : `https://www.kaggle.com/<username>/account`"
      ]
    },
    {
      "cell_type": "markdown",
      "metadata": {
        "id": "6awpQRbaZPYo"
      },
      "source": [
        "## 라이브러리 임포트"
      ]
    },
    {
      "cell_type": "code",
      "metadata": {
        "id": "7Iix8If3ZMO_"
      },
      "source": [
        "import os\n",
        "import zipfile\n",
        "import numpy as np \n",
        "import pandas as pd\n",
        "import seaborn as sns\n",
        "import matplotlib.pyplot as plt\n",
        "from wordcloud import WordCloud\n",
        "%matplotlib inline"
      ],
      "execution_count": 69,
      "outputs": []
    },
    {
      "cell_type": "markdown",
      "metadata": {
        "id": "-ta9hYy1Y5B_"
      },
      "source": [
        "## 구글 드라이브 마운트"
      ]
    },
    {
      "cell_type": "code",
      "metadata": {
        "colab": {
          "base_uri": "https://localhost:8080/"
        },
        "id": "mxjTMokoY25c",
        "outputId": "3d53c2f6-ebd5-44e4-d4d7-9c0207dfcf0f"
      },
      "source": [
        "from google.colab import drive\n",
        "drive.mount('/content/drive')"
      ],
      "execution_count": 70,
      "outputs": [
        {
          "output_type": "stream",
          "text": [
            "Drive already mounted at /content/drive; to attempt to forcibly remount, call drive.mount(\"/content/drive\", force_remount=True).\n"
          ],
          "name": "stdout"
        }
      ]
    },
    {
      "cell_type": "markdown",
      "metadata": {
        "id": "8vC-jIovZIXc"
      },
      "source": [
        "## 데이터 저장 디렉토리 생성"
      ]
    },
    {
      "cell_type": "code",
      "metadata": {
        "id": "8g0UTyB-ZDsw"
      },
      "source": [
        "DATA_PATH = '/content/drive/MyDrive/nlpdata/quora/'\n",
        "\n",
        "if not os.path.exists(DATA_PATH):\n",
        "    os.makedirs(DATA_PATH)"
      ],
      "execution_count": 71,
      "outputs": []
    },
    {
      "cell_type": "markdown",
      "metadata": {
        "id": "jc_pHFf5YTa8"
      },
      "source": [
        "## 데이터 파일 다운로드"
      ]
    },
    {
      "cell_type": "code",
      "metadata": {
        "id": "7u7zeDewWflh"
      },
      "source": [
        "! pip install -q kaggle"
      ],
      "execution_count": 72,
      "outputs": []
    },
    {
      "cell_type": "code",
      "metadata": {
        "colab": {
          "resources": {
            "http://localhost:8080/nbextensions/google.colab/files.js": {
              "data": "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",
              "ok": true,
              "headers": [
                [
                  "content-type",
                  "application/javascript"
                ]
              ],
              "status": 200,
              "status_text": ""
            }
          },
          "base_uri": "https://localhost:8080/",
          "height": 95
        },
        "id": "PxyzncrWWu33",
        "outputId": "0dd53c24-740b-4c08-d66d-e8e0b8ef3865"
      },
      "source": [
        "from google.colab import files\n",
        "\n",
        "files.upload()"
      ],
      "execution_count": 73,
      "outputs": [
        {
          "output_type": "display_data",
          "data": {
            "text/html": [
              "\n",
              "     <input type=\"file\" id=\"files-6c9c560b-a9f5-4108-bf67-88fb2902f9a9\" name=\"files[]\" multiple disabled\n",
              "        style=\"border:none\" />\n",
              "     <output id=\"result-6c9c560b-a9f5-4108-bf67-88fb2902f9a9\">\n",
              "      Upload widget is only available when the cell has been executed in the\n",
              "      current browser session. Please rerun this cell to enable.\n",
              "      </output>\n",
              "      <script src=\"/nbextensions/google.colab/files.js\"></script> "
            ],
            "text/plain": [
              "<IPython.core.display.HTML object>"
            ]
          },
          "metadata": {
            "tags": []
          }
        },
        {
          "output_type": "stream",
          "text": [
            "Saving kaggle.json to kaggle (2).json\n"
          ],
          "name": "stdout"
        },
        {
          "output_type": "execute_result",
          "data": {
            "text/plain": [
              "{'kaggle.json': b'{\"username\":\"kgpark88\",\"key\":\"fbaa5f23aa5ea9df8205d227ee58f7c1\"}'}"
            ]
          },
          "metadata": {
            "tags": []
          },
          "execution_count": 73
        }
      ]
    },
    {
      "cell_type": "code",
      "metadata": {
        "colab": {
          "base_uri": "https://localhost:8080/"
        },
        "id": "NqHuL3BLW3_X",
        "outputId": "b9d00982-7905-44ca-bea0-fc2385d59ce4"
      },
      "source": [
        "! mkdir ~/.kaggle\n",
        "! cp kaggle.json ~/.kaggle/\n",
        "! chmod 600 ~/.kaggle/kaggle.json"
      ],
      "execution_count": 74,
      "outputs": [
        {
          "output_type": "stream",
          "text": [
            "mkdir: cannot create directory ‘/root/.kaggle’: File exists\n"
          ],
          "name": "stdout"
        }
      ]
    },
    {
      "cell_type": "code",
      "metadata": {
        "colab": {
          "base_uri": "https://localhost:8080/"
        },
        "id": "hMF8pAZEW9FY",
        "outputId": "43cca489-a358-40b9-b6cd-5b6ab0b14626"
      },
      "source": [
        "! kaggle competitions download -c quora-question-pairs"
      ],
      "execution_count": 75,
      "outputs": [
        {
          "output_type": "stream",
          "text": [
            "Warning: Looks like you're using an outdated API Version, please consider updating (server 1.5.12 / client 1.5.4)\n",
            "test.csv.zip: Skipping, found more recently modified local copy (use --force to force download)\n",
            "sample_submission.csv.zip: Skipping, found more recently modified local copy (use --force to force download)\n",
            "test.csv.zip: Skipping, found more recently modified local copy (use --force to force download)\n",
            "train.csv.zip: Skipping, found more recently modified local copy (use --force to force download)\n"
          ],
          "name": "stdout"
        }
      ]
    },
    {
      "cell_type": "markdown",
      "metadata": {
        "id": "iz4oyfbgaKXv"
      },
      "source": [
        "## 다운로드 받은 파일 압축 풀기"
      ]
    },
    {
      "cell_type": "code",
      "metadata": {
        "id": "9fKFeb2XXX7R"
      },
      "source": [
        "zip_files = ['train.csv.zip', 'test.csv.zip', 'sample_submission.csv.zip']\n",
        "\n",
        "for file in zip_files:\n",
        "    zipRef = zipfile.ZipFile(file, 'r')\n",
        "    zipRef.extractall(DATA_PATH)\n",
        "    zipRef.close()"
      ],
      "execution_count": 76,
      "outputs": []
    },
    {
      "cell_type": "code",
      "metadata": {
        "colab": {
          "base_uri": "https://localhost:8080/"
        },
        "id": "nepA3FQ1cBWe",
        "outputId": "4cf6e6e2-a6d7-4d90-d2d4-b418da0ad9e2"
      },
      "source": [
        "print(\"파일 크기 : \")\n",
        "for file in os.listdir(DATA_PATH):\n",
        "    print(f'{file: <20}  {os.path.getsize(DATA_PATH + file)/1000:,} MB')"
      ],
      "execution_count": 77,
      "outputs": [
        {
          "output_type": "stream",
          "text": [
            "파일 크기 : \n",
            "train.csv             63,399.11 MB\n",
            "test.csv              477,592.983 MB\n",
            "sample_submission.csv  22,346.871 MB\n",
            "train_q1.npy          50,132.088 MB\n",
            "train_q2.npy          50,132.088 MB\n",
            "train_label.npy       3,234.448 MB\n",
            "data_configs.json     1,776.582 MB\n",
            "test_q1.npy           290,878.832 MB\n",
            "test_q2.npy           290,878.832 MB\n",
            "test_id.npy           11,602.627 MB\n",
            "checkpoint            4.096 MB\n",
            "quora_xgb.csv         43,364.119 MB\n"
          ],
          "name": "stdout"
        }
      ]
    },
    {
      "cell_type": "markdown",
      "metadata": {
        "id": "HF9wHmXGb_Y2"
      },
      "source": [
        "## 데이터 분석"
      ]
    },
    {
      "cell_type": "code",
      "metadata": {
        "colab": {
          "base_uri": "https://localhost:8080/",
          "height": 285
        },
        "id": "-IcRm-trYk4I",
        "outputId": "bf02c85b-a5fd-46d1-827e-307f381bad64"
      },
      "source": [
        "train_data = pd.read_csv(DATA_PATH + 'train.csv')\n",
        "train_data.head()"
      ],
      "execution_count": 78,
      "outputs": [
        {
          "output_type": "execute_result",
          "data": {
            "text/html": [
              "<div>\n",
              "<style scoped>\n",
              "    .dataframe tbody tr th:only-of-type {\n",
              "        vertical-align: middle;\n",
              "    }\n",
              "\n",
              "    .dataframe tbody tr th {\n",
              "        vertical-align: top;\n",
              "    }\n",
              "\n",
              "    .dataframe thead th {\n",
              "        text-align: right;\n",
              "    }\n",
              "</style>\n",
              "<table border=\"1\" class=\"dataframe\">\n",
              "  <thead>\n",
              "    <tr style=\"text-align: right;\">\n",
              "      <th></th>\n",
              "      <th>id</th>\n",
              "      <th>qid1</th>\n",
              "      <th>qid2</th>\n",
              "      <th>question1</th>\n",
              "      <th>question2</th>\n",
              "      <th>is_duplicate</th>\n",
              "    </tr>\n",
              "  </thead>\n",
              "  <tbody>\n",
              "    <tr>\n",
              "      <th>0</th>\n",
              "      <td>0</td>\n",
              "      <td>1</td>\n",
              "      <td>2</td>\n",
              "      <td>What is the step by step guide to invest in sh...</td>\n",
              "      <td>What is the step by step guide to invest in sh...</td>\n",
              "      <td>0</td>\n",
              "    </tr>\n",
              "    <tr>\n",
              "      <th>1</th>\n",
              "      <td>1</td>\n",
              "      <td>3</td>\n",
              "      <td>4</td>\n",
              "      <td>What is the story of Kohinoor (Koh-i-Noor) Dia...</td>\n",
              "      <td>What would happen if the Indian government sto...</td>\n",
              "      <td>0</td>\n",
              "    </tr>\n",
              "    <tr>\n",
              "      <th>2</th>\n",
              "      <td>2</td>\n",
              "      <td>5</td>\n",
              "      <td>6</td>\n",
              "      <td>How can I increase the speed of my internet co...</td>\n",
              "      <td>How can Internet speed be increased by hacking...</td>\n",
              "      <td>0</td>\n",
              "    </tr>\n",
              "    <tr>\n",
              "      <th>3</th>\n",
              "      <td>3</td>\n",
              "      <td>7</td>\n",
              "      <td>8</td>\n",
              "      <td>Why am I mentally very lonely? How can I solve...</td>\n",
              "      <td>Find the remainder when [math]23^{24}[/math] i...</td>\n",
              "      <td>0</td>\n",
              "    </tr>\n",
              "    <tr>\n",
              "      <th>4</th>\n",
              "      <td>4</td>\n",
              "      <td>9</td>\n",
              "      <td>10</td>\n",
              "      <td>Which one dissolve in water quikly sugar, salt...</td>\n",
              "      <td>Which fish would survive in salt water?</td>\n",
              "      <td>0</td>\n",
              "    </tr>\n",
              "  </tbody>\n",
              "</table>\n",
              "</div>"
            ],
            "text/plain": [
              "   id  qid1  ...                                          question2 is_duplicate\n",
              "0   0     1  ...  What is the step by step guide to invest in sh...            0\n",
              "1   1     3  ...  What would happen if the Indian government sto...            0\n",
              "2   2     5  ...  How can Internet speed be increased by hacking...            0\n",
              "3   3     7  ...  Find the remainder when [math]23^{24}[/math] i...            0\n",
              "4   4     9  ...            Which fish would survive in salt water?            0\n",
              "\n",
              "[5 rows x 6 columns]"
            ]
          },
          "metadata": {
            "tags": []
          },
          "execution_count": 78
        }
      ]
    },
    {
      "cell_type": "code",
      "metadata": {
        "colab": {
          "base_uri": "https://localhost:8080/"
        },
        "id": "nU4ZNzF3cMQP",
        "outputId": "8dcdf6ef-c8d4-4412-943c-f8a467cb6887"
      },
      "source": [
        "train_data.info()"
      ],
      "execution_count": 79,
      "outputs": [
        {
          "output_type": "stream",
          "text": [
            "<class 'pandas.core.frame.DataFrame'>\n",
            "RangeIndex: 404290 entries, 0 to 404289\n",
            "Data columns (total 6 columns):\n",
            " #   Column        Non-Null Count   Dtype \n",
            "---  ------        --------------   ----- \n",
            " 0   id            404290 non-null  int64 \n",
            " 1   qid1          404290 non-null  int64 \n",
            " 2   qid2          404290 non-null  int64 \n",
            " 3   question1     404289 non-null  object\n",
            " 4   question2     404288 non-null  object\n",
            " 5   is_duplicate  404290 non-null  int64 \n",
            "dtypes: int64(4), object(2)\n",
            "memory usage: 18.5+ MB\n"
          ],
          "name": "stdout"
        }
      ]
    },
    {
      "cell_type": "code",
      "metadata": {
        "colab": {
          "base_uri": "https://localhost:8080/"
        },
        "id": "Ln78-oCyeKv2",
        "outputId": "d4ed61bf-658d-4a13-cbfd-23f6481fa1c0"
      },
      "source": [
        "for i in range(20):\n",
        "    print(train_data['question1'][i])\n",
        "    print(train_data['question2'][i])\n",
        "    print(train_data['is_duplicate'][i])\n",
        "    print('-'*100)"
      ],
      "execution_count": 80,
      "outputs": [
        {
          "output_type": "stream",
          "text": [
            "What is the step by step guide to invest in share market in india?\n",
            "What is the step by step guide to invest in share market?\n",
            "0\n",
            "----------------------------------------------------------------------------------------------------\n",
            "What is the story of Kohinoor (Koh-i-Noor) Diamond?\n",
            "What would happen if the Indian government stole the Kohinoor (Koh-i-Noor) diamond back?\n",
            "0\n",
            "----------------------------------------------------------------------------------------------------\n",
            "How can I increase the speed of my internet connection while using a VPN?\n",
            "How can Internet speed be increased by hacking through DNS?\n",
            "0\n",
            "----------------------------------------------------------------------------------------------------\n",
            "Why am I mentally very lonely? How can I solve it?\n",
            "Find the remainder when [math]23^{24}[/math] is divided by 24,23?\n",
            "0\n",
            "----------------------------------------------------------------------------------------------------\n",
            "Which one dissolve in water quikly sugar, salt, methane and carbon di oxide?\n",
            "Which fish would survive in salt water?\n",
            "0\n",
            "----------------------------------------------------------------------------------------------------\n",
            "Astrology: I am a Capricorn Sun Cap moon and cap rising...what does that say about me?\n",
            "I'm a triple Capricorn (Sun, Moon and ascendant in Capricorn) What does this say about me?\n",
            "1\n",
            "----------------------------------------------------------------------------------------------------\n",
            "Should I buy tiago?\n",
            "What keeps childern active and far from phone and video games?\n",
            "0\n",
            "----------------------------------------------------------------------------------------------------\n",
            "How can I be a good geologist?\n",
            "What should I do to be a great geologist?\n",
            "1\n",
            "----------------------------------------------------------------------------------------------------\n",
            "When do you use シ instead of し?\n",
            "When do you use \"&\" instead of \"and\"?\n",
            "0\n",
            "----------------------------------------------------------------------------------------------------\n",
            "Motorola (company): Can I hack my Charter Motorolla DCX3400?\n",
            "How do I hack Motorola DCX3400 for free internet?\n",
            "0\n",
            "----------------------------------------------------------------------------------------------------\n",
            "Method to find separation of slits using fresnel biprism?\n",
            "What are some of the things technicians can tell about the durability and reliability of Laptops and its components?\n",
            "0\n",
            "----------------------------------------------------------------------------------------------------\n",
            "How do I read and find my YouTube comments?\n",
            "How can I see all my Youtube comments?\n",
            "1\n",
            "----------------------------------------------------------------------------------------------------\n",
            "What can make Physics easy to learn?\n",
            "How can you make physics easy to learn?\n",
            "1\n",
            "----------------------------------------------------------------------------------------------------\n",
            "What was your first sexual experience like?\n",
            "What was your first sexual experience?\n",
            "1\n",
            "----------------------------------------------------------------------------------------------------\n",
            "What are the laws to change your status from a student visa to a green card in the US, how do they compare to the immigration laws in Canada?\n",
            "What are the laws to change your status from a student visa to a green card in the US? How do they compare to the immigration laws in Japan?\n",
            "0\n",
            "----------------------------------------------------------------------------------------------------\n",
            "What would a Trump presidency mean for current international master’s students on an F1 visa?\n",
            "How will a Trump presidency affect the students presently in US or planning to study in US?\n",
            "1\n",
            "----------------------------------------------------------------------------------------------------\n",
            "What does manipulation mean?\n",
            "What does manipulation means?\n",
            "1\n",
            "----------------------------------------------------------------------------------------------------\n",
            "Why do girls want to be friends with the guy they reject?\n",
            "How do guys feel after rejecting a girl?\n",
            "0\n",
            "----------------------------------------------------------------------------------------------------\n",
            "Why are so many Quora users posting questions that are readily answered on Google?\n",
            "Why do people ask Quora questions which can be answered easily by Google?\n",
            "1\n",
            "----------------------------------------------------------------------------------------------------\n",
            "Which is the best digital marketing institution in banglore?\n",
            "Which is the best digital marketing institute in Pune?\n",
            "0\n",
            "----------------------------------------------------------------------------------------------------\n"
          ],
          "name": "stdout"
        }
      ]
    },
    {
      "cell_type": "code",
      "metadata": {
        "colab": {
          "base_uri": "https://localhost:8080/"
        },
        "id": "eqk3lnlweU9N",
        "outputId": "14232a75-8001-45bb-c6c9-9da0b7f09346"
      },
      "source": [
        "train_set = pd.Series(train_data['question1'].tolist() + train_data['question2'].tolist()).astype(str)\n",
        "train_set.head()"
      ],
      "execution_count": 81,
      "outputs": [
        {
          "output_type": "execute_result",
          "data": {
            "text/plain": [
              "0    What is the step by step guide to invest in sh...\n",
              "1    What is the story of Kohinoor (Koh-i-Noor) Dia...\n",
              "2    How can I increase the speed of my internet co...\n",
              "3    Why am I mentally very lonely? How can I solve...\n",
              "4    Which one dissolve in water quikly sugar, salt...\n",
              "dtype: object"
            ]
          },
          "metadata": {
            "tags": []
          },
          "execution_count": 81
        }
      ]
    },
    {
      "cell_type": "code",
      "metadata": {
        "colab": {
          "base_uri": "https://localhost:8080/"
        },
        "id": "hC37EdZ5eYPt",
        "outputId": "e869ef51-8843-480f-be11-1823e858de4d"
      },
      "source": [
        "print(f'데이터 개수: {len(np.unique(train_set)):,}')\n",
        "print(f'데이터 중복 개수: {np.sum(train_set.value_counts() > 1):,}')"
      ],
      "execution_count": 82,
      "outputs": [
        {
          "output_type": "stream",
          "text": [
            "데이터 개수: 537,361\n",
            "데이터 중복 개수: 111,873\n"
          ],
          "name": "stdout"
        }
      ]
    },
    {
      "cell_type": "code",
      "metadata": {
        "colab": {
          "base_uri": "https://localhost:8080/",
          "height": 301
        },
        "id": "C3Ib9XFdfyR7",
        "outputId": "f313eb44-705b-43d5-c0f8-a634864d8fca"
      },
      "source": [
        "fig, axe = plt.subplots(ncols=1)\n",
        "fig.set_size_inches(6, 3)\n",
        "sns.countplot(train_data['is_duplicate'])"
      ],
      "execution_count": 83,
      "outputs": [
        {
          "output_type": "stream",
          "text": [
            "/usr/local/lib/python3.7/dist-packages/seaborn/_decorators.py:43: FutureWarning: Pass the following variable as a keyword arg: x. From version 0.12, the only valid positional argument will be `data`, and passing other arguments without an explicit keyword will result in an error or misinterpretation.\n",
            "  FutureWarning\n"
          ],
          "name": "stderr"
        },
        {
          "output_type": "execute_result",
          "data": {
            "text/plain": [
              "<matplotlib.axes._subplots.AxesSubplot at 0x7f38c86e2e10>"
            ]
          },
          "metadata": {
            "tags": []
          },
          "execution_count": 83
        },
        {
          "output_type": "display_data",
          "data": {
            "image/png": "[encoded data removed]",
            "text/plain": [
              "<Figure size 432x216 with 1 Axes>"
            ]
          },
          "metadata": {
            "tags": [],
            "needs_background": "light"
          }
        }
      ]
    },
    {
      "cell_type": "code",
      "metadata": {
        "id": "7NBKuOczgOHp"
      },
      "source": [
        "train_length = train_set.apply(len)"
      ],
      "execution_count": 84,
      "outputs": []
    },
    {
      "cell_type": "code",
      "metadata": {
        "colab": {
          "base_uri": "https://localhost:8080/"
        },
        "id": "9_MyMZXcgT-M",
        "outputId": "7d67b2d9-b14c-4b5a-a464-87036f1f6a0d"
      },
      "source": [
        "print(f'질문 길이 최대 값: {np.max(train_length):,}')\n",
        "print(f'질문 길이 평균 값: {np.mean(train_length):.2f}')\n",
        "print(f'질문 길이 표준편차: {np.std(train_length):.2f}')\n",
        "print(f'질문 길이 중간 값: {np.median(train_length)}')"
      ],
      "execution_count": 85,
      "outputs": [
        {
          "output_type": "stream",
          "text": [
            "질문 길이 최대 값: 1,169\n",
            "질문 길이 평균 값: 59.82\n",
            "질문 길이 표준편차: 31.96\n",
            "질문 길이 중간 값: 51.0\n"
          ],
          "name": "stdout"
        }
      ]
    },
    {
      "cell_type": "code",
      "metadata": {
        "id": "CCPFka2egZKd"
      },
      "source": [
        "train_word_counts = train_set.apply(lambda x:len(x.split(' ')))"
      ],
      "execution_count": 86,
      "outputs": []
    },
    {
      "cell_type": "code",
      "metadata": {
        "colab": {
          "base_uri": "https://localhost:8080/"
        },
        "id": "TjcGDHR5gvX8",
        "outputId": "4d774345-f30e-4206-eb04-23ddc090f42b"
      },
      "source": [
        "print(f'질문 단어 개수 최대 값: {np.max(train_word_counts)}')\n",
        "print(f'질문 단어 개수 평균 값: {np.mean(train_word_counts):.2f}')\n",
        "print(f'질문 단어 개수 표준편차: {np.std(train_word_counts):.2f}')\n",
        "print(f'질문 단어 개수 중간 값: {np.median(train_word_counts)}')"
      ],
      "execution_count": 87,
      "outputs": [
        {
          "output_type": "stream",
          "text": [
            "질문 단어 개수 최대 값: 237\n",
            "질문 단어 개수 평균 값: 11.06\n",
            "질문 단어 개수 표준편차: 5.89\n",
            "질문 단어 개수 중간 값: 10.0\n"
          ],
          "name": "stdout"
        }
      ]
    },
    {
      "cell_type": "markdown",
      "metadata": {
        "id": "ytygU2fDjCQs"
      },
      "source": [
        "## 데이터 전처리"
      ]
    },
    {
      "cell_type": "code",
      "metadata": {
        "id": "rVx1PFl0hLzS"
      },
      "source": [
        "import re\n",
        "import json\n",
        "import numpy as np\n",
        "import pandas as pd\n",
        "\n",
        "from tensorflow.keras.preprocessing.text import Tokenizer\n",
        "from tensorflow.keras.preprocessing.sequence import pad_sequences"
      ],
      "execution_count": 88,
      "outputs": []
    },
    {
      "cell_type": "code",
      "metadata": {
        "id": "_VO83DEsjHv4"
      },
      "source": [
        "DATA_PATH = '/content/drive/MyDrive/nlpdata/quora/'\n",
        "FILTERS = \"([~.,!?\\\"':;)(])\"\n",
        "MAX_SEQUENCE_LENGTH = 31\n",
        "\n",
        "change_filter = re.compile(FILTERS)"
      ],
      "execution_count": 89,
      "outputs": []
    },
    {
      "cell_type": "code",
      "metadata": {
        "id": "1-Wg3_NjjRNK"
      },
      "source": [
        "train_data = pd.read_csv(DATA_PATH + 'train.csv', encoding='utf-8')"
      ],
      "execution_count": 90,
      "outputs": []
    },
    {
      "cell_type": "code",
      "metadata": {
        "id": "49T7OlIiuIUL"
      },
      "source": [
        "train_pos_data = train_data.loc[train_data['is_duplicate'] == 1]\n",
        "train_neg_data = train_data.loc[train_data['is_duplicate'] == 0]\n",
        "\n",
        "class_difference = len(train_neg_data) - len(train_pos_data)\n",
        "sample_frac = 1 - (class_difference / len(train_neg_data))\n",
        "\n",
        "train_neg_data = train_neg_data.sample(frac = sample_frac)"
      ],
      "execution_count": 91,
      "outputs": []
    },
    {
      "cell_type": "code",
      "metadata": {
        "colab": {
          "base_uri": "https://localhost:8080/"
        },
        "id": "tdpy540fuK37",
        "outputId": "da8f1709-5cd5-420a-e448-1d21c90e6e4e"
      },
      "source": [
        "print(\"중복 질문 개수: {len(train_pos_data)}\")\n",
        "print(\"중복이 아닌 질문 개수: {len(train_neg_data)}\")"
      ],
      "execution_count": 92,
      "outputs": [
        {
          "output_type": "stream",
          "text": [
            "중복 질문 개수: {len(train_pos_data)}\n",
            "중복이 아닌 질문 개수: {len(train_neg_data)}\n"
          ],
          "name": "stdout"
        }
      ]
    },
    {
      "cell_type": "code",
      "metadata": {
        "id": "I-GSMiiXubI3"
      },
      "source": [
        "train_data = pd.concat([train_neg_data, train_pos_data])"
      ],
      "execution_count": 93,
      "outputs": []
    },
    {
      "cell_type": "code",
      "metadata": {
        "id": "VsbNyIAXjZda"
      },
      "source": [
        "change_filter = re.compile(FILTERS)\n",
        "\n",
        "questions1 = [str(s) for s in train_data['question1']]\n",
        "questions2 = [str(s) for s in train_data['question2']]\n",
        "\n",
        "filtered_questions1 = list()\n",
        "filtered_questions2 = list()\n",
        "\n",
        "for q in questions1:\n",
        "     filtered_questions1.append(re.sub(change_filter, \"\", q).lower())\n",
        "        \n",
        "for q in questions2:\n",
        "     filtered_questions2.append(re.sub(change_filter, \"\", q).lower())"
      ],
      "execution_count": 94,
      "outputs": []
    },
    {
      "cell_type": "code",
      "metadata": {
        "id": "U80ZFpBejukj"
      },
      "source": [
        "tokenizer = Tokenizer()\n",
        "tokenizer.fit_on_texts(filtered_questions1 + filtered_questions2)"
      ],
      "execution_count": 95,
      "outputs": []
    },
    {
      "cell_type": "code",
      "metadata": {
        "id": "5DN4TdyxjwOa"
      },
      "source": [
        "questions1_sequence = tokenizer.texts_to_sequences(filtered_questions1)\n",
        "questions2_sequence = tokenizer.texts_to_sequences(filtered_questions2)"
      ],
      "execution_count": 96,
      "outputs": []
    },
    {
      "cell_type": "code",
      "metadata": {
        "id": "Em7h3faJkO5D"
      },
      "source": [
        "q1_data = pad_sequences(questions1_sequence, maxlen=MAX_SEQUENCE_LENGTH, padding='post')\n",
        "q2_data = pad_sequences(questions2_sequence, maxlen=MAX_SEQUENCE_LENGTH, padding='post')"
      ],
      "execution_count": 97,
      "outputs": []
    },
    {
      "cell_type": "code",
      "metadata": {
        "colab": {
          "base_uri": "https://localhost:8080/"
        },
        "id": "eQu0dbXOkQuR",
        "outputId": "4df8ed95-aa8d-481e-edc9-82f7effc116d"
      },
      "source": [
        "word_vocab = {}\n",
        "word_vocab = tokenizer.word_index \n",
        "\n",
        "labels = np.array(train_data['is_duplicate'], dtype=int)\n",
        "\n",
        "print(f'Shape of question1 data: {q1_data.shape}')\n",
        "print(f'Shape of question2 data:{q2_data.shape}')\n",
        "print(f'Shape of label: {labels.shape}')\n",
        "print(f\"Words in index: {len(word_vocab)}\")"
      ],
      "execution_count": 106,
      "outputs": [
        {
          "output_type": "stream",
          "text": [
            "Shape of question1 data: (298526, 31)\n",
            "Shape of question2 data:(298526, 31)\n",
            "Shape of label: (298526,)\n",
            "Words in index: 76516\n"
          ],
          "name": "stdout"
        }
      ]
    },
    {
      "cell_type": "code",
      "metadata": {
        "id": "GoLNgn81kSM6"
      },
      "source": [
        "data_configs = {}\n",
        "data_configs['vocab'] = word_vocab\n",
        "data_configs['vocab_size'] = len(word_vocab)+1"
      ],
      "execution_count": 99,
      "outputs": []
    },
    {
      "cell_type": "code",
      "metadata": {
        "id": "iAre5JQfkTzS"
      },
      "source": [
        "TRAIN_Q1_DATA = 'train_q1.npy'\n",
        "TRAIN_Q2_DATA = 'train_q2.npy'\n",
        "TRAIN_LABEL_DATA = 'train_label.npy'\n",
        "DATA_CONFIGS = 'data_configs.json'\n",
        "\n",
        "np.save(open(DATA_PATH + TRAIN_Q1_DATA, 'wb'), q1_data)\n",
        "np.save(open(DATA_PATH + TRAIN_Q2_DATA , 'wb'), q2_data)\n",
        "np.save(open(DATA_PATH + TRAIN_LABEL_DATA , 'wb'), labels)\n",
        "\n",
        "json.dump(data_configs, open(DATA_PATH + DATA_CONFIGS, 'w'))"
      ],
      "execution_count": 100,
      "outputs": []
    },
    {
      "cell_type": "code",
      "metadata": {
        "id": "G9eAwUQykVKC",
        "colab": {
          "base_uri": "https://localhost:8080/"
        },
        "outputId": "c01f3755-bb5e-4d2d-aa27-6633b9783d03"
      },
      "source": [
        "test_data = pd.read_csv(DATA_PATH + 'test.csv', encoding='utf-8')\n",
        "valid_ids = [type(x) ==int for x in test_data.test_id] \n",
        "test_data = test_data[valid_ids].drop_duplicates()"
      ],
      "execution_count": 101,
      "outputs": [
        {
          "output_type": "stream",
          "text": [
            "/usr/local/lib/python3.7/dist-packages/IPython/core/interactiveshell.py:2718: DtypeWarning: Columns (0) have mixed types.Specify dtype option on import or set low_memory=False.\n",
            "  interactivity=interactivity, compiler=compiler, result=result)\n"
          ],
          "name": "stderr"
        }
      ]
    },
    {
      "cell_type": "code",
      "metadata": {
        "id": "hUafPI02kdii"
      },
      "source": [
        "test_questions1 = [str(s) for s in test_data['question1']]\n",
        "test_questions2 = [str(s) for s in test_data['question2']]\n",
        "\n",
        "filtered_test_questions1 = list()\n",
        "filtered_test_questions2 = list()\n",
        "\n",
        "for q in test_questions1:\n",
        "     filtered_test_questions1.append(re.sub(change_filter, \"\", q).lower())\n",
        "        \n",
        "for q in test_questions2:\n",
        "     filtered_test_questions2.append(re.sub(change_filter, \"\", q).lower())"
      ],
      "execution_count": 102,
      "outputs": []
    },
    {
      "cell_type": "code",
      "metadata": {
        "id": "znHLKi0CkfF6"
      },
      "source": [
        "test_questions1_sequence = tokenizer.texts_to_sequences(filtered_test_questions1)\n",
        "test_questions2_sequence = tokenizer.texts_to_sequences(filtered_test_questions2)\n",
        "\n",
        "test_q1_data = pad_sequences(test_questions1_sequence, maxlen=MAX_SEQUENCE_LENGTH, padding='post')\n",
        "test_q2_data = pad_sequences(test_questions2_sequence, maxlen=MAX_SEQUENCE_LENGTH, padding='post')"
      ],
      "execution_count": 103,
      "outputs": []
    },
    {
      "cell_type": "code",
      "metadata": {
        "colab": {
          "base_uri": "https://localhost:8080/"
        },
        "id": "XaqwSHlfkg_q",
        "outputId": "7b15586a-abf5-4ea5-8155-5086030426e0"
      },
      "source": [
        "test_id = np.array(test_data['test_id'])\n",
        "\n",
        "print(f'Shape of question1 data: {test_q1_data.shape}')\n",
        "print(f'Shape of question2 data:{test_q2_data}')\n",
        "print(f'Shape of ids: {test_id}')"
      ],
      "execution_count": 104,
      "outputs": [
        {
          "output_type": "stream",
          "text": [
            "Shape of question1 data: (2345796, 31)\n",
            "Shape of question2 data:[[  16   55 1038 ...    0    0    0]\n",
            " [   4   78  328 ...    0    0    0]\n",
            " [   2   15  680 ...    0    0    0]\n",
            " ...\n",
            " [  13    7  324 ...    0    0    0]\n",
            " [   2   11    1 ...    0    0    0]\n",
            " [   4    9    5 ...    0    0    0]]\n",
            "Shape of ids: [0 1 2 ... 2345793 2345794 2345795]\n"
          ],
          "name": "stdout"
        }
      ]
    },
    {
      "cell_type": "code",
      "metadata": {
        "id": "P5kEFX3Skkvn"
      },
      "source": [
        "TEST_Q1_DATA = 'test_q1.npy'\n",
        "TEST_Q2_DATA = 'test_q2.npy'\n",
        "TEST_ID_DATA = 'test_id.npy'\n",
        "\n",
        "np.save(open(DATA_PATH + TEST_Q1_DATA, 'wb'), test_q1_data)\n",
        "np.save(open(DATA_PATH + TEST_Q2_DATA , 'wb'), test_q2_data)\n",
        "np.save(open(DATA_PATH + TEST_ID_DATA , 'wb'), test_id)"
      ],
      "execution_count": 105,
      "outputs": []
    }
  ]
}