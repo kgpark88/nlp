{
  "nbformat": 4,
  "nbformat_minor": 0,
  "metadata": {
    "accelerator": "GPU",
    "colab": {
      "name": "imdb_classification_rnn.ipynb",
      "provenance": [],
      "collapsed_sections": []
    },
    "kernelspec": {
      "display_name": "Python 3",
      "name": "python3"
    },
    "language_info": {
      "name": "python"
    }
  },
  "cells": [
    {
      "cell_type": "markdown",
      "metadata": {
        "id": "uh0KuPSpj5kA"
      },
      "source": [
        "# IMDB 리뷰 감성 분류 - RNN 모델"
      ]
    },
    {
      "cell_type": "markdown",
      "metadata": {
        "id": "0d4F4VV1kGIe"
      },
      "source": [
        "## 라이브러리 임포트"
      ]
    },
    {
      "cell_type": "code",
      "metadata": {
        "id": "-YKcVtwDf9uA"
      },
      "source": [
        "import os\n",
        "import json\n",
        "import numpy as np\n",
        "import pandas as pd\n",
        "from tqdm import tqdm\n",
        "import matplotlib.pyplot as plt\n",
        "\n",
        "import tensorflow as tf\n",
        "from tensorflow.keras import layers\n",
        "from tensorflow.keras.preprocessing.sequence import pad_sequences\n",
        "from tensorflow.keras.callbacks import EarlyStopping, ModelCheckpoint"
      ],
      "execution_count": null,
      "outputs": []
    },
    {
      "cell_type": "markdown",
      "metadata": {
        "id": "r3yhkwoTkW98"
      },
      "source": [
        "## 구글 드라이브 마운트"
      ]
    },
    {
      "cell_type": "code",
      "metadata": {
        "colab": {
          "base_uri": "https://localhost:8080/"
        },
        "id": "FDCWDPXSgsEz",
        "outputId": "1d8e8cc9-f87c-4ec1-dbbd-d21e99c27926"
      },
      "source": [
        "from google.colab import drive\n",
        "drive.mount('/content/drive')"
      ],
      "execution_count": null,
      "outputs": [
        {
          "output_type": "stream",
          "text": [
            "Mounted at /content/drive\n"
          ],
          "name": "stdout"
        }
      ]
    },
    {
      "cell_type": "markdown",
      "metadata": {
        "id": "_diyCU7nk8Pq"
      },
      "source": [
        "## 데이터 로드"
      ]
    },
    {
      "cell_type": "code",
      "metadata": {
        "id": "Q0Y-OXXSgC22"
      },
      "source": [
        "DATA_PATH = '/content/drive/MyDrive/nlpdata/imdb/'\n",
        "TRAIN_INPUT_DATA = 'train_input.npy'\n",
        "TRAIN_LABEL_DATA = 'train_label.npy'\n",
        "DATA_CONFIGS = 'data_configs.json'"
      ],
      "execution_count": null,
      "outputs": []
    },
    {
      "cell_type": "code",
      "metadata": {
        "id": "0tyQd9OegS8A"
      },
      "source": [
        "train_input = np.load(open(DATA_PATH + TRAIN_INPUT_DATA, 'rb'))\n",
        "train_label = np.load(open(DATA_PATH + TRAIN_LABEL_DATA, 'rb'))\n",
        "prepro_configs = json.load(open(DATA_PATH + DATA_CONFIGS, 'r'))"
      ],
      "execution_count": null,
      "outputs": []
    },
    {
      "cell_type": "markdown",
      "metadata": {
        "id": "EIqJkNPlmF9L"
      },
      "source": [
        "## 모델 하이퍼파라메터 정의"
      ]
    },
    {
      "cell_type": "code",
      "metadata": {
        "id": "bHG993jmjjyN"
      },
      "source": [
        "BATCH_SIZE = 128\n",
        "NUM_EPOCHS = 5\n",
        "VALID_SPLIT = 0.2\n",
        "MAX_LEN = train_input.shape[1]\n",
        "\n",
        "kargs = {'model_name': 'rnn_classifier',\n",
        "        'vocab_size': prepro_configs['vocab_size'],\n",
        "        'embedding_dimension': 100,\n",
        "        'dropout_rate': 0.2,\n",
        "        'lstm_dimension': 150,\n",
        "        'dense_dimension': 150,\n",
        "        'output_dimension':1}"
      ],
      "execution_count": null,
      "outputs": []
    },
    {
      "cell_type": "markdown",
      "metadata": {
        "id": "yY4xgc3XmJuR"
      },
      "source": [
        "## 모델 구현"
      ]
    },
    {
      "cell_type": "code",
      "metadata": {
        "id": "rpmmtpQMjnDG"
      },
      "source": [
        "class RNNClassifier(tf.keras.Model):\n",
        "    def __init__(self, **kargs):\n",
        "        super(RNNClassifier, self).__init__(name=kargs['model_name'])\n",
        "        self.embedding = layers.Embedding(input_dim=kargs['vocab_size'],\n",
        "                                     output_dim=kargs['embedding_dimension'])\n",
        "        self.lstm_1_layer = tf.keras.layers.LSTM(kargs['lstm_dimension'], return_sequences=True)\n",
        "        self.lstm_2_layer = tf.keras.layers.LSTM(kargs['lstm_dimension'])\n",
        "        self.dropout = layers.Dropout(kargs['dropout_rate'])\n",
        "        self.fc1 = layers.Dense(units=kargs['dense_dimension'],\n",
        "                           activation=tf.keras.activations.tanh)\n",
        "        self.fc2 = layers.Dense(units=kargs['output_dimension'],\n",
        "                           activation=tf.keras.activations.sigmoid)\n",
        "    \n",
        "    def call(self, x):\n",
        "        x = self.embedding(x)\n",
        "        x = self.dropout(x)\n",
        "        x = self.lstm_1_layer(x)\n",
        "        x = self.lstm_2_layer(x)\n",
        "        x = self.dropout(x)\n",
        "        x = self.fc1(x)\n",
        "        x = self.dropout(x)\n",
        "        x = self.fc2(x)\n",
        "        \n",
        "        return x"
      ],
      "execution_count": null,
      "outputs": []
    },
    {
      "cell_type": "code",
      "metadata": {
        "id": "wCudoJeMjpYj"
      },
      "source": [
        "model = RNNClassifier(**kargs)\n",
        "model.compile(optimizer=tf.keras.optimizers.Adam(1e-4),\n",
        "              loss=tf.keras.losses.BinaryCrossentropy(),\n",
        "              metrics=['accuracy'])"
      ],
      "execution_count": null,
      "outputs": []
    },
    {
      "cell_type": "code",
      "metadata": {
        "id": "RgtBVrFpjrn9"
      },
      "source": [
        "checkpoint_path = DATA_PATH + '/weights_rnn.h5'\n",
        "# min_delta: the threshold that triggers the termination (acc should at least improve 0.0001)\n",
        "# patience: no improvment epochs (patience = 1, 1번 이상 개선이 없으면 종료)\n",
        "es = EarlyStopping(monitor='val_accuracy', min_delta=0.0001, patience=1)\n",
        "mc = ModelCheckpoint(checkpoint_path, monitor='val_accuracy', verbose=1, \n",
        "                     save_best_only=True, save_weights_only=True)"
      ],
      "execution_count": null,
      "outputs": []
    },
    {
      "cell_type": "code",
      "metadata": {
        "colab": {
          "base_uri": "https://localhost:8080/"
        },
        "id": "ch8VtlArjuX7",
        "outputId": "d4c77ce0-1014-463a-8506-cb1ad5516955"
      },
      "source": [
        "history = model.fit(train_input, train_label, batch_size=BATCH_SIZE, epochs=NUM_EPOCHS,\n",
        "                    validation_split=VALID_SPLIT, callbacks=[es, mc])"
      ],
      "execution_count": null,
      "outputs": [
        {
          "output_type": "stream",
          "text": [
            "Epoch 1/5\n",
            "157/157 [==============================] - 51s 109ms/step - loss: 0.6933 - accuracy: 0.4970 - val_loss: 0.6927 - val_accuracy: 0.5166\n",
            "\n",
            "Epoch 00001: val_accuracy improved from -inf to 0.51660, saving model to /content/drive/MyDrive/nlpdata/imdb/weights_rnn.h5\n",
            "Epoch 2/5\n",
            "157/157 [==============================] - 16s 103ms/step - loss: 0.6928 - accuracy: 0.5002 - val_loss: 0.6919 - val_accuracy: 0.5172\n",
            "\n",
            "Epoch 00002: val_accuracy improved from 0.51660 to 0.51720, saving model to /content/drive/MyDrive/nlpdata/imdb/weights_rnn.h5\n",
            "Epoch 3/5\n",
            "157/157 [==============================] - 16s 103ms/step - loss: 0.6527 - accuracy: 0.5632 - val_loss: 0.3367 - val_accuracy: 0.8568\n",
            "\n",
            "Epoch 00003: val_accuracy improved from 0.51720 to 0.85680, saving model to /content/drive/MyDrive/nlpdata/imdb/weights_rnn.h5\n",
            "Epoch 4/5\n",
            "157/157 [==============================] - 16s 103ms/step - loss: 0.2898 - accuracy: 0.8881 - val_loss: 0.2942 - val_accuracy: 0.8836\n",
            "\n",
            "Epoch 00004: val_accuracy improved from 0.85680 to 0.88360, saving model to /content/drive/MyDrive/nlpdata/imdb/weights_rnn.h5\n",
            "Epoch 5/5\n",
            "157/157 [==============================] - 16s 103ms/step - loss: 0.1613 - accuracy: 0.9472 - val_loss: 0.2974 - val_accuracy: 0.8872\n",
            "\n",
            "Epoch 00005: val_accuracy improved from 0.88360 to 0.88720, saving model to /content/drive/MyDrive/nlpdata/imdb/weights_rnn.h5\n"
          ],
          "name": "stdout"
        }
      ]
    },
    {
      "cell_type": "code",
      "metadata": {
        "colab": {
          "base_uri": "https://localhost:8080/",
          "height": 279
        },
        "id": "dhgYS60Hj0c7",
        "outputId": "b93d0cee-3bc4-48bf-edd4-9c25d9f66e05"
      },
      "source": [
        "plt.plot(history.history['accuracy'])\n",
        "plt.plot(history.history['val_accuracy'])\n",
        "plt.xlabel('Epochs')\n",
        "plt.ylabel('Accuracy')\n",
        "plt.legend(['accuracy', 'val_accuracy'])\n",
        "plt.show()"
      ],
      "execution_count": null,
      "outputs": [
        {
          "output_type": "display_data",
          "data": {
            "image/png": "[encoded data removed]",
            "text/plain": [
              "<Figure size 432x288 with 1 Axes>"
            ]
          },
          "metadata": {
            "tags": [],
            "needs_background": "light"
          }
        }
      ]
    },
    {
      "cell_type": "markdown",
      "metadata": {
        "id": "eKFjRt9uonGo"
      },
      "source": [
        "## 테스트 데이터 불러오기"
      ]
    },
    {
      "cell_type": "code",
      "metadata": {
        "id": "Mb0u7Ssaon2G"
      },
      "source": [
        "TEST_INPUT_DATA = 'test_input.npy'\n",
        "TEST_ID_DATA = 'test_id.npy'\n",
        "\n",
        "test_input = np.load(open(DATA_PATH + TEST_INPUT_DATA, 'rb'))\n",
        "test_input = pad_sequences(test_input, maxlen=test_input.shape[1])"
      ],
      "execution_count": null,
      "outputs": []
    },
    {
      "cell_type": "markdown",
      "metadata": {
        "id": "02NzjfUMowtQ"
      },
      "source": [
        "## 베스트 모델 불러오기"
      ]
    },
    {
      "cell_type": "code",
      "metadata": {
        "id": "XDW3mOuWoxeC"
      },
      "source": [
        "model.load_weights(os.path.join(DATA_PATH, 'weights_rnn.h5'))"
      ],
      "execution_count": null,
      "outputs": []
    },
    {
      "cell_type": "markdown",
      "metadata": {
        "id": "iUFWaucdo-ku"
      },
      "source": [
        "## 테스트 데이터 예측하기"
      ]
    },
    {
      "cell_type": "code",
      "metadata": {
        "id": "QpPyi2Bpo_lM"
      },
      "source": [
        "predictions = model.predict(test_input, batch_size=BATCH_SIZE)\n",
        "predictions = predictions.squeeze(-1)"
      ],
      "execution_count": null,
      "outputs": []
    },
    {
      "cell_type": "code",
      "metadata": {
        "id": "yqLmZx7NpBQE"
      },
      "source": [
        "test_id = np.load(open(DATA_PATH + TEST_ID_DATA, 'rb'), allow_pickle=True)\n",
        "\n",
        "output = pd.DataFrame(data={\"id\": list(test_id), \"sentiment\":list(predictions)})\n",
        "output.to_csv(DATA_PATH + 'answer_rnn.csv', index=False, quoting=3)"
      ],
      "execution_count": null,
      "outputs": []
    },
    {
      "cell_type": "markdown",
      "metadata": {
        "id": "_b2nJie0Pr30"
      },
      "source": [
        "## kgggle에 결과 제출 및 스코어 확인\n",
        "- https://www.kaggle.com/c/word2vec-nlp-tutorial|"
      ]
    }
  ]
}