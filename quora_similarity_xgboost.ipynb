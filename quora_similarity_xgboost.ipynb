{
  "nbformat": 4,
  "nbformat_minor": 0,
  "metadata": {
    "colab": {
      "name": "quora_similarity_xgboost.ipynb",
      "provenance": [],
      "collapsed_sections": [],
      "toc_visible": true
    },
    "kernelspec": {
      "name": "python3",
      "display_name": "Python 3"
    },
    "language_info": {
      "name": "python"
    }
  },
  "cells": [
    {
      "cell_type": "markdown",
      "metadata": {
        "id": "uN0Afh5_lqYg"
      },
      "source": [
        "# Quora Questions Pairs 유사도 - XGBoost\n",
        "- 데이터 전처리 : quora_preprocessing.ipynb"
      ]
    },
    {
      "cell_type": "markdown",
      "metadata": {
        "id": "mUvhgTA0l4Dz"
      },
      "source": [
        "## 구글 드라이브 마운트"
      ]
    },
    {
      "cell_type": "code",
      "metadata": {
        "colab": {
          "base_uri": "https://localhost:8080/"
        },
        "id": "1gM8R4qhlKuZ",
        "outputId": "ca1a99b5-1ab0-43bc-95cc-da4c6cd82ae8"
      },
      "source": [
        "from google.colab import drive\n",
        "drive.mount('/content/drive')"
      ],
      "execution_count": 18,
      "outputs": [
        {
          "output_type": "stream",
          "text": [
            "Drive already mounted at /content/drive; to attempt to forcibly remount, call drive.mount(\"/content/drive\", force_remount=True).\n"
          ],
          "name": "stdout"
        }
      ]
    },
    {
      "cell_type": "markdown",
      "metadata": {
        "id": "2Ynw5W0yl83-"
      },
      "source": [
        "## 라이브러리 임포트"
      ]
    },
    {
      "cell_type": "code",
      "metadata": {
        "id": "nYNCg0txl8b_"
      },
      "source": [
        "import os\n",
        "import json\n",
        "import numpy as np\n",
        "import pandas as pd\n",
        "from sklearn.model_selection  import train_test_split\n",
        "import xgboost as xgb"
      ],
      "execution_count": 19,
      "outputs": []
    },
    {
      "cell_type": "markdown",
      "metadata": {
        "id": "U9R7h1MWrx_F"
      },
      "source": [
        "## 학습 데이터 로드"
      ]
    },
    {
      "cell_type": "code",
      "metadata": {
        "id": "6j4tiqnzl6vC"
      },
      "source": [
        "DATA_PATH = '/content/drive/MyDrive/nlpdata/quora/'\n",
        "\n",
        "train_q1_data = np.load(open(DATA_PATH + 'train_q1.npy', 'rb'))\n",
        "train_q2_data = np.load(open(DATA_PATH + 'train_q2.npy', 'rb'))\n",
        "\n",
        "X = np.stack((train_q1_data, train_q2_data), axis=1) \n",
        "y = np.load(open(DATA_PATH + 'train_label.npy', 'rb'))"
      ],
      "execution_count": 20,
      "outputs": []
    },
    {
      "cell_type": "markdown",
      "metadata": {
        "id": "cu4kGP76mgoX"
      },
      "source": [
        "## 훈련 셋과 평가 셋 나누기¶"
      ]
    },
    {
      "cell_type": "code",
      "metadata": {
        "id": "5yJDHGpXmeYR"
      },
      "source": [
        "X_train, X_test, y_train, y_test = train_test_split(X, y, test_size=0.2, random_state=42)"
      ],
      "execution_count": 21,
      "outputs": []
    },
    {
      "cell_type": "markdown",
      "metadata": {
        "id": "5nQxabYTmoBf"
      },
      "source": [
        "## 모델 구성"
      ]
    },
    {
      "cell_type": "code",
      "metadata": {
        "id": "JheJHyxQmjwo"
      },
      "source": [
        "train_data = xgb.DMatrix(X_train.sum(axis=1), label=y_train) \n",
        "test_data = xgb.DMatrix(X_test.sum(axis=1), label=y_test) \n",
        "\n",
        "data_list = [(train_data, 'train'), (test_data, 'test')]"
      ],
      "execution_count": 22,
      "outputs": []
    },
    {
      "cell_type": "code",
      "metadata": {
        "colab": {
          "base_uri": "https://localhost:8080/"
        },
        "id": "F-GW6bXArVC7",
        "outputId": "d6f32e6c-0bc4-4b5c-cc26-380ea2262587"
      },
      "source": [
        "params = {}\n",
        "params['objective'] = 'binary:logistic'\n",
        "params['eval_metric'] = 'rmse'\n",
        "\n",
        "bst = xgb.train(params, train_data, num_boost_round = 100, evals = data_list, early_stopping_rounds=10)"
      ],
      "execution_count": 23,
      "outputs": [
        {
          "output_type": "stream",
          "text": [
            "[0]\ttrain-rmse:0.478236\ttest-rmse:0.478762\n",
            "Multiple eval metrics have been passed: 'test-rmse' will be used for early stopping.\n",
            "\n",
            "Will train until test-rmse hasn't improved in 10 rounds.\n",
            "[1]\ttrain-rmse:0.465608\ttest-rmse:0.466228\n",
            "[2]\ttrain-rmse:0.457886\ttest-rmse:0.458722\n",
            "[3]\ttrain-rmse:0.452842\ttest-rmse:0.453982\n",
            "[4]\ttrain-rmse:0.449562\ttest-rmse:0.450801\n",
            "[5]\ttrain-rmse:0.447257\ttest-rmse:0.448653\n",
            "[6]\ttrain-rmse:0.444446\ttest-rmse:0.44597\n",
            "[7]\ttrain-rmse:0.442999\ttest-rmse:0.444649\n",
            "[8]\ttrain-rmse:0.4413\ttest-rmse:0.443134\n",
            "[9]\ttrain-rmse:0.440273\ttest-rmse:0.442274\n",
            "[10]\ttrain-rmse:0.438797\ttest-rmse:0.440924\n",
            "[11]\ttrain-rmse:0.438153\ttest-rmse:0.440409\n",
            "[12]\ttrain-rmse:0.437116\ttest-rmse:0.43954\n",
            "[13]\ttrain-rmse:0.436382\ttest-rmse:0.438935\n",
            "[14]\ttrain-rmse:0.435964\ttest-rmse:0.438636\n",
            "[15]\ttrain-rmse:0.435485\ttest-rmse:0.438263\n",
            "[16]\ttrain-rmse:0.433116\ttest-rmse:0.436234\n",
            "[17]\ttrain-rmse:0.432833\ttest-rmse:0.436064\n",
            "[18]\ttrain-rmse:0.432391\ttest-rmse:0.435759\n",
            "[19]\ttrain-rmse:0.431282\ttest-rmse:0.434848\n",
            "[20]\ttrain-rmse:0.430282\ttest-rmse:0.433896\n",
            "[21]\ttrain-rmse:0.430046\ttest-rmse:0.433734\n",
            "[22]\ttrain-rmse:0.429882\ttest-rmse:0.433651\n",
            "[23]\ttrain-rmse:0.429398\ttest-rmse:0.433291\n",
            "[24]\ttrain-rmse:0.429207\ttest-rmse:0.433178\n",
            "[25]\ttrain-rmse:0.428913\ttest-rmse:0.432987\n",
            "[26]\ttrain-rmse:0.428641\ttest-rmse:0.432775\n",
            "[27]\ttrain-rmse:0.428303\ttest-rmse:0.432553\n",
            "[28]\ttrain-rmse:0.427827\ttest-rmse:0.432159\n",
            "[29]\ttrain-rmse:0.42757\ttest-rmse:0.431916\n",
            "[30]\ttrain-rmse:0.427121\ttest-rmse:0.431599\n",
            "[31]\ttrain-rmse:0.427031\ttest-rmse:0.43157\n",
            "[32]\ttrain-rmse:0.426697\ttest-rmse:0.431297\n",
            "[33]\ttrain-rmse:0.426589\ttest-rmse:0.431257\n",
            "[34]\ttrain-rmse:0.426475\ttest-rmse:0.431209\n",
            "[35]\ttrain-rmse:0.426373\ttest-rmse:0.431142\n",
            "[36]\ttrain-rmse:0.425981\ttest-rmse:0.430879\n",
            "[37]\ttrain-rmse:0.425692\ttest-rmse:0.430713\n",
            "[38]\ttrain-rmse:0.425433\ttest-rmse:0.430519\n",
            "[39]\ttrain-rmse:0.424949\ttest-rmse:0.430137\n",
            "[40]\ttrain-rmse:0.424739\ttest-rmse:0.430058\n",
            "[41]\ttrain-rmse:0.424324\ttest-rmse:0.429802\n",
            "[42]\ttrain-rmse:0.424233\ttest-rmse:0.429787\n",
            "[43]\ttrain-rmse:0.42416\ttest-rmse:0.429784\n",
            "[44]\ttrain-rmse:0.42395\ttest-rmse:0.429635\n",
            "[45]\ttrain-rmse:0.423823\ttest-rmse:0.429625\n",
            "[46]\ttrain-rmse:0.423329\ttest-rmse:0.429308\n",
            "[47]\ttrain-rmse:0.422894\ttest-rmse:0.429024\n",
            "[48]\ttrain-rmse:0.422254\ttest-rmse:0.428579\n",
            "[49]\ttrain-rmse:0.422004\ttest-rmse:0.428424\n",
            "[50]\ttrain-rmse:0.421968\ttest-rmse:0.428417\n",
            "[51]\ttrain-rmse:0.421804\ttest-rmse:0.428331\n",
            "[52]\ttrain-rmse:0.42145\ttest-rmse:0.428086\n",
            "[53]\ttrain-rmse:0.421375\ttest-rmse:0.428074\n",
            "[54]\ttrain-rmse:0.420841\ttest-rmse:0.42772\n",
            "[55]\ttrain-rmse:0.42064\ttest-rmse:0.427622\n",
            "[56]\ttrain-rmse:0.42048\ttest-rmse:0.427508\n",
            "[57]\ttrain-rmse:0.420291\ttest-rmse:0.427443\n",
            "[58]\ttrain-rmse:0.42024\ttest-rmse:0.427428\n",
            "[59]\ttrain-rmse:0.419861\ttest-rmse:0.427159\n",
            "[60]\ttrain-rmse:0.419815\ttest-rmse:0.427145\n",
            "[61]\ttrain-rmse:0.419664\ttest-rmse:0.42707\n",
            "[62]\ttrain-rmse:0.419532\ttest-rmse:0.427\n",
            "[63]\ttrain-rmse:0.419443\ttest-rmse:0.42697\n",
            "[64]\ttrain-rmse:0.419075\ttest-rmse:0.426805\n",
            "[65]\ttrain-rmse:0.418832\ttest-rmse:0.426705\n",
            "[66]\ttrain-rmse:0.418551\ttest-rmse:0.426553\n",
            "[67]\ttrain-rmse:0.418435\ttest-rmse:0.426497\n",
            "[68]\ttrain-rmse:0.418022\ttest-rmse:0.426247\n",
            "[69]\ttrain-rmse:0.417954\ttest-rmse:0.426234\n",
            "[70]\ttrain-rmse:0.41792\ttest-rmse:0.426229\n",
            "[71]\ttrain-rmse:0.417535\ttest-rmse:0.425983\n",
            "[72]\ttrain-rmse:0.417212\ttest-rmse:0.425808\n",
            "[73]\ttrain-rmse:0.416933\ttest-rmse:0.425673\n",
            "[74]\ttrain-rmse:0.416619\ttest-rmse:0.425512\n",
            "[75]\ttrain-rmse:0.416274\ttest-rmse:0.425352\n",
            "[76]\ttrain-rmse:0.415839\ttest-rmse:0.425003\n",
            "[77]\ttrain-rmse:0.415524\ttest-rmse:0.424818\n",
            "[78]\ttrain-rmse:0.415198\ttest-rmse:0.424719\n",
            "[79]\ttrain-rmse:0.414939\ttest-rmse:0.424552\n",
            "[80]\ttrain-rmse:0.414763\ttest-rmse:0.424503\n",
            "[81]\ttrain-rmse:0.414672\ttest-rmse:0.424485\n",
            "[82]\ttrain-rmse:0.414481\ttest-rmse:0.424388\n",
            "[83]\ttrain-rmse:0.414278\ttest-rmse:0.424286\n",
            "[84]\ttrain-rmse:0.414221\ttest-rmse:0.424282\n",
            "[85]\ttrain-rmse:0.414186\ttest-rmse:0.424284\n",
            "[86]\ttrain-rmse:0.414162\ttest-rmse:0.424273\n",
            "[87]\ttrain-rmse:0.413875\ttest-rmse:0.42411\n",
            "[88]\ttrain-rmse:0.413537\ttest-rmse:0.423889\n",
            "[89]\ttrain-rmse:0.413136\ttest-rmse:0.423631\n",
            "[90]\ttrain-rmse:0.412866\ttest-rmse:0.423537\n",
            "[91]\ttrain-rmse:0.412594\ttest-rmse:0.423417\n",
            "[92]\ttrain-rmse:0.412501\ttest-rmse:0.423376\n",
            "[93]\ttrain-rmse:0.412389\ttest-rmse:0.423346\n",
            "[94]\ttrain-rmse:0.412368\ttest-rmse:0.423349\n",
            "[95]\ttrain-rmse:0.41229\ttest-rmse:0.423332\n",
            "[96]\ttrain-rmse:0.411929\ttest-rmse:0.423126\n",
            "[97]\ttrain-rmse:0.411597\ttest-rmse:0.422953\n",
            "[98]\ttrain-rmse:0.411488\ttest-rmse:0.422916\n",
            "[99]\ttrain-rmse:0.411204\ttest-rmse:0.422796\n"
          ],
          "name": "stdout"
        }
      ]
    },
    {
      "cell_type": "markdown",
      "metadata": {
        "id": "lmGkblH8shWL"
      },
      "source": [
        "## 예측하기"
      ]
    },
    {
      "cell_type": "code",
      "metadata": {
        "id": "ChF7sI7swC0N"
      },
      "source": [
        "## 기존의 np.load를 np_load_old에 저장해둠.\n",
        "np_load_old = np.load\n",
        "\n",
        "## 기존의 parameter을 바꿔줌\n",
        "np.load = lambda *a,**k: np_load_old(*a, allow_pickle=True, **k)"
      ],
      "execution_count": 25,
      "outputs": []
    },
    {
      "cell_type": "code",
      "metadata": {
        "id": "7g33EyNKskK1"
      },
      "source": [
        "test_q1_data = np.load(open(DATA_PATH + 'test_q1.npy', 'rb'))\n",
        "test_q2_data = np.load(open(DATA_PATH + 'test_q2.npy''', 'rb'))\n",
        "test_id_data = np.load(open(DATA_PATH + 'test_id.npy', 'rb'))\n",
        "\n",
        "test_input = np.stack((test_q1_data, test_q2_data), axis=1) \n",
        "test_data = xgb.DMatrix(test_input.sum(axis=1))\n",
        "\n",
        "pred = bst.predict(test_data)"
      ],
      "execution_count": 26,
      "outputs": []
    },
    {
      "cell_type": "code",
      "metadata": {
        "id": "D9_AMw7CsyS6"
      },
      "source": [
        "output = pd.DataFrame({'test_id': test_id_data, 'is_duplicate': pred})\n",
        "output.to_csv(DATA_PATH + 'quora_xgb.csv', index=False)"
      ],
      "execution_count": 27,
      "outputs": []
    },
    {
      "cell_type": "markdown",
      "metadata": {
        "id": "eZrCehiitQTA"
      },
      "source": [
        "## kgggle에 결과 제출 및 스코어 확인\n",
        "- https://www.kaggle.com/c/quora-question-pairs"
      ]
    },
    {
      "cell_type": "code",
      "metadata": {
        "id": "bGcufy0_s-Ya"
      },
      "source": [
        ""
      ],
      "execution_count": null,
      "outputs": []
    }
  ]
}