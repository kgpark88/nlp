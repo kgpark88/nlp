{
  "nbformat": 4,
  "nbformat_minor": 0,
  "metadata": {
    "accelerator": "GPU",
    "colab": {
      "name": "nsmc_classification_rnn.ipynb",
      "provenance": [],
      "collapsed_sections": [],
      "toc_visible": true
    },
    "kernelspec": {
      "display_name": "Python 3",
      "language": "python",
      "name": "python3"
    },
    "language_info": {
      "codemirror_mode": {
        "name": "ipython",
        "version": 3
      },
      "file_extension": ".py",
      "mimetype": "text/x-python",
      "name": "python",
      "nbconvert_exporter": "python",
      "pygments_lexer": "ipython3",
      "version": "3.6.12"
    },
    "pycharm": {
      "stem_cell": {
        "cell_type": "raw",
        "metadata": {
          "collapsed": false
        },
        "source": []
      }
    }
  },
  "cells": [
    {
      "cell_type": "markdown",
      "metadata": {
        "id": "IzZmw9F9nVab"
      },
      "source": [
        "# 네이버 영화 리뷰 감성분류 모델 구현(RNN)\n",
        "- 데이터 전처리 : nsmc_preprocessing.ipynb"
      ]
    },
    {
      "cell_type": "markdown",
      "metadata": {
        "id": "AQVORZhu8r1G"
      },
      "source": [
        "## 라이브러리 임포트"
      ]
    },
    {
      "cell_type": "code",
      "metadata": {
        "id": "F4sELMwq8mF0"
      },
      "source": [
        "import os\n",
        "import json\n",
        "import numpy as np\n",
        "import pandas as pd\n",
        "from tqdm import tqdm\n",
        "import matplotlib.pyplot as plt\n",
        "\n",
        "import tensorflow as tf\n",
        "from tensorflow.keras import layers\n",
        "from tensorflow.keras.preprocessing.sequence import pad_sequences\n",
        "from tensorflow.keras.callbacks import EarlyStopping, ModelCheckpoint"
      ],
      "execution_count": 1,
      "outputs": []
    },
    {
      "cell_type": "markdown",
      "metadata": {
        "id": "2sehjcDc9CXt"
      },
      "source": [
        "## 구글 드라이브 마운트"
      ]
    },
    {
      "cell_type": "code",
      "metadata": {
        "id": "Ch6KYdkW9B0q",
        "colab": {
          "base_uri": "https://localhost:8080/"
        },
        "outputId": "e90ba351-27b0-4d0e-e59c-57eafaa7dc1a"
      },
      "source": [
        "from google.colab import drive\n",
        "drive.mount('/content/drive')"
      ],
      "execution_count": 2,
      "outputs": [
        {
          "output_type": "stream",
          "text": [
            "Mounted at /content/drive\n"
          ],
          "name": "stdout"
        }
      ]
    },
    {
      "cell_type": "markdown",
      "metadata": {
        "id": "4-DlE0Wz81dh"
      },
      "source": [
        "## 학습 데이터 로드"
      ]
    },
    {
      "cell_type": "code",
      "metadata": {
        "id": "nOKSrKbK8xn2"
      },
      "source": [
        "DATA_PATH = '/content/drive/MyDrive/nlpdata/nsmc/'\n",
        "\n",
        "train_input = np.load(open(DATA_PATH + 'train_input.npy', 'rb'))\n",
        "train_label = np.load(open(DATA_PATH + 'train_label.npy', 'rb'))\n",
        "prepro_configs = json.load(open(DATA_PATH + 'data_configs.json', 'r'))"
      ],
      "execution_count": 3,
      "outputs": []
    },
    {
      "cell_type": "markdown",
      "metadata": {
        "id": "LzcTgVn59jua"
      },
      "source": [
        "## 모델 하이퍼파라미터 정의"
      ]
    },
    {
      "cell_type": "code",
      "metadata": {
        "id": "r35h7bTS9aOg"
      },
      "source": [
        "model_name = 'nsmc_rnn'\n",
        "BATCH_SIZE = 128\n",
        "NUM_EPOCHS = 5\n",
        "VALID_SPLIT = 0.1\n",
        "MAX_LEN = train_input.shape[1]\n",
        "\n",
        "kargs = {'model_name': model_name,\n",
        "        'vocab_size': prepro_configs['vocab_size'],\n",
        "        'embedding_dimension': 100,\n",
        "        'dropout_rate': 0.2,\n",
        "        'lstm_dimension': 150,\n",
        "        'dense_dimension': 150,\n",
        "        'output_dimension':1}"
      ],
      "execution_count": 4,
      "outputs": []
    },
    {
      "cell_type": "markdown",
      "metadata": {
        "id": "VlgJqdk09sCC"
      },
      "source": [
        "## 모델 정의"
      ]
    },
    {
      "cell_type": "code",
      "metadata": {
        "id": "Jm4GWHzk9p6x"
      },
      "source": [
        "class RNNClassifier(tf.keras.Model):\n",
        "    def __init__(self, **kargs):\n",
        "        super(RNNClassifier, self).__init__(name=kargs['model_name'])\n",
        "        self.embedding = layers.Embedding(input_dim=kargs['vocab_size'],\n",
        "                                     output_dim=kargs['embedding_dimension'])\n",
        "        self.lstm_1_layer = tf.keras.layers.LSTM(kargs['lstm_dimension'], return_sequences=True)\n",
        "        self.lstm_2_layer = tf.keras.layers.LSTM(kargs['lstm_dimension'])\n",
        "        self.dropout = layers.Dropout(kargs['dropout_rate'])\n",
        "        self.fc1 = layers.Dense(units=kargs['dense_dimension'],\n",
        "                           activation=tf.keras.activations.tanh)\n",
        "        self.fc2 = layers.Dense(units=kargs['output_dimension'],\n",
        "                           activation=tf.keras.activations.sigmoid)\n",
        "    \n",
        "    def call(self, x):\n",
        "        x = self.embedding(x)\n",
        "        x = self.dropout(x)\n",
        "        x = self.lstm_1_layer(x)\n",
        "        x = self.lstm_2_layer(x)\n",
        "        x = self.dropout(x)\n",
        "        x = self.fc1(x)\n",
        "        x = self.dropout(x)\n",
        "        x = self.fc2(x)\n",
        "        \n",
        "        return x"
      ],
      "execution_count": 5,
      "outputs": []
    },
    {
      "cell_type": "code",
      "metadata": {
        "id": "KaAkHfGu91rb"
      },
      "source": [
        "model = RNNClassifier(**kargs)\n",
        "\n",
        "model.compile(optimizer='adam', loss='binary_crossentropy', metrics=['accuracy'])"
      ],
      "execution_count": 6,
      "outputs": []
    },
    {
      "cell_type": "code",
      "metadata": {
        "id": "faBwFBXW-Ii6"
      },
      "source": [
        "es = EarlyStopping(monitor='val_accuracy', min_delta=0.0001,patience=2)\n",
        "checkpoint_path = DATA_PATH + '/weights_rnn.h5'\n",
        "mc = ModelCheckpoint(checkpoint_path, monitor='val_accuracy', verbose=1, save_best_only=True, save_weights_only=True)"
      ],
      "execution_count": 7,
      "outputs": []
    },
    {
      "cell_type": "markdown",
      "metadata": {
        "id": "MIPMG4Ze-LRS"
      },
      "source": [
        "## 모델 학습 \n",
        "- GPU 사용 : 런타임 -> 런타임 유형 변경 -> GPU"
      ]
    },
    {
      "cell_type": "code",
      "metadata": {
        "id": "AkL0jMLE-L6O",
        "colab": {
          "base_uri": "https://localhost:8080/"
        },
        "outputId": "b2878557-99d2-4b74-ee7d-cc4f3032d534"
      },
      "source": [
        "history = model.fit(train_input, train_label, batch_size=BATCH_SIZE, epochs=NUM_EPOCHS,\n",
        "                    validation_split=VALID_SPLIT, callbacks=[es, mc])"
      ],
      "execution_count": 8,
      "outputs": [
        {
          "output_type": "stream",
          "text": [
            "Epoch 1/5\n",
            "1055/1055 [==============================] - 77s 40ms/step - loss: 0.4749 - accuracy: 0.7605 - val_loss: 0.3910 - val_accuracy: 0.8214\n",
            "\n",
            "Epoch 00001: val_accuracy improved from -inf to 0.82140, saving model to /content/drive/MyDrive/nlpdata/nsmc/weights_rnn.h5\n",
            "Epoch 2/5\n",
            "1055/1055 [==============================] - 41s 39ms/step - loss: 0.3325 - accuracy: 0.8521 - val_loss: 0.3832 - val_accuracy: 0.8239\n",
            "\n",
            "Epoch 00002: val_accuracy improved from 0.82140 to 0.82387, saving model to /content/drive/MyDrive/nlpdata/nsmc/weights_rnn.h5\n",
            "Epoch 3/5\n",
            "1055/1055 [==============================] - 41s 39ms/step - loss: 0.2795 - accuracy: 0.8801 - val_loss: 0.3993 - val_accuracy: 0.8255\n",
            "\n",
            "Epoch 00003: val_accuracy improved from 0.82387 to 0.82553, saving model to /content/drive/MyDrive/nlpdata/nsmc/weights_rnn.h5\n",
            "Epoch 4/5\n",
            "1055/1055 [==============================] - 42s 40ms/step - loss: 0.2351 - accuracy: 0.9031 - val_loss: 0.4374 - val_accuracy: 0.8211\n",
            "\n",
            "Epoch 00004: val_accuracy did not improve from 0.82553\n",
            "Epoch 5/5\n",
            "1055/1055 [==============================] - 41s 39ms/step - loss: 0.2023 - accuracy: 0.9176 - val_loss: 0.4869 - val_accuracy: 0.8152\n",
            "\n",
            "Epoch 00005: val_accuracy did not improve from 0.82553\n"
          ],
          "name": "stdout"
        }
      ]
    },
    {
      "cell_type": "markdown",
      "metadata": {
        "id": "6CGcAchR-qkC"
      },
      "source": [
        "## 결과 플롯"
      ]
    },
    {
      "cell_type": "code",
      "metadata": {
        "id": "t7sxEJCC-rZw",
        "colab": {
          "base_uri": "https://localhost:8080/",
          "height": 279
        },
        "outputId": "6d0bf030-4f30-4788-a947-6372356e82de"
      },
      "source": [
        "plt.plot(history.history['accuracy'])\n",
        "plt.plot(history.history['val_accuracy'])\n",
        "plt.xlabel(\"Epochs\")\n",
        "plt.ylabel('Accuracy')\n",
        "plt.legend(['accuracy', 'val_accuracy'])\n",
        "plt.show()"
      ],
      "execution_count": 9,
      "outputs": [
        {
          "output_type": "display_data",
          "data": {
            "image/png": "[encoded data removed]",
            "text/plain": [
              "<Figure size 432x288 with 1 Axes>"
            ]
          },
          "metadata": {
            "tags": [],
            "needs_background": "light"
          }
        }
      ]
    },
    {
      "cell_type": "markdown",
      "metadata": {
        "id": "TVF3O9LN-zaR"
      },
      "source": [
        "## 모델 평가"
      ]
    },
    {
      "cell_type": "code",
      "metadata": {
        "id": "ZEqg49WQ-7mh"
      },
      "source": [
        "test_input = np.load(open(DATA_PATH + 'test_input.npy', 'rb'))\n",
        "test_input = pad_sequences(test_input, maxlen=test_input.shape[1])\n",
        "test_label_data = np.load(open(DATA_PATH + 'test_label.npy', 'rb'))\n",
        "\n",
        "model.load_weights(os.path.join(DATA_PATH, 'weights_rnn.h5'))"
      ],
      "execution_count": 10,
      "outputs": []
    },
    {
      "cell_type": "code",
      "metadata": {
        "id": "ob5PgDjA_Syb",
        "colab": {
          "base_uri": "https://localhost:8080/"
        },
        "outputId": "536da7dc-ace1-4092-94a8-e43b45aa9f92"
      },
      "source": [
        "model.evaluate(test_input, test_label_data)"
      ],
      "execution_count": 11,
      "outputs": [
        {
          "output_type": "stream",
          "text": [
            "1563/1563 [==============================] - 5s 3ms/step - loss: 0.4029 - accuracy: 0.8242\n"
          ],
          "name": "stdout"
        },
        {
          "output_type": "execute_result",
          "data": {
            "text/plain": [
              "[0.4029069244861603, 0.8242200016975403]"
            ]
          },
          "metadata": {
            "tags": []
          },
          "execution_count": 11
        }
      ]
    }
  ]
}