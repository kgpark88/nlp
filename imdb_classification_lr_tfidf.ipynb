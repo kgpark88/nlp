{
  "nbformat": 4,
  "nbformat_minor": 0,
  "metadata": {
    "colab": {
      "name": "imdb_classification_lr_tfidf.ipynb",
      "provenance": [],
      "collapsed_sections": []
    },
    "kernelspec": {
      "name": "python3",
      "display_name": "Python 3"
    },
    "language_info": {
      "name": "python"
    }
  },
  "cells": [
    {
      "cell_type": "markdown",
      "metadata": {
        "id": "4vyWYHMxGrED"
      },
      "source": [
        "# IMDB 리뷰 감성 분류 : TF-IDF 활용 로지스틱 회귀모델\n",
        "- 데이터 전처리 : imdb_preprocessing.ipynb"
      ]
    },
    {
      "cell_type": "markdown",
      "metadata": {
        "id": "aNWx54PLYlic"
      },
      "source": [
        "## 라이브러리 임포트"
      ]
    },
    {
      "cell_type": "code",
      "metadata": {
        "id": "TUUjhzpKYhm1"
      },
      "source": [
        "import os\n",
        "import numpy as np\n",
        "import pandas as pd\n",
        "\n",
        "from sklearn.feature_extraction.text import TfidfVectorizer\n",
        "from sklearn.model_selection import train_test_split\n",
        "from sklearn.linear_model import LogisticRegression"
      ],
      "execution_count": 1,
      "outputs": []
    },
    {
      "cell_type": "code",
      "metadata": {
        "colab": {
          "base_uri": "https://localhost:8080/"
        },
        "id": "wHo8a7kEY7YZ",
        "outputId": "f4f2658e-399f-48ef-e062-65f2092a11fa"
      },
      "source": [
        "from google.colab import drive\n",
        "drive.mount('/content/drive')"
      ],
      "execution_count": 2,
      "outputs": [
        {
          "output_type": "stream",
          "text": [
            "Mounted at /content/drive\n"
          ],
          "name": "stdout"
        }
      ]
    },
    {
      "cell_type": "markdown",
      "metadata": {
        "id": "fLOpun1XHNzn"
      },
      "source": [
        "### TF-IDF 값으로 벡터화를 진행하므로 텍스트 데이터(train_clean.csv) 사용"
      ]
    },
    {
      "cell_type": "code",
      "metadata": {
        "id": "E8M1EzbLYg-L"
      },
      "source": [
        "DATA_PATH = '/content/drive/MyDrive/nlpdata/imdb/'\n",
        "TRAIN_CLEAN_DATA = 'train_clean.csv'"
      ],
      "execution_count": 3,
      "outputs": []
    },
    {
      "cell_type": "code",
      "metadata": {
        "id": "a-8RBI1VUkTq"
      },
      "source": [
        "train_data = pd.read_csv( DATA_PATH + TRAIN_CLEAN_DATA )"
      ],
      "execution_count": 4,
      "outputs": []
    },
    {
      "cell_type": "code",
      "metadata": {
        "id": "E66XAkHQUkQO"
      },
      "source": [
        "reviews = list(train_data['review'])\n",
        "sentiments = list(train_data['sentiment'])"
      ],
      "execution_count": 5,
      "outputs": []
    },
    {
      "cell_type": "code",
      "metadata": {
        "id": "5Qh5bi40UkNI"
      },
      "source": [
        "vectorizer = TfidfVectorizer(min_df = 0.0, analyzer=\"char\", sublinear_tf=True, ngram_range=(1,3), max_features=5000) \n",
        "\n",
        "X = vectorizer.fit_transform(reviews)\n",
        "y = np.array(sentiments)"
      ],
      "execution_count": 6,
      "outputs": []
    },
    {
      "cell_type": "code",
      "metadata": {
        "id": "XI44F8ynUkFV"
      },
      "source": [
        "features = vectorizer.get_feature_names()"
      ],
      "execution_count": 7,
      "outputs": []
    },
    {
      "cell_type": "markdown",
      "metadata": {
        "id": "Qah_y70KHSNV"
      },
      "source": [
        "## 학습과 검증 데이터셋 분리"
      ]
    },
    {
      "cell_type": "code",
      "metadata": {
        "id": "s4gqNYEoQbP2"
      },
      "source": [
        "X_train, X_test, y_train, y_test = train_test_split(X, y, test_size=0.3, random_state=42)"
      ],
      "execution_count": 8,
      "outputs": []
    },
    {
      "cell_type": "markdown",
      "metadata": {
        "id": "RYH4qoySHVRa"
      },
      "source": [
        "## 로지스틱 회귀 모델 선언 및 학습"
      ]
    },
    {
      "cell_type": "code",
      "metadata": {
        "id": "TtRti_uhZstY"
      },
      "source": [
        "lr = LogisticRegression(class_weight='balanced') \n",
        "lr.fit(X_train, y_train) "
      ],
      "execution_count": null,
      "outputs": []
    },
    {
      "cell_type": "code",
      "metadata": {
        "id": "G27K4gUaZyOE",
        "colab": {
          "base_uri": "https://localhost:8080/"
        },
        "outputId": "3bb46a22-f5ff-450e-b19d-b6af286d66bc"
      },
      "source": [
        "predicted = lr.predict(X_test)\n",
        "print(f\"Accuracy: {lr.score(X_test, y_test):.2f}\")"
      ],
      "execution_count": 10,
      "outputs": [
        {
          "output_type": "stream",
          "text": [
            "Accuracy: 0.86\n"
          ],
          "name": "stdout"
        }
      ]
    },
    {
      "cell_type": "code",
      "metadata": {
        "colab": {
          "base_uri": "https://localhost:8080/"
        },
        "id": "jFGDaEZMaHj-",
        "outputId": "c963620b-f73d-4ef3-b446-63f477fd9ed4"
      },
      "source": [
        "TEST_CLEAN_DATA = 'test_clean.csv'\n",
        "\n",
        "test_data = pd.read_csv(DATA_PATH + TEST_CLEAN_DATA)\n",
        "testDataVecs = vectorizer.transform(test_data['review'])\n",
        "test_predicted = lr.predict(testDataVecs)\n",
        "print(test_predicted)"
      ],
      "execution_count": 11,
      "outputs": [
        {
          "output_type": "stream",
          "text": [
            "[1 0 1 ... 0 1 0]\n"
          ],
          "name": "stdout"
        }
      ]
    },
    {
      "cell_type": "code",
      "metadata": {
        "id": "pMNiSD3qaUTZ"
      },
      "source": [
        "answer_dataset = pd.DataFrame({'id': test_data['id'], 'sentiment': test_predicted})\n",
        "answer_dataset.to_csv(DATA_PATH + 'answer_lr_tfidf.csv', index=False, quoting=3)"
      ],
      "execution_count": 12,
      "outputs": []
    },
    {
      "cell_type": "markdown",
      "metadata": {
        "id": "sW0Sg1ETOweV"
      },
      "source": [
        "## kgggle에 결과 제출 및 스코어 확인\n",
        "- https://www.kaggle.com/c/word2vec-nlp-tutorial"
      ]
    },
    {
      "cell_type": "code",
      "metadata": {
        "id": "JbycmicQIo6E"
      },
      "source": [
        ""
      ],
      "execution_count": null,
      "outputs": []
    }
  ]
}