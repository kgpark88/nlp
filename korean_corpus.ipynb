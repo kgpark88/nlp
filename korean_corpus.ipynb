{
  "nbformat": 4,
  "nbformat_minor": 0,
  "metadata": {
    "colab": {
      "name": "korean_corpus.ipynb",
      "provenance": [],
      "collapsed_sections": []
    },
    "kernelspec": {
      "name": "python3",
      "display_name": "Python 3"
    },
    "language_info": {
      "name": "python"
    }
  },
  "cells": [
    {
      "cell_type": "markdown",
      "metadata": {
        "id": "eEdAzymfxFlQ"
      },
      "source": [
        "# Korpora: Korean Corpora Archives\n",
        "https://github.com/ko-nlp/Korpora"
      ]
    },
    {
      "cell_type": "markdown",
      "metadata": {
        "id": "8TV9Gzf4xDmY"
      },
      "source": [
        "- Korpora는 오픈소스 파이썬 패키지입니다. \n",
        "- 기본적으로 파이썬 콘솔(console)에서 동작합니다."
      ]
    },
    {
      "cell_type": "markdown",
      "metadata": {
        "id": "Izu82LiX3SJx"
      },
      "source": [
        "## 구글 드라이브 마운트"
      ]
    },
    {
      "cell_type": "code",
      "metadata": {
        "colab": {
          "base_uri": "https://localhost:8080/"
        },
        "id": "TWpTLk1h3MDm",
        "outputId": "ef74de98-c239-4891-f372-fb2a036ed349"
      },
      "source": [
        "from google.colab import drive\n",
        "\n",
        "drive.mount('/content/drive')"
      ],
      "execution_count": 1,
      "outputs": [
        {
          "output_type": "stream",
          "text": [
            "Drive already mounted at /content/drive; to attempt to forcibly remount, call drive.mount(\"/content/drive\", force_remount=True).\n"
          ],
          "name": "stdout"
        }
      ]
    },
    {
      "cell_type": "markdown",
      "metadata": {
        "id": "7Hc2V0ZM5k7b"
      },
      "source": [
        "## 데이터 저장 디렉토리 생성"
      ]
    },
    {
      "cell_type": "code",
      "metadata": {
        "id": "KQJmcrEm5Mpa"
      },
      "source": [
        "import os\n",
        "DATA_PATH = '/content/drive/MyDrive/nlpdata/Korpora/'\n",
        "\n",
        "if not os.path.exists(DATA_PATH):\n",
        "    os.makedirs(DATA_PATH)"
      ],
      "execution_count": 2,
      "outputs": []
    },
    {
      "cell_type": "markdown",
      "metadata": {
        "id": "UM8nkF0SxW8-"
      },
      "source": [
        "## 설치"
      ]
    },
    {
      "cell_type": "code",
      "metadata": {
        "colab": {
          "base_uri": "https://localhost:8080/"
        },
        "id": "HKRjdvnPxA8H",
        "outputId": "9bb47847-5328-4ddb-c5ab-5c6d4306eaf0"
      },
      "source": [
        "! pip install Korpora"
      ],
      "execution_count": 3,
      "outputs": [
        {
          "output_type": "stream",
          "text": [
            "Collecting Korpora\n",
            "\u001b[?25l  Downloading https://files.pythonhosted.org/packages/1a/b1/5e563e23f1f705574bbeb55555e0cb95c9813e9396d654cd42709418ab66/Korpora-0.2.0-py3-none-any.whl (57kB)\n",
            "\r\u001b[K     |█████▊                          | 10kB 14.7MB/s eta 0:00:01\r\u001b[K     |███████████▍                    | 20kB 14.7MB/s eta 0:00:01\r\u001b[K     |█████████████████               | 30kB 18.7MB/s eta 0:00:01\r\u001b[K     |██████████████████████▊         | 40kB 21.8MB/s eta 0:00:01\r\u001b[K     |████████████████████████████▍   | 51kB 24.6MB/s eta 0:00:01\r\u001b[K     |████████████████████████████████| 61kB 7.0MB/s \n",
            "\u001b[?25hCollecting dataclasses>=0.6\n",
            "  Downloading https://files.pythonhosted.org/packages/26/2f/1095cdc2868052dd1e64520f7c0d5c8c550ad297e944e641dbf1ffbb9a5d/dataclasses-0.6-py3-none-any.whl\n",
            "Requirement already satisfied: numpy>=1.18.0 in /usr/local/lib/python3.7/dist-packages (from Korpora) (1.19.5)\n",
            "Requirement already satisfied: requests>=2.20.0 in /usr/local/lib/python3.7/dist-packages (from Korpora) (2.23.0)\n",
            "Collecting xlrd>=1.2.0\n",
            "\u001b[?25l  Downloading https://files.pythonhosted.org/packages/a6/0c/c2a72d51fe56e08a08acc85d13013558a2d793028ae7385448a6ccdfae64/xlrd-2.0.1-py2.py3-none-any.whl (96kB)\n",
            "\u001b[K     |████████████████████████████████| 102kB 7.7MB/s \n",
            "\u001b[?25hCollecting tqdm>=4.46.0\n",
            "\u001b[?25l  Downloading https://files.pythonhosted.org/packages/72/8a/34efae5cf9924328a8f34eeb2fdaae14c011462d9f0e3fcded48e1266d1c/tqdm-4.60.0-py2.py3-none-any.whl (75kB)\n",
            "\u001b[K     |████████████████████████████████| 81kB 8.0MB/s \n",
            "\u001b[?25hRequirement already satisfied: chardet<4,>=3.0.2 in /usr/local/lib/python3.7/dist-packages (from requests>=2.20.0->Korpora) (3.0.4)\n",
            "Requirement already satisfied: certifi>=2017.4.17 in /usr/local/lib/python3.7/dist-packages (from requests>=2.20.0->Korpora) (2020.12.5)\n",
            "Requirement already satisfied: urllib3!=1.25.0,!=1.25.1,<1.26,>=1.21.1 in /usr/local/lib/python3.7/dist-packages (from requests>=2.20.0->Korpora) (1.24.3)\n",
            "Requirement already satisfied: idna<3,>=2.5 in /usr/local/lib/python3.7/dist-packages (from requests>=2.20.0->Korpora) (2.10)\n",
            "Installing collected packages: dataclasses, xlrd, tqdm, Korpora\n",
            "  Found existing installation: xlrd 1.1.0\n",
            "    Uninstalling xlrd-1.1.0:\n",
            "      Successfully uninstalled xlrd-1.1.0\n",
            "  Found existing installation: tqdm 4.41.1\n",
            "    Uninstalling tqdm-4.41.1:\n",
            "      Successfully uninstalled tqdm-4.41.1\n",
            "Successfully installed Korpora-0.2.0 dataclasses-0.6 tqdm-4.60.0 xlrd-2.0.1\n"
          ],
          "name": "stdout"
        }
      ]
    },
    {
      "cell_type": "markdown",
      "metadata": {
        "id": "oqhENPysxfH7"
      },
      "source": [
        "## 말뭉치 목록 확인"
      ]
    },
    {
      "cell_type": "code",
      "metadata": {
        "id": "Xigh-V_PxVBp"
      },
      "source": [
        "from Korpora import Korpora\n",
        "\n",
        "Korpora.corpus_list()"
      ],
      "execution_count": null,
      "outputs": []
    },
    {
      "cell_type": "markdown",
      "metadata": {
        "id": "ZyhN-Hcay_de"
      },
      "source": [
        "## 챗봇 문답 페어\n",
        "- text : 질문\n",
        "- pair : 답변\n",
        "- label : 일상다반사 0, 이별(부정) 1, 사랑(긍정) 2"
      ]
    },
    {
      "cell_type": "code",
      "metadata": {
        "id": "gqoSdekA4vFG"
      },
      "source": [
        "from Korpora import Korpora\n",
        "\n",
        "Korpora.fetch(\"korean_chatbot_data\", root_dir=DATA_PATH)\n",
        "corpus = Korpora.load(\"korean_chatbot_data\")"
      ],
      "execution_count": null,
      "outputs": []
    },
    {
      "cell_type": "code",
      "metadata": {
        "id": "x0mCb7_DzPHk"
      },
      "source": [
        "corpus.train[0]"
      ],
      "execution_count": null,
      "outputs": []
    },
    {
      "cell_type": "code",
      "metadata": {
        "id": "RPuLbAQPzTut"
      },
      "source": [
        "corpus.train[0].text"
      ],
      "execution_count": null,
      "outputs": []
    },
    {
      "cell_type": "code",
      "metadata": {
        "id": "_7OWVYeYz2Y_"
      },
      "source": [
        "corpus.get_all_texts()"
      ],
      "execution_count": null,
      "outputs": []
    },
    {
      "cell_type": "markdown",
      "metadata": {
        "id": "SHi4Vm_30FHG"
      },
      "source": [
        "## KcBERT 댓글 데이터\n",
        "Huggingface의 Transformers 라이브러리로 사용할 수 있으므로, 파일 다운로드는 필요하지 않습니다.\n",
        "\n",
        "Pretrain Dataset(정제 데이터) 다운로드 : https://www.kaggle.com/junbumlee/kcbert-pretraining-corpus-korean-news-comments "
      ]
    },
    {
      "cell_type": "code",
      "metadata": {
        "id": "dYkPgrunxcYT"
      },
      "source": [
        "# from Korpora import Korpora\n",
        "\n",
        "# Korpora.fetch(\"kcbert\", root_dir=DATA_PATH)\n",
        "# corpus = Korpora.load(\"kcbert\")"
      ],
      "execution_count": null,
      "outputs": []
    },
    {
      "cell_type": "code",
      "metadata": {
        "id": "3MmODSvnxyyJ"
      },
      "source": [
        "# corpus = Korpora.load(\"kcbert\")"
      ],
      "execution_count": null,
      "outputs": []
    },
    {
      "cell_type": "code",
      "metadata": {
        "id": "ewfaE-2ZOS9T"
      },
      "source": [
        "# corpus.train[0]"
      ],
      "execution_count": null,
      "outputs": []
    },
    {
      "cell_type": "markdown",
      "metadata": {
        "id": "mcNfvXAj6tjc"
      },
      "source": [
        "## 한국어 혐오 데이터셋\n",
        "- text : 뉴스 댓글\n",
        "- title/pair : 뉴스 제목\n",
        "- gender_bias : 성적 차별 여부(True/False)\n",
        "- bias : 차별 종류(종교 인종 나이 외모 등)\n",
        "- hate : 특정 계층 혐오 여부(hate/none)"
      ]
    },
    {
      "cell_type": "code",
      "metadata": {
        "id": "tlBf5EBZywcI"
      },
      "source": [
        "from Korpora import Korpora\n",
        "\n",
        "Korpora.fetch(\"korean_hate_speech\", root_dir=DATA_PATH)\n",
        "corpus = Korpora.load(\"korean_hate_speech\")"
      ],
      "execution_count": null,
      "outputs": []
    },
    {
      "cell_type": "code",
      "metadata": {
        "colab": {
          "base_uri": "https://localhost:8080/"
        },
        "id": "WUZcdnkb_i7o",
        "outputId": "cdae832d-d0c6-421c-af20-6768148035d2"
      },
      "source": [
        "corpus.train[0]"
      ],
      "execution_count": 5,
      "outputs": [
        {
          "output_type": "execute_result",
          "data": {
            "text/plain": [
              "KoreanHateSpeechLabeledExample(text='(현재 호텔주인 심정) 아18 난 마른하늘에 날벼락맞고 호텔망하게생겼는데 누군 계속 추모받네....', title='\"밤새 조문 행렬…故 전미선, 동료들이 그리워하는 따뜻한 배우 [종합]\"', gender_bias='False', bias='others', hate='hate')"
            ]
          },
          "metadata": {
            "tags": []
          },
          "execution_count": 5
        }
      ]
    },
    {
      "cell_type": "markdown",
      "metadata": {
        "id": "Slls58SJ7qOO"
      },
      "source": [
        "## 청와대 국민청원\n",
        "- text : 청원 내용\n",
        "- category : 청원 범주\n",
        "- num_agree : 청원 동의 수\n",
        "- begin : 청원 시작일\n",
        "- end : 청원 종료일\n",
        "- title : 청원 제목"
      ]
    },
    {
      "cell_type": "code",
      "metadata": {
        "id": "xnxSMqZy7q9W"
      },
      "source": [
        "from Korpora import Korpora\n",
        "\n",
        "Korpora.fetch(\"korean_petitions\", root_dir=DATA_PATH)\n",
        "corpus = Korpora.load(\"korean_petitions\")"
      ],
      "execution_count": null,
      "outputs": []
    },
    {
      "cell_type": "code",
      "metadata": {
        "id": "oMCFX4H4_5KS"
      },
      "source": [
        "corpus.train[0]"
      ],
      "execution_count": null,
      "outputs": []
    },
    {
      "cell_type": "markdown",
      "metadata": {
        "id": "N2-FA5Yi8A35"
      },
      "source": [
        "## KorNLI\n",
        "- text : 문장\n",
        "- pair : text와 쌍이 되는 문장\n",
        "- label : text, pair 사이의 관계"
      ]
    },
    {
      "cell_type": "code",
      "metadata": {
        "id": "4zl-SXXI8Btg"
      },
      "source": [
        "from Korpora import Korpora\n",
        "\n",
        "Korpora.fetch(\"kornli\", root_dir=DATA_PATH)\n",
        "corpus = Korpora.load(\"kornli\")"
      ],
      "execution_count": null,
      "outputs": []
    },
    {
      "cell_type": "code",
      "metadata": {
        "id": "JuGKwBp5_6o9"
      },
      "source": [
        " corpus.multinli_train[0]"
      ],
      "execution_count": null,
      "outputs": []
    },
    {
      "cell_type": "markdown",
      "metadata": {
        "id": "HNGCK_em85UN"
      },
      "source": [
        "## KorSTS\n",
        "- text : 문장\n",
        "- pair : text와 쌍이 되는 문장\n",
        "- label : text, pair 사이의 관계\n",
        "- 기타 : 데이터 관련 추가 정보"
      ]
    },
    {
      "cell_type": "code",
      "metadata": {
        "id": "Y4UhP7yZ86Cx"
      },
      "source": [
        "from Korpora import Korpora\n",
        "\n",
        "Korpora.fetch(\"korsts\", root_dir=DATA_PATH)\n",
        "corpus = Korpora.load(\"korsts\")"
      ],
      "execution_count": null,
      "outputs": []
    },
    {
      "cell_type": "code",
      "metadata": {
        "id": "ju3EdKm6_8Po"
      },
      "source": [
        "corpus.train[0]"
      ],
      "execution_count": null,
      "outputs": []
    },
    {
      "cell_type": "markdown",
      "metadata": {
        "id": "_7XZaTL89JVX"
      },
      "source": [
        "## 한국어 위키 텍스트\n",
        "- text : 섹션 본문\n",
        "- pair : 섹션 타이틀"
      ]
    },
    {
      "cell_type": "code",
      "metadata": {
        "id": "KbGTn0Ra9J-S"
      },
      "source": [
        "from Korpora import Korpora\n",
        "\n",
        "Korpora.fetch(\"kowikitext\", root_dir=DATA_PATH)\n",
        "corpus = Korpora.load(\"kowikitext\")"
      ],
      "execution_count": null,
      "outputs": []
    },
    {
      "cell_type": "code",
      "metadata": {
        "colab": {
          "base_uri": "https://localhost:8080/"
        },
        "id": "qXfUeXZR_9tD",
        "outputId": "682d94e2-b0ab-4f61-f954-ecb3ec39f8d5"
      },
      "source": [
        "corpus.train[0]"
      ],
      "execution_count": 14,
      "outputs": [
        {
          "output_type": "execute_result",
          "data": {
            "text/plain": [
              "SentencePair(text='외교부장\\n외교부장', pair=' = 분류:중화인민공화국의 외교부장 =')"
            ]
          },
          "metadata": {
            "tags": []
          },
          "execution_count": 14
        }
      ]
    },
    {
      "cell_type": "markdown",
      "metadata": {
        "id": "-5fj7oEV9Se1"
      },
      "source": [
        "## 나무 위키 텍스트\n",
        "- text : 섹션 본문\n",
        "- pair : 섹션 타이틀"
      ]
    },
    {
      "cell_type": "code",
      "metadata": {
        "id": "RiDMVR8m9TJB"
      },
      "source": [
        "from Korpora import Korpora\n",
        "\n",
        "Korpora.fetch(\"namuwikitext\", root_dir=DATA_PATH)\n",
        "corpus = Korpora.load(\"namuwikitext\")"
      ],
      "execution_count": null,
      "outputs": []
    },
    {
      "cell_type": "code",
      "metadata": {
        "id": "3WpY_5giXKyQ"
      },
      "source": [
        "corpus.train[0]"
      ],
      "execution_count": null,
      "outputs": []
    },
    {
      "cell_type": "code",
      "metadata": {
        "colab": {
          "base_uri": "https://localhost:8080/",
          "height": 173
        },
        "id": "u8p8kfRgAA4M",
        "outputId": "88ad2198-3da3-450c-b3fc-b96a041949d2"
      },
      "source": [
        "corpus.train[0]"
      ],
      "execution_count": 1,
      "outputs": [
        {
          "output_type": "error",
          "ename": "NameError",
          "evalue": "ignored",
          "traceback": [
            "\u001b[0;31m---------------------------------------------------------------------------\u001b[0m",
            "\u001b[0;31mNameError\u001b[0m                                 Traceback (most recent call last)",
            "\u001b[0;32m<ipython-input-1-5a8dbf18236a>\u001b[0m in \u001b[0;36m<module>\u001b[0;34m()\u001b[0m\n\u001b[0;32m----> 1\u001b[0;31m \u001b[0mcorpus\u001b[0m\u001b[0;34m.\u001b[0m\u001b[0mtrain\u001b[0m\u001b[0;34m[\u001b[0m\u001b[0;36m0\u001b[0m\u001b[0;34m]\u001b[0m\u001b[0;34m\u001b[0m\u001b[0;34m\u001b[0m\u001b[0m\n\u001b[0m",
            "\u001b[0;31mNameError\u001b[0m: name 'corpus' is not defined"
          ]
        }
      ]
    },
    {
      "cell_type": "markdown",
      "metadata": {
        "id": "cFqkJI-M9YTA"
      },
      "source": [
        "## 네이버 x 창원대 NER 데이터"
      ]
    },
    {
      "cell_type": "code",
      "metadata": {
        "id": "XCm_3DQL9Y8p"
      },
      "source": [
        "from Korpora import Korpora\n",
        "\n",
        "Korpora.fetch(\"naver_changwon_ner\", root_dir=DATA_PATH)\n",
        "corpus = Korpora.load(\"naver_changwon_ner\")"
      ],
      "execution_count": null,
      "outputs": []
    },
    {
      "cell_type": "code",
      "metadata": {
        "id": "wEe5UeNfACHb"
      },
      "source": [
        "corpus.train[0]"
      ],
      "execution_count": null,
      "outputs": []
    },
    {
      "cell_type": "markdown",
      "metadata": {
        "id": "DJGMCnH09gXH"
      },
      "source": [
        "## NAVER Sentiment Movie Corpus"
      ]
    },
    {
      "cell_type": "code",
      "metadata": {
        "id": "BADu4b6_9hFq"
      },
      "source": [
        "from Korpora import Korpora\n",
        "\n",
        "Korpora.fetch(\"nsmc\", root_dir=DATA_PATH)\n",
        "corpus = Korpora.load(\"nsmc\")"
      ],
      "execution_count": null,
      "outputs": []
    },
    {
      "cell_type": "code",
      "metadata": {
        "id": "6l3LgciUADR8"
      },
      "source": [
        "corpus.train[0]"
      ],
      "execution_count": null,
      "outputs": []
    },
    {
      "cell_type": "markdown",
      "metadata": {
        "id": "KnnjdGkP9pT6"
      },
      "source": [
        "## 한국어 질문쌍\n"
      ]
    },
    {
      "cell_type": "code",
      "metadata": {
        "id": "l0yzgtuX9p1r"
      },
      "source": [
        "from Korpora import Korpora\n",
        "\n",
        "Korpora.fetch(\"question_pair\", root_dir=DATA_PATH)\n",
        "corpus = Korpora.load(\"question_pair\")"
      ],
      "execution_count": null,
      "outputs": []
    },
    {
      "cell_type": "code",
      "metadata": {
        "id": "wylIs_DTAEYj"
      },
      "source": [
        "corpus.train[0]"
      ],
      "execution_count": null,
      "outputs": []
    },
    {
      "cell_type": "markdown",
      "metadata": {
        "id": "nwgn_pCI9vWz"
      },
      "source": [
        "## 한영 병렬 말뭉치"
      ]
    },
    {
      "cell_type": "code",
      "metadata": {
        "id": "o8pCtiX-9v4w"
      },
      "source": [
        "from Korpora import Korpora\n",
        "\n",
        "Korpora.fetch(\"korean_parallel_koen_news\", root_dir=DATA_PATH)\n",
        "corpus = Korpora.load(\"korean_parallel_koen_news\")"
      ],
      "execution_count": null,
      "outputs": []
    },
    {
      "cell_type": "code",
      "metadata": {
        "id": "0D8FYQGOAFtt"
      },
      "source": [
        "corpus.train[0]"
      ],
      "execution_count": null,
      "outputs": []
    },
    {
      "cell_type": "markdown",
      "metadata": {
        "id": "fYk-1Q8Q93lV"
      },
      "source": [
        "## 모두의 말뭉치\n",
        "- 신문 : modu_news\n",
        "- 메신저 : modu_messenger\n",
        "- 형태분석 : modu_mp\n",
        "- 개체명 : modu_ne\n",
        "- 구어 : modu_spoken\n",
        "- 문어 : modu_written\n",
        "- 웹 : modu_web\n"
      ]
    },
    {
      "cell_type": "code",
      "metadata": {
        "id": "cXyxJ7qp93BB"
      },
      "source": [
        "from Korpora import Korpora\n",
        "\n",
        "Korpora.fetch(\"modu_news\", root_dir=DATA_PATH)\n",
        "corpus = Korpora.load(\"modu_news\")"
      ],
      "execution_count": null,
      "outputs": []
    },
    {
      "cell_type": "code",
      "metadata": {
        "id": "H-rqvLHSAGpt"
      },
      "source": [
        "corpus.train[0]"
      ],
      "execution_count": null,
      "outputs": []
    },
    {
      "cell_type": "markdown",
      "metadata": {
        "id": "6bLMFiHB-ivY"
      },
      "source": [
        "## AI Hub 한국어-영어 번역 말뭉치"
      ]
    },
    {
      "cell_type": "code",
      "metadata": {
        "id": "wmX92_0l-jXO"
      },
      "source": [
        "from Korpora import Korpora\n",
        "\n",
        "Korpora.fetch(\"aihub_translation\", root_dir=DATA_PATH)\n",
        "corpus = Korpora.load(\"aihub_translation\")"
      ],
      "execution_count": null,
      "outputs": []
    },
    {
      "cell_type": "code",
      "metadata": {
        "id": "SxOHPQTBAH3r"
      },
      "source": [
        "corpus.train[0]"
      ],
      "execution_count": null,
      "outputs": []
    },
    {
      "cell_type": "markdown",
      "metadata": {
        "id": "qOuwyF_m-qQJ"
      },
      "source": [
        "## 영화 자막 한영 병렬 말뭉치"
      ]
    },
    {
      "cell_type": "code",
      "metadata": {
        "id": "5h8mbp9F-uB-"
      },
      "source": [
        "from Korpora import Korpora\n",
        "\n",
        "Korpora.fetch(\"open_substitles\", root_dir=DATA_PATH)\n",
        "corpus = Korpora.load(\"open_substitles\")"
      ],
      "execution_count": null,
      "outputs": []
    },
    {
      "cell_type": "code",
      "metadata": {
        "id": "0a0wrIofAJEG"
      },
      "source": [
        "corpus.train[0]"
      ],
      "execution_count": null,
      "outputs": []
    },
    {
      "cell_type": "markdown",
      "metadata": {
        "id": "0QQtQys8_InG"
      },
      "source": [
        "# 말뭉치 데이터 삭제"
      ]
    },
    {
      "cell_type": "code",
      "metadata": {
        "id": "a1H0Cu8M_NAC"
      },
      "source": [
        "print(DATA_PATH)"
      ],
      "execution_count": null,
      "outputs": []
    },
    {
      "cell_type": "code",
      "metadata": {
        "id": "Ncm-z-wf_R4Y"
      },
      "source": [
        "! \\rm -rf /content/drive/MyDrive/nlpdata/Korpora\n",
        "! \\rm -rf /root/Korpora\n",
        "\n",
        "! mkdir /content/drive/MyDrive/nlpdata/Korpora"
      ],
      "execution_count": null,
      "outputs": []
    },
    {
      "cell_type": "code",
      "metadata": {
        "id": "t_dMj-VID1_i"
      },
      "source": [
        ""
      ],
      "execution_count": null,
      "outputs": []
    }
  ]
}